{
 "cells": [
  {
   "cell_type": "markdown",
   "metadata": {},
   "source": [
    "<h1>KNN</h1><br>\n",
    "iris 자료를 분석하기 위해 KNN 사용"
   ]
  },
  {
   "cell_type": "code",
   "execution_count": 1,
   "metadata": {},
   "outputs": [
    {
     "data": {
      "text/html": [
       "<table>\n",
       "<thead><tr><th scope=col>Sepal.Length</th><th scope=col>Sepal.Width</th><th scope=col>Petal.Length</th><th scope=col>Petal.Width</th><th scope=col>Species</th></tr></thead>\n",
       "<tbody>\n",
       "\t<tr><td>5.1   </td><td>3.5   </td><td>1.4   </td><td>0.2   </td><td>setosa</td></tr>\n",
       "\t<tr><td>4.9   </td><td>3.0   </td><td>1.4   </td><td>0.2   </td><td>setosa</td></tr>\n",
       "\t<tr><td>4.7   </td><td>3.2   </td><td>1.3   </td><td>0.2   </td><td>setosa</td></tr>\n",
       "\t<tr><td>4.6   </td><td>3.1   </td><td>1.5   </td><td>0.2   </td><td>setosa</td></tr>\n",
       "\t<tr><td>5.0   </td><td>3.6   </td><td>1.4   </td><td>0.2   </td><td>setosa</td></tr>\n",
       "\t<tr><td>5.4   </td><td>3.9   </td><td>1.7   </td><td>0.4   </td><td>setosa</td></tr>\n",
       "\t<tr><td>4.6   </td><td>3.4   </td><td>1.4   </td><td>0.3   </td><td>setosa</td></tr>\n",
       "\t<tr><td>5.0   </td><td>3.4   </td><td>1.5   </td><td>0.2   </td><td>setosa</td></tr>\n",
       "\t<tr><td>4.4   </td><td>2.9   </td><td>1.4   </td><td>0.2   </td><td>setosa</td></tr>\n",
       "\t<tr><td>4.9   </td><td>3.1   </td><td>1.5   </td><td>0.1   </td><td>setosa</td></tr>\n",
       "</tbody>\n",
       "</table>\n"
      ],
      "text/latex": [
       "\\begin{tabular}{r|lllll}\n",
       " Sepal.Length & Sepal.Width & Petal.Length & Petal.Width & Species\\\\\n",
       "\\hline\n",
       "\t 5.1    & 3.5    & 1.4    & 0.2    & setosa\\\\\n",
       "\t 4.9    & 3.0    & 1.4    & 0.2    & setosa\\\\\n",
       "\t 4.7    & 3.2    & 1.3    & 0.2    & setosa\\\\\n",
       "\t 4.6    & 3.1    & 1.5    & 0.2    & setosa\\\\\n",
       "\t 5.0    & 3.6    & 1.4    & 0.2    & setosa\\\\\n",
       "\t 5.4    & 3.9    & 1.7    & 0.4    & setosa\\\\\n",
       "\t 4.6    & 3.4    & 1.4    & 0.3    & setosa\\\\\n",
       "\t 5.0    & 3.4    & 1.5    & 0.2    & setosa\\\\\n",
       "\t 4.4    & 2.9    & 1.4    & 0.2    & setosa\\\\\n",
       "\t 4.9    & 3.1    & 1.5    & 0.1    & setosa\\\\\n",
       "\\end{tabular}\n"
      ],
      "text/markdown": [
       "\n",
       "Sepal.Length | Sepal.Width | Petal.Length | Petal.Width | Species | \n",
       "|---|---|---|---|---|---|---|---|---|---|\n",
       "| 5.1    | 3.5    | 1.4    | 0.2    | setosa | \n",
       "| 4.9    | 3.0    | 1.4    | 0.2    | setosa | \n",
       "| 4.7    | 3.2    | 1.3    | 0.2    | setosa | \n",
       "| 4.6    | 3.1    | 1.5    | 0.2    | setosa | \n",
       "| 5.0    | 3.6    | 1.4    | 0.2    | setosa | \n",
       "| 5.4    | 3.9    | 1.7    | 0.4    | setosa | \n",
       "| 4.6    | 3.4    | 1.4    | 0.3    | setosa | \n",
       "| 5.0    | 3.4    | 1.5    | 0.2    | setosa | \n",
       "| 4.4    | 2.9    | 1.4    | 0.2    | setosa | \n",
       "| 4.9    | 3.1    | 1.5    | 0.1    | setosa | \n",
       "\n",
       "\n"
      ],
      "text/plain": [
       "   Sepal.Length Sepal.Width Petal.Length Petal.Width Species\n",
       "1  5.1          3.5         1.4          0.2         setosa \n",
       "2  4.9          3.0         1.4          0.2         setosa \n",
       "3  4.7          3.2         1.3          0.2         setosa \n",
       "4  4.6          3.1         1.5          0.2         setosa \n",
       "5  5.0          3.6         1.4          0.2         setosa \n",
       "6  5.4          3.9         1.7          0.4         setosa \n",
       "7  4.6          3.4         1.4          0.3         setosa \n",
       "8  5.0          3.4         1.5          0.2         setosa \n",
       "9  4.4          2.9         1.4          0.2         setosa \n",
       "10 4.9          3.1         1.5          0.1         setosa "
      ]
     },
     "metadata": {},
     "output_type": "display_data"
    }
   ],
   "source": [
    "data(iris)\n",
    "head(iris, n=10) #10개 행 출력"
   ]
  },
  {
   "cell_type": "code",
   "execution_count": 2,
   "metadata": {},
   "outputs": [],
   "source": [
    "#iris 데이터 집합을 train, test 데이터로 나눔\n",
    "set.seed(9567)\n",
    "idx <- sample(nrow(iris), size = nrow(iris)*0.75)\n",
    "train <- iris[idx, ]\n",
    "test<- iris[-idx,]"
   ]
  },
  {
   "cell_type": "code",
   "execution_count": 3,
   "metadata": {},
   "outputs": [
    {
     "data": {
      "text/html": [
       "<ol class=list-inline>\n",
       "\t<li>112</li>\n",
       "\t<li>5</li>\n",
       "</ol>\n"
      ],
      "text/latex": [
       "\\begin{enumerate*}\n",
       "\\item 112\n",
       "\\item 5\n",
       "\\end{enumerate*}\n"
      ],
      "text/markdown": [
       "1. 112\n",
       "2. 5\n",
       "\n",
       "\n"
      ],
      "text/plain": [
       "[1] 112   5"
      ]
     },
     "metadata": {},
     "output_type": "display_data"
    },
    {
     "data": {
      "text/html": [
       "<ol class=list-inline>\n",
       "\t<li>38</li>\n",
       "\t<li>5</li>\n",
       "</ol>\n"
      ],
      "text/latex": [
       "\\begin{enumerate*}\n",
       "\\item 38\n",
       "\\item 5\n",
       "\\end{enumerate*}\n"
      ],
      "text/markdown": [
       "1. 38\n",
       "2. 5\n",
       "\n",
       "\n"
      ],
      "text/plain": [
       "[1] 38  5"
      ]
     },
     "metadata": {},
     "output_type": "display_data"
    },
    {
     "data": {
      "text/plain": [
       "\n",
       "    setosa versicolor  virginica \n",
       "        34         41         37 "
      ]
     },
     "metadata": {},
     "output_type": "display_data"
    },
    {
     "data": {
      "text/plain": [
       "\n",
       "    setosa versicolor  virginica \n",
       "        16          9         13 "
      ]
     },
     "metadata": {},
     "output_type": "display_data"
    }
   ],
   "source": [
    "#데이터 집합 갯수와 차원 , 빈도확인\n",
    "dim(train)    #갯수, 차원 \n",
    "dim(test)\n",
    "table(train$Species)  #빈도\n",
    "table(test$Species)"
   ]
  },
  {
   "cell_type": "code",
   "execution_count": 4,
   "metadata": {},
   "outputs": [
    {
     "data": {
      "text/html": [
       "<ol class=list-inline>\n",
       "\t<li>setosa</li>\n",
       "\t<li>setosa</li>\n",
       "\t<li>setosa</li>\n",
       "\t<li>setosa</li>\n",
       "\t<li>setosa</li>\n",
       "\t<li>setosa</li>\n",
       "\t<li>setosa</li>\n",
       "\t<li>setosa</li>\n",
       "\t<li>setosa</li>\n",
       "\t<li>setosa</li>\n",
       "\t<li>setosa</li>\n",
       "\t<li>setosa</li>\n",
       "\t<li>setosa</li>\n",
       "\t<li>setosa</li>\n",
       "\t<li>setosa</li>\n",
       "\t<li>setosa</li>\n",
       "\t<li>versicolor</li>\n",
       "\t<li>versicolor</li>\n",
       "\t<li>versicolor</li>\n",
       "\t<li>versicolor</li>\n",
       "\t<li>virginica</li>\n",
       "\t<li>versicolor</li>\n",
       "\t<li>virginica</li>\n",
       "\t<li>versicolor</li>\n",
       "\t<li>versicolor</li>\n",
       "\t<li>virginica</li>\n",
       "\t<li>virginica</li>\n",
       "\t<li>versicolor</li>\n",
       "\t<li>versicolor</li>\n",
       "\t<li>virginica</li>\n",
       "\t<li>virginica</li>\n",
       "\t<li>virginica</li>\n",
       "\t<li>virginica</li>\n",
       "\t<li>virginica</li>\n",
       "\t<li>virginica</li>\n",
       "\t<li>virginica</li>\n",
       "\t<li>virginica</li>\n",
       "\t<li>virginica</li>\n",
       "</ol>\n"
      ],
      "text/latex": [
       "\\begin{enumerate*}\n",
       "\\item setosa\n",
       "\\item setosa\n",
       "\\item setosa\n",
       "\\item setosa\n",
       "\\item setosa\n",
       "\\item setosa\n",
       "\\item setosa\n",
       "\\item setosa\n",
       "\\item setosa\n",
       "\\item setosa\n",
       "\\item setosa\n",
       "\\item setosa\n",
       "\\item setosa\n",
       "\\item setosa\n",
       "\\item setosa\n",
       "\\item setosa\n",
       "\\item versicolor\n",
       "\\item versicolor\n",
       "\\item versicolor\n",
       "\\item versicolor\n",
       "\\item virginica\n",
       "\\item versicolor\n",
       "\\item virginica\n",
       "\\item versicolor\n",
       "\\item versicolor\n",
       "\\item virginica\n",
       "\\item virginica\n",
       "\\item versicolor\n",
       "\\item versicolor\n",
       "\\item virginica\n",
       "\\item virginica\n",
       "\\item virginica\n",
       "\\item virginica\n",
       "\\item virginica\n",
       "\\item virginica\n",
       "\\item virginica\n",
       "\\item virginica\n",
       "\\item virginica\n",
       "\\end{enumerate*}\n"
      ],
      "text/markdown": [
       "1. setosa\n",
       "2. setosa\n",
       "3. setosa\n",
       "4. setosa\n",
       "5. setosa\n",
       "6. setosa\n",
       "7. setosa\n",
       "8. setosa\n",
       "9. setosa\n",
       "10. setosa\n",
       "11. setosa\n",
       "12. setosa\n",
       "13. setosa\n",
       "14. setosa\n",
       "15. setosa\n",
       "16. setosa\n",
       "17. versicolor\n",
       "18. versicolor\n",
       "19. versicolor\n",
       "20. versicolor\n",
       "21. virginica\n",
       "22. versicolor\n",
       "23. virginica\n",
       "24. versicolor\n",
       "25. versicolor\n",
       "26. virginica\n",
       "27. virginica\n",
       "28. versicolor\n",
       "29. versicolor\n",
       "30. virginica\n",
       "31. virginica\n",
       "32. virginica\n",
       "33. virginica\n",
       "34. virginica\n",
       "35. virginica\n",
       "36. virginica\n",
       "37. virginica\n",
       "38. virginica\n",
       "\n",
       "\n"
      ],
      "text/plain": [
       " [1] setosa     setosa     setosa     setosa     setosa     setosa    \n",
       " [7] setosa     setosa     setosa     setosa     setosa     setosa    \n",
       "[13] setosa     setosa     setosa     setosa     versicolor versicolor\n",
       "[19] versicolor versicolor virginica  versicolor virginica  versicolor\n",
       "[25] versicolor virginica  virginica  versicolor versicolor virginica \n",
       "[31] virginica  virginica  virginica  virginica  virginica  virginica \n",
       "[37] virginica  virginica \n",
       "attr(,\"prob\")\n",
       " [1] 1 1 1 1 1 1 1 1 1 1 1 1 1 1 1 1 1 1 1 1 1 1 1 1 1 1 1 1 1 1 1 1 1 1 1 1 1 1\n",
       "Levels: setosa versicolor virginica"
      ]
     },
     "metadata": {},
     "output_type": "display_data"
    },
    {
     "data": {
      "text/html": [
       "<ol class=list-inline>\n",
       "\t<li>setosa</li>\n",
       "\t<li>setosa</li>\n",
       "\t<li>setosa</li>\n",
       "\t<li>setosa</li>\n",
       "\t<li>setosa</li>\n",
       "\t<li>setosa</li>\n",
       "\t<li>setosa</li>\n",
       "\t<li>setosa</li>\n",
       "\t<li>setosa</li>\n",
       "\t<li>setosa</li>\n",
       "\t<li>setosa</li>\n",
       "\t<li>setosa</li>\n",
       "\t<li>setosa</li>\n",
       "\t<li>setosa</li>\n",
       "\t<li>setosa</li>\n",
       "\t<li>setosa</li>\n",
       "\t<li>versicolor</li>\n",
       "\t<li>versicolor</li>\n",
       "\t<li>versicolor</li>\n",
       "\t<li>versicolor</li>\n",
       "\t<li>virginica</li>\n",
       "\t<li>versicolor</li>\n",
       "\t<li>virginica</li>\n",
       "\t<li>versicolor</li>\n",
       "\t<li>versicolor</li>\n",
       "\t<li>virginica</li>\n",
       "\t<li>virginica</li>\n",
       "\t<li>versicolor</li>\n",
       "\t<li>versicolor</li>\n",
       "\t<li>virginica</li>\n",
       "\t<li>virginica</li>\n",
       "\t<li>virginica</li>\n",
       "\t<li>virginica</li>\n",
       "\t<li>virginica</li>\n",
       "\t<li>virginica</li>\n",
       "\t<li>virginica</li>\n",
       "\t<li>virginica</li>\n",
       "\t<li>virginica</li>\n",
       "</ol>\n"
      ],
      "text/latex": [
       "\\begin{enumerate*}\n",
       "\\item setosa\n",
       "\\item setosa\n",
       "\\item setosa\n",
       "\\item setosa\n",
       "\\item setosa\n",
       "\\item setosa\n",
       "\\item setosa\n",
       "\\item setosa\n",
       "\\item setosa\n",
       "\\item setosa\n",
       "\\item setosa\n",
       "\\item setosa\n",
       "\\item setosa\n",
       "\\item setosa\n",
       "\\item setosa\n",
       "\\item setosa\n",
       "\\item versicolor\n",
       "\\item versicolor\n",
       "\\item versicolor\n",
       "\\item versicolor\n",
       "\\item virginica\n",
       "\\item versicolor\n",
       "\\item virginica\n",
       "\\item versicolor\n",
       "\\item versicolor\n",
       "\\item virginica\n",
       "\\item virginica\n",
       "\\item versicolor\n",
       "\\item versicolor\n",
       "\\item virginica\n",
       "\\item virginica\n",
       "\\item virginica\n",
       "\\item virginica\n",
       "\\item virginica\n",
       "\\item virginica\n",
       "\\item virginica\n",
       "\\item virginica\n",
       "\\item virginica\n",
       "\\end{enumerate*}\n"
      ],
      "text/markdown": [
       "1. setosa\n",
       "2. setosa\n",
       "3. setosa\n",
       "4. setosa\n",
       "5. setosa\n",
       "6. setosa\n",
       "7. setosa\n",
       "8. setosa\n",
       "9. setosa\n",
       "10. setosa\n",
       "11. setosa\n",
       "12. setosa\n",
       "13. setosa\n",
       "14. setosa\n",
       "15. setosa\n",
       "16. setosa\n",
       "17. versicolor\n",
       "18. versicolor\n",
       "19. versicolor\n",
       "20. versicolor\n",
       "21. virginica\n",
       "22. versicolor\n",
       "23. virginica\n",
       "24. versicolor\n",
       "25. versicolor\n",
       "26. virginica\n",
       "27. virginica\n",
       "28. versicolor\n",
       "29. versicolor\n",
       "30. virginica\n",
       "31. virginica\n",
       "32. virginica\n",
       "33. virginica\n",
       "34. virginica\n",
       "35. virginica\n",
       "36. virginica\n",
       "37. virginica\n",
       "38. virginica\n",
       "\n",
       "\n"
      ],
      "text/plain": [
       " [1] setosa     setosa     setosa     setosa     setosa     setosa    \n",
       " [7] setosa     setosa     setosa     setosa     setosa     setosa    \n",
       "[13] setosa     setosa     setosa     setosa     versicolor versicolor\n",
       "[19] versicolor versicolor virginica  versicolor virginica  versicolor\n",
       "[25] versicolor virginica  virginica  versicolor versicolor virginica \n",
       "[31] virginica  virginica  virginica  virginica  virginica  virginica \n",
       "[37] virginica  virginica \n",
       "attr(,\"prob\")\n",
       " [1] 1 1 1 1 1 1 1 1 1 1 1 1 1 1 1 1 1 1 1 1 1 1 1 1 1 1 1 1 1 1 1 1 1 1 1 1 1 1\n",
       "Levels: setosa versicolor virginica"
      ]
     },
     "metadata": {},
     "output_type": "display_data"
    },
    {
     "data": {
      "text/html": [
       "<ol class=list-inline>\n",
       "\t<li>setosa</li>\n",
       "\t<li>setosa</li>\n",
       "\t<li>setosa</li>\n",
       "\t<li>setosa</li>\n",
       "\t<li>setosa</li>\n",
       "\t<li>setosa</li>\n",
       "\t<li>setosa</li>\n",
       "\t<li>setosa</li>\n",
       "\t<li>setosa</li>\n",
       "\t<li>setosa</li>\n",
       "\t<li>setosa</li>\n",
       "\t<li>setosa</li>\n",
       "\t<li>setosa</li>\n",
       "\t<li>setosa</li>\n",
       "\t<li>setosa</li>\n",
       "\t<li>setosa</li>\n",
       "\t<li>versicolor</li>\n",
       "\t<li>versicolor</li>\n",
       "\t<li>versicolor</li>\n",
       "\t<li>versicolor</li>\n",
       "\t<li>virginica</li>\n",
       "\t<li>versicolor</li>\n",
       "\t<li>virginica</li>\n",
       "\t<li>versicolor</li>\n",
       "\t<li>versicolor</li>\n",
       "\t<li>virginica</li>\n",
       "\t<li>virginica</li>\n",
       "\t<li>versicolor</li>\n",
       "\t<li>versicolor</li>\n",
       "\t<li>virginica</li>\n",
       "\t<li>virginica</li>\n",
       "\t<li>virginica</li>\n",
       "\t<li>virginica</li>\n",
       "\t<li>virginica</li>\n",
       "\t<li>virginica</li>\n",
       "\t<li>virginica</li>\n",
       "\t<li>virginica</li>\n",
       "\t<li>virginica</li>\n",
       "</ol>\n"
      ],
      "text/latex": [
       "\\begin{enumerate*}\n",
       "\\item setosa\n",
       "\\item setosa\n",
       "\\item setosa\n",
       "\\item setosa\n",
       "\\item setosa\n",
       "\\item setosa\n",
       "\\item setosa\n",
       "\\item setosa\n",
       "\\item setosa\n",
       "\\item setosa\n",
       "\\item setosa\n",
       "\\item setosa\n",
       "\\item setosa\n",
       "\\item setosa\n",
       "\\item setosa\n",
       "\\item setosa\n",
       "\\item versicolor\n",
       "\\item versicolor\n",
       "\\item versicolor\n",
       "\\item versicolor\n",
       "\\item virginica\n",
       "\\item versicolor\n",
       "\\item virginica\n",
       "\\item versicolor\n",
       "\\item versicolor\n",
       "\\item virginica\n",
       "\\item virginica\n",
       "\\item versicolor\n",
       "\\item versicolor\n",
       "\\item virginica\n",
       "\\item virginica\n",
       "\\item virginica\n",
       "\\item virginica\n",
       "\\item virginica\n",
       "\\item virginica\n",
       "\\item virginica\n",
       "\\item virginica\n",
       "\\item virginica\n",
       "\\end{enumerate*}\n"
      ],
      "text/markdown": [
       "1. setosa\n",
       "2. setosa\n",
       "3. setosa\n",
       "4. setosa\n",
       "5. setosa\n",
       "6. setosa\n",
       "7. setosa\n",
       "8. setosa\n",
       "9. setosa\n",
       "10. setosa\n",
       "11. setosa\n",
       "12. setosa\n",
       "13. setosa\n",
       "14. setosa\n",
       "15. setosa\n",
       "16. setosa\n",
       "17. versicolor\n",
       "18. versicolor\n",
       "19. versicolor\n",
       "20. versicolor\n",
       "21. virginica\n",
       "22. versicolor\n",
       "23. virginica\n",
       "24. versicolor\n",
       "25. versicolor\n",
       "26. virginica\n",
       "27. virginica\n",
       "28. versicolor\n",
       "29. versicolor\n",
       "30. virginica\n",
       "31. virginica\n",
       "32. virginica\n",
       "33. virginica\n",
       "34. virginica\n",
       "35. virginica\n",
       "36. virginica\n",
       "37. virginica\n",
       "38. virginica\n",
       "\n",
       "\n"
      ],
      "text/plain": [
       " [1] setosa     setosa     setosa     setosa     setosa     setosa    \n",
       " [7] setosa     setosa     setosa     setosa     setosa     setosa    \n",
       "[13] setosa     setosa     setosa     setosa     versicolor versicolor\n",
       "[19] versicolor versicolor virginica  versicolor virginica  versicolor\n",
       "[25] versicolor virginica  virginica  versicolor versicolor virginica \n",
       "[31] virginica  virginica  virginica  virginica  virginica  virginica \n",
       "[37] virginica  virginica \n",
       "attr(,\"prob\")\n",
       " [1] 1.0000000 1.0000000 1.0000000 1.0000000 1.0000000 1.0000000 1.0000000\n",
       " [8] 1.0000000 1.0000000 1.0000000 1.0000000 1.0000000 1.0000000 1.0000000\n",
       "[15] 1.0000000 1.0000000 1.0000000 1.0000000 1.0000000 1.0000000 1.0000000\n",
       "[22] 1.0000000 0.6666667 1.0000000 1.0000000 1.0000000 1.0000000 1.0000000\n",
       "[29] 0.6666667 1.0000000 1.0000000 1.0000000 1.0000000 1.0000000 1.0000000\n",
       "[36] 1.0000000 1.0000000 1.0000000\n",
       "Levels: setosa versicolor virginica"
      ]
     },
     "metadata": {},
     "output_type": "display_data"
    }
   ],
   "source": [
    "#KNN 알고리즘 적용\n",
    "library(class)\n",
    "knn <- knn(train[,1:4], test[,1:4], train$Species, k=1, prob=T)\n",
    "knn\n",
    "\n",
    "knn1 <- knn(train[,1:4], test[,1:4], train$Species, k=1, prob=T)\n",
    "knn1\n",
    "\n",
    "knn3 <- knn(train[,1:4], test[,1:4], train$Species, k=3, prob=T)\n",
    "knn3"
   ]
  },
  {
   "cell_type": "code",
   "execution_count": 5,
   "metadata": {},
   "outputs": [
    {
     "data": {
      "text/plain": [
       "            \n",
       "knn1         setosa versicolor virginica\n",
       "  setosa         16          0         0\n",
       "  versicolor      0          7         2\n",
       "  virginica       0          2        11"
      ]
     },
     "metadata": {},
     "output_type": "display_data"
    },
    {
     "data": {
      "text/html": [
       "0.894736842105263"
      ],
      "text/latex": [
       "0.894736842105263"
      ],
      "text/markdown": [
       "0.894736842105263"
      ],
      "text/plain": [
       "[1] 0.8947368"
      ]
     },
     "metadata": {},
     "output_type": "display_data"
    },
    {
     "data": {
      "text/html": [
       "0.894736842105263"
      ],
      "text/latex": [
       "0.894736842105263"
      ],
      "text/markdown": [
       "0.894736842105263"
      ],
      "text/plain": [
       "[1] 0.8947368"
      ]
     },
     "metadata": {},
     "output_type": "display_data"
    }
   ],
   "source": [
    "#예측값 평가\n",
    "knn1conf <- table(knn1, test$Species)\n",
    "knn1conf\n",
    "knn1acc <- sum(diag(knn1conf)) /nrow(test)\n",
    "knn1acc\n",
    "\n",
    "knn3conf<-table(knn3, test$Species)\n",
    "knn3acc <- sum(diag(knn3conf)) / nrow(test)\n",
    "knn3acc"
   ]
  },
  {
   "cell_type": "code",
   "execution_count": 6,
   "metadata": {},
   "outputs": [
    {
     "data": {
      "text/html": [
       "<table>\n",
       "<thead><tr><th></th><th scope=col>talk</th><th scope=col>book</th><th scope=col>trip</th><th scope=col>hakjum</th><th scope=col>height</th><th scope=col>skin</th><th scope=col>muscle</th><th scope=col>like</th></tr></thead>\n",
       "<tbody>\n",
       "\t<tr><th scope=row>8</th><td>30   </td><td>60   </td><td>90   </td><td>60   </td><td>40   </td><td>70   </td><td>70   </td><td>2타입</td></tr>\n",
       "\t<tr><th scope=row>4</th><td>90   </td><td>50   </td><td>60   </td><td>30   </td><td>40   </td><td>20   </td><td>30   </td><td>3타입</td></tr>\n",
       "\t<tr><th scope=row>14</th><td>80   </td><td>30   </td><td>50   </td><td>50   </td><td>80   </td><td>40   </td><td>60   </td><td>3타입</td></tr>\n",
       "\t<tr><th scope=row>11</th><td>80   </td><td>50   </td><td>60   </td><td>40   </td><td>50   </td><td>40   </td><td>70   </td><td>3타입</td></tr>\n",
       "\t<tr><th scope=row>9</th><td>80   </td><td>40   </td><td>20   </td><td>80   </td><td>60   </td><td>40   </td><td>50   </td><td>3타입</td></tr>\n",
       "\t<tr><th scope=row>5</th><td>50   </td><td>70   </td><td>30   </td><td>70   </td><td>70   </td><td>80   </td><td>60   </td><td>1타입</td></tr>\n",
       "\t<tr><th scope=row>1</th><td>30   </td><td>80   </td><td>40   </td><td>40   </td><td>90   </td><td>90   </td><td>50   </td><td>1타입</td></tr>\n",
       "\t<tr><th scope=row>2</th><td>60   </td><td>50   </td><td>70   </td><td>50   </td><td>60   </td><td>60   </td><td>90   </td><td>2타입</td></tr>\n",
       "\t<tr><th scope=row>7</th><td>40   </td><td>90   </td><td>60   </td><td>60   </td><td>60   </td><td>80   </td><td>60   </td><td>1타입</td></tr>\n",
       "</tbody>\n",
       "</table>\n"
      ],
      "text/latex": [
       "\\begin{tabular}{r|llllllll}\n",
       "  & talk & book & trip & hakjum & height & skin & muscle & like\\\\\n",
       "\\hline\n",
       "\t8 & 30    & 60    & 90    & 60    & 40    & 70    & 70    & 2타입\\\\\n",
       "\t4 & 90    & 50    & 60    & 30    & 40    & 20    & 30    & 3타입\\\\\n",
       "\t14 & 80    & 30    & 50    & 50    & 80    & 40    & 60    & 3타입\\\\\n",
       "\t11 & 80    & 50    & 60    & 40    & 50    & 40    & 70    & 3타입\\\\\n",
       "\t9 & 80    & 40    & 20    & 80    & 60    & 40    & 50    & 3타입\\\\\n",
       "\t5 & 50    & 70    & 30    & 70    & 70    & 80    & 60    & 1타입\\\\\n",
       "\t1 & 30    & 80    & 40    & 40    & 90    & 90    & 50    & 1타입\\\\\n",
       "\t2 & 60    & 50    & 70    & 50    & 60    & 60    & 90    & 2타입\\\\\n",
       "\t7 & 40    & 90    & 60    & 60    & 60    & 80    & 60    & 1타입\\\\\n",
       "\\end{tabular}\n"
      ],
      "text/markdown": [
       "\n",
       "| <!--/--> | talk | book | trip | hakjum | height | skin | muscle | like | \n",
       "|---|---|---|---|---|---|---|---|---|\n",
       "| 8 | 30    | 60    | 90    | 60    | 40    | 70    | 70    | 2타입 | \n",
       "| 4 | 90    | 50    | 60    | 30    | 40    | 20    | 30    | 3타입 | \n",
       "| 14 | 80    | 30    | 50    | 50    | 80    | 40    | 60    | 3타입 | \n",
       "| 11 | 80    | 50    | 60    | 40    | 50    | 40    | 70    | 3타입 | \n",
       "| 9 | 80    | 40    | 20    | 80    | 60    | 40    | 50    | 3타입 | \n",
       "| 5 | 50    | 70    | 30    | 70    | 70    | 80    | 60    | 1타입 | \n",
       "| 1 | 30    | 80    | 40    | 40    | 90    | 90    | 50    | 1타입 | \n",
       "| 2 | 60    | 50    | 70    | 50    | 60    | 60    | 90    | 2타입 | \n",
       "| 7 | 40    | 90    | 60    | 60    | 60    | 80    | 60    | 1타입 | \n",
       "\n",
       "\n"
      ],
      "text/plain": [
       "   talk book trip hakjum height skin muscle like \n",
       "8  30   60   90   60     40     70   70     2타입\n",
       "4  90   50   60   30     40     20   30     3타입\n",
       "14 80   30   50   50     80     40   60     3타입\n",
       "11 80   50   60   40     50     40   70     3타입\n",
       "9  80   40   20   80     60     40   50     3타입\n",
       "5  50   70   30   70     70     80   60     1타입\n",
       "1  30   80   40   40     90     90   50     1타입\n",
       "2  60   50   70   50     60     60   90     2타입\n",
       "7  40   90   60   60     60     80   60     1타입"
      ]
     },
     "metadata": {},
     "output_type": "display_data"
    },
    {
     "data": {
      "text/html": [
       "<table>\n",
       "<thead><tr><th></th><th scope=col>talk</th><th scope=col>book</th><th scope=col>trip</th><th scope=col>hakjum</th><th scope=col>height</th><th scope=col>skin</th><th scope=col>muscle</th><th scope=col>like</th></tr></thead>\n",
       "<tbody>\n",
       "\t<tr><th scope=row>3</th><td>50   </td><td>40   </td><td>80   </td><td>60   </td><td>50   </td><td>70   </td><td>80   </td><td>2타입</td></tr>\n",
       "\t<tr><th scope=row>6</th><td>70   </td><td>30   </td><td>60   </td><td>40   </td><td>40   </td><td>40   </td><td>30   </td><td>3타입</td></tr>\n",
       "\t<tr><th scope=row>10</th><td>50   </td><td>70   </td><td>70   </td><td>50   </td><td>70   </td><td>90   </td><td>50   </td><td>1타입</td></tr>\n",
       "\t<tr><th scope=row>12</th><td>30   </td><td>70   </td><td>30   </td><td>90   </td><td>70   </td><td>80   </td><td>60   </td><td>1타입</td></tr>\n",
       "\t<tr><th scope=row>13</th><td>40   </td><td>60   </td><td>90   </td><td>60   </td><td>50   </td><td>70   </td><td>80   </td><td>2타입</td></tr>\n",
       "</tbody>\n",
       "</table>\n"
      ],
      "text/latex": [
       "\\begin{tabular}{r|llllllll}\n",
       "  & talk & book & trip & hakjum & height & skin & muscle & like\\\\\n",
       "\\hline\n",
       "\t3 & 50    & 40    & 80    & 60    & 50    & 70    & 80    & 2타입\\\\\n",
       "\t6 & 70    & 30    & 60    & 40    & 40    & 40    & 30    & 3타입\\\\\n",
       "\t10 & 50    & 70    & 70    & 50    & 70    & 90    & 50    & 1타입\\\\\n",
       "\t12 & 30    & 70    & 30    & 90    & 70    & 80    & 60    & 1타입\\\\\n",
       "\t13 & 40    & 60    & 90    & 60    & 50    & 70    & 80    & 2타입\\\\\n",
       "\\end{tabular}\n"
      ],
      "text/markdown": [
       "\n",
       "| <!--/--> | talk | book | trip | hakjum | height | skin | muscle | like | \n",
       "|---|---|---|---|---|\n",
       "| 3 | 50    | 40    | 80    | 60    | 50    | 70    | 80    | 2타입 | \n",
       "| 6 | 70    | 30    | 60    | 40    | 40    | 40    | 30    | 3타입 | \n",
       "| 10 | 50    | 70    | 70    | 50    | 70    | 90    | 50    | 1타입 | \n",
       "| 12 | 30    | 70    | 30    | 90    | 70    | 80    | 60    | 1타입 | \n",
       "| 13 | 40    | 60    | 90    | 60    | 50    | 70    | 80    | 2타입 | \n",
       "\n",
       "\n"
      ],
      "text/plain": [
       "   talk book trip hakjum height skin muscle like \n",
       "3  50   40   80   60     50     70   80     2타입\n",
       "6  70   30   60   40     40     40   30     3타입\n",
       "10 50   70   70   50     70     90   50     1타입\n",
       "12 30   70   30   90     70     80   60     1타입\n",
       "13 40   60   90   60     50     70   80     2타입"
      ]
     },
     "metadata": {},
     "output_type": "display_data"
    },
    {
     "data": {
      "text/html": [
       "<ol class=list-inline>\n",
       "\t<li>2타입</li>\n",
       "\t<li>3타입</li>\n",
       "\t<li>1타입</li>\n",
       "\t<li>1타입</li>\n",
       "\t<li>2타입</li>\n",
       "</ol>\n"
      ],
      "text/latex": [
       "\\begin{enumerate*}\n",
       "\\item 2타입\n",
       "\\item 3타입\n",
       "\\item 1타입\n",
       "\\item 1타입\n",
       "\\item 2타입\n",
       "\\end{enumerate*}\n"
      ],
      "text/markdown": [
       "1. 2타입\n",
       "2. 3타입\n",
       "3. 1타입\n",
       "4. 1타입\n",
       "5. 2타입\n",
       "\n",
       "\n"
      ],
      "text/plain": [
       "[1] 2타입 3타입 1타입 1타입 2타입\n",
       "attr(,\"prob\")\n",
       "[1] 1 1 1 1 1\n",
       "Levels: 1타입 2타입 3타입"
      ]
     },
     "metadata": {},
     "output_type": "display_data"
    },
    {
     "data": {
      "text/html": [
       "<ol class=list-inline>\n",
       "\t<li>2타입</li>\n",
       "\t<li>3타입</li>\n",
       "\t<li>1타입</li>\n",
       "\t<li>1타입</li>\n",
       "\t<li>2타입</li>\n",
       "</ol>\n"
      ],
      "text/latex": [
       "\\begin{enumerate*}\n",
       "\\item 2타입\n",
       "\\item 3타입\n",
       "\\item 1타입\n",
       "\\item 1타입\n",
       "\\item 2타입\n",
       "\\end{enumerate*}\n"
      ],
      "text/markdown": [
       "1. 2타입\n",
       "2. 3타입\n",
       "3. 1타입\n",
       "4. 1타입\n",
       "5. 2타입\n",
       "\n",
       "\n"
      ],
      "text/plain": [
       "[1] 2타입 3타입 1타입 1타입 2타입\n",
       "attr(,\"prob\")\n",
       "[1] 0.6666667 1.0000000 1.0000000 1.0000000 0.6666667\n",
       "Levels: 1타입 2타입 3타입"
      ]
     },
     "metadata": {},
     "output_type": "display_data"
    },
    {
     "data": {
      "text/plain": [
       "       \n",
       "knn1    1타입 2타입 3타입\n",
       "  1타입     2     0     0\n",
       "  2타입     0     2     0\n",
       "  3타입     0     0     1"
      ]
     },
     "metadata": {},
     "output_type": "display_data"
    },
    {
     "data": {
      "text/html": [
       "1"
      ],
      "text/latex": [
       "1"
      ],
      "text/markdown": [
       "1"
      ],
      "text/plain": [
       "[1] 1"
      ]
     },
     "metadata": {},
     "output_type": "display_data"
    },
    {
     "data": {
      "text/plain": [
       "       \n",
       "knn3    1타입 2타입 3타입\n",
       "  1타입     2     0     0\n",
       "  2타입     0     2     0\n",
       "  3타입     0     0     1"
      ]
     },
     "metadata": {},
     "output_type": "display_data"
    },
    {
     "data": {
      "text/html": [
       "1"
      ],
      "text/latex": [
       "1"
      ],
      "text/markdown": [
       "1"
      ],
      "text/plain": [
       "[1] 1"
      ]
     },
     "metadata": {},
     "output_type": "display_data"
    }
   ],
   "source": [
    "# 공유폴더에 like, buy 파일 C:\\JAVA에 옮기기\n",
    "#누구와 소개팅하면 좋을까? 결혼정보 시스템 짝 이어주기\n",
    "isLike <-read.csv('c:/JAVA/like.csv')\n",
    "colnames(isLike) <- c('talk','book','trip','hakjum','height','skin','muscle','like')\n",
    "set.seed(180315)\n",
    "idx <- sample(nrow(isLike),size=nrow(isLike)*0.7)\n",
    "train <- isLike[idx,]\n",
    "test <- isLike[-idx,]\n",
    "\n",
    "train\n",
    "test\n",
    "\n",
    "knn1 <- knn(train[,1:7], test[,1:7],train$like, k=1, prob=T)\n",
    "knn3 <- knn(train[,1:7], test[,1:7],train$like, k=3, prob=T)\n",
    "\n",
    "knn1\n",
    "knn3\n",
    "\n",
    "knn1conf <- table(knn1, test$like)\n",
    "knn1conf\n",
    "knn1acc <-sum(diag(knn1conf))/nrow(test)\n",
    "knn1acc\n",
    "\n",
    "knn3conf <- table(knn3, test$like)\n",
    "knn3conf\n",
    "knn3acc <-sum(diag(knn3conf))/nrow(test)\n",
    "knn3acc"
   ]
  },
  {
   "cell_type": "code",
   "execution_count": 7,
   "metadata": {},
   "outputs": [
    {
     "data": {
      "text/html": [
       "<table>\n",
       "<thead><tr><th scope=col>나이</th><th scope=col>월수입</th><th scope=col>상품구매여부</th></tr></thead>\n",
       "<tbody>\n",
       "\t<tr><td>26     </td><td>160    </td><td>구매   </td></tr>\n",
       "\t<tr><td>35     </td><td>210    </td><td>비구매 </td></tr>\n",
       "\t<tr><td>26     </td><td>220    </td><td>비구매 </td></tr>\n",
       "\t<tr><td>29     </td><td>260    </td><td>구매   </td></tr>\n",
       "\t<tr><td>22     </td><td>110    </td><td>비구매 </td></tr>\n",
       "\t<tr><td>32     </td><td>210    </td><td>비구매 </td></tr>\n",
       "\t<tr><td>37     </td><td>310    </td><td>구매   </td></tr>\n",
       "\t<tr><td>21     </td><td>110    </td><td>비구매 </td></tr>\n",
       "\t<tr><td>28     </td><td>210    </td><td>비구매 </td></tr>\n",
       "\t<tr><td>31     </td><td>260    </td><td>구매   </td></tr>\n",
       "\t<tr><td>36     </td><td>390    </td><td>구매   </td></tr>\n",
       "\t<tr><td>23     </td><td>110    </td><td>비구매 </td></tr>\n",
       "\t<tr><td>32     </td><td>340    </td><td>비구매 </td></tr>\n",
       "\t<tr><td>29     </td><td>170    </td><td>구매   </td></tr>\n",
       "\t<tr><td>37     </td><td>340    </td><td>구매   </td></tr>\n",
       "\t<tr><td>31     </td><td>240    </td><td>비구매 </td></tr>\n",
       "\t<tr><td>27     </td><td>230    </td><td>비구매 </td></tr>\n",
       "\t<tr><td>23     </td><td>210    </td><td>비구매 </td></tr>\n",
       "\t<tr><td>40     </td><td>440    </td><td>구매   </td></tr>\n",
       "\t<tr><td>27     </td><td>140    </td><td>비구매 </td></tr>\n",
       "</tbody>\n",
       "</table>\n"
      ],
      "text/latex": [
       "\\begin{tabular}{r|lll}\n",
       " 나이 & 월수입 & 상품구매여부\\\\\n",
       "\\hline\n",
       "\t 26      & 160     & 구매   \\\\\n",
       "\t 35      & 210     & 비구매 \\\\\n",
       "\t 26      & 220     & 비구매 \\\\\n",
       "\t 29      & 260     & 구매   \\\\\n",
       "\t 22      & 110     & 비구매 \\\\\n",
       "\t 32      & 210     & 비구매 \\\\\n",
       "\t 37      & 310     & 구매   \\\\\n",
       "\t 21      & 110     & 비구매 \\\\\n",
       "\t 28      & 210     & 비구매 \\\\\n",
       "\t 31      & 260     & 구매   \\\\\n",
       "\t 36      & 390     & 구매   \\\\\n",
       "\t 23      & 110     & 비구매 \\\\\n",
       "\t 32      & 340     & 비구매 \\\\\n",
       "\t 29      & 170     & 구매   \\\\\n",
       "\t 37      & 340     & 구매   \\\\\n",
       "\t 31      & 240     & 비구매 \\\\\n",
       "\t 27      & 230     & 비구매 \\\\\n",
       "\t 23      & 210     & 비구매 \\\\\n",
       "\t 40      & 440     & 구매   \\\\\n",
       "\t 27      & 140     & 비구매 \\\\\n",
       "\\end{tabular}\n"
      ],
      "text/markdown": [
       "\n",
       "나이 | 월수입 | 상품구매여부 | \n",
       "|---|---|---|---|---|---|---|---|---|---|---|---|---|---|---|---|---|---|---|---|\n",
       "| 26      | 160     | 구매    | \n",
       "| 35      | 210     | 비구매  | \n",
       "| 26      | 220     | 비구매  | \n",
       "| 29      | 260     | 구매    | \n",
       "| 22      | 110     | 비구매  | \n",
       "| 32      | 210     | 비구매  | \n",
       "| 37      | 310     | 구매    | \n",
       "| 21      | 110     | 비구매  | \n",
       "| 28      | 210     | 비구매  | \n",
       "| 31      | 260     | 구매    | \n",
       "| 36      | 390     | 구매    | \n",
       "| 23      | 110     | 비구매  | \n",
       "| 32      | 340     | 비구매  | \n",
       "| 29      | 170     | 구매    | \n",
       "| 37      | 340     | 구매    | \n",
       "| 31      | 240     | 비구매  | \n",
       "| 27      | 230     | 비구매  | \n",
       "| 23      | 210     | 비구매  | \n",
       "| 40      | 440     | 구매    | \n",
       "| 27      | 140     | 비구매  | \n",
       "\n",
       "\n"
      ],
      "text/plain": [
       "   나이 월수입 상품구매여부\n",
       "1  26   160    구매        \n",
       "2  35   210    비구매      \n",
       "3  26   220    비구매      \n",
       "4  29   260    구매        \n",
       "5  22   110    비구매      \n",
       "6  32   210    비구매      \n",
       "7  37   310    구매        \n",
       "8  21   110    비구매      \n",
       "9  28   210    비구매      \n",
       "10 31   260    구매        \n",
       "11 36   390    구매        \n",
       "12 23   110    비구매      \n",
       "13 32   340    비구매      \n",
       "14 29   170    구매        \n",
       "15 37   340    구매        \n",
       "16 31   240    비구매      \n",
       "17 27   230    비구매      \n",
       "18 23   210    비구매      \n",
       "19 40   440    구매        \n",
       "20 27   140    비구매      "
      ]
     },
     "metadata": {},
     "output_type": "display_data"
    }
   ],
   "source": [
    "#누가 이상품을 구매할까? - 매장 방문고객\n",
    "isBuy <- read.csv('c:/JAVA/buy.csv')\n",
    "isBuy\n",
    "\n",
    "colnames(isBuy) <- c('age','income','buy')"
   ]
  },
  {
   "cell_type": "code",
   "execution_count": 8,
   "metadata": {},
   "outputs": [],
   "source": [
    "  #표준화 작업 : 나이와 월수입 단위가 다름\n",
    "isBuy$scage <- scale(isBuy$age)\n",
    "isBuy$scincome <- scale(isBuy$income)"
   ]
  },
  {
   "cell_type": "code",
   "execution_count": 11,
   "metadata": {},
   "outputs": [
    {
     "data": {
      "text/html": [
       "구매"
      ],
      "text/latex": [
       "구매"
      ],
      "text/markdown": [
       "구매"
      ],
      "text/plain": [
       "[1] 구매\n",
       "attr(,\"prob\")\n",
       "[1] 1\n",
       "Levels: 구매 비구매 비구매 "
      ]
     },
     "metadata": {},
     "output_type": "display_data"
    }
   ],
   "source": [
    "#데이터를 train/test로 나누지 않고 학습\n",
    "train <-isBuy[ ,4:5]  #표준화된 데이터 \n",
    "test <- data.frame(age=34,income=450)\n",
    "test$scage <- (test$age - mean(isBuy$age)) /sd(isBuy$age)\n",
    "\n",
    "test$scincome <- (test$income - mean(isBuy$income)) /sd(isBuy$income)\n",
    "\n",
    "test<-test[,3:4]\n",
    "labels <- isBuy[,3]\n",
    "\n",
    "knn1<-knn(train,test,labels, k=1,prob=T)\n",
    "knn1"
   ]
  },
  {
   "cell_type": "code",
   "execution_count": null,
   "metadata": {},
   "outputs": [],
   "source": []
  }
 ],
 "metadata": {
  "kernelspec": {
   "display_name": "R",
   "language": "R",
   "name": "ir"
  },
  "language_info": {
   "codemirror_mode": "r",
   "file_extension": ".r",
   "mimetype": "text/x-r-source",
   "name": "R",
   "pygments_lexer": "r",
   "version": "3.4.3"
  }
 },
 "nbformat": 4,
 "nbformat_minor": 2
}
