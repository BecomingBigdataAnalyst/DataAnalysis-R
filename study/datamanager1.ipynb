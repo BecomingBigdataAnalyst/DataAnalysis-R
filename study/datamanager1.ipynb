{
 "cells": [
  {
   "cell_type": "markdown",
   "metadata": {},
   "source": [
    "<h1>기초 데이터 관리</h1><br>\n",
    "\n",
    "리더쉽에 관한 조사결과<br>\n",
    "성별에 따라 매니저의 리더쉽이 관계있나?<br>\n",
    "국적도 중요한 요인인가?<br>\n",
    "질문에 대한 평점은 1~5까지 설정<br>"
   ]
  },
  {
   "cell_type": "code",
   "execution_count": 42,
   "metadata": {
    "scrolled": true
   },
   "outputs": [
    {
     "data": {
      "text/html": [
       "<table>\n",
       "<thead><tr><th scope=col>manager</th><th scope=col>date</th><th scope=col>country</th><th scope=col>gender</th><th scope=col>age</th><th scope=col>q1</th><th scope=col>q2</th><th scope=col>q3</th><th scope=col>q4</th><th scope=col>q5</th></tr></thead>\n",
       "<tbody>\n",
       "\t<tr><td>1       </td><td>10/24/14</td><td>US      </td><td>M       </td><td>32      </td><td>5       </td><td>4       </td><td>5       </td><td> 5      </td><td> 5      </td></tr>\n",
       "\t<tr><td>2       </td><td>10/28/14</td><td>US      </td><td>F       </td><td>45      </td><td>3       </td><td>5       </td><td>2       </td><td> 5      </td><td> 5      </td></tr>\n",
       "\t<tr><td>3       </td><td>10/01/14</td><td>UK      </td><td>F       </td><td>25      </td><td>3       </td><td>5       </td><td>5       </td><td> 5      </td><td> 2      </td></tr>\n",
       "\t<tr><td>4       </td><td>10/12/14</td><td>UK      </td><td>M       </td><td>39      </td><td>3       </td><td>3       </td><td>4       </td><td>NA      </td><td>NA      </td></tr>\n",
       "\t<tr><td>5       </td><td>05/01/14</td><td>UK      </td><td>F       </td><td>99      </td><td>2       </td><td>2       </td><td>1       </td><td> 2      </td><td> 1      </td></tr>\n",
       "</tbody>\n",
       "</table>\n"
      ],
      "text/latex": [
       "\\begin{tabular}{r|llllllllll}\n",
       " manager & date & country & gender & age & q1 & q2 & q3 & q4 & q5\\\\\n",
       "\\hline\n",
       "\t 1        & 10/24/14 & US       & M        & 32       & 5        & 4        & 5        &  5       &  5      \\\\\n",
       "\t 2        & 10/28/14 & US       & F        & 45       & 3        & 5        & 2        &  5       &  5      \\\\\n",
       "\t 3        & 10/01/14 & UK       & F        & 25       & 3        & 5        & 5        &  5       &  2      \\\\\n",
       "\t 4        & 10/12/14 & UK       & M        & 39       & 3        & 3        & 4        & NA       & NA      \\\\\n",
       "\t 5        & 05/01/14 & UK       & F        & 99       & 2        & 2        & 1        &  2       &  1      \\\\\n",
       "\\end{tabular}\n"
      ],
      "text/markdown": [
       "\n",
       "manager | date | country | gender | age | q1 | q2 | q3 | q4 | q5 | \n",
       "|---|---|---|---|---|\n",
       "| 1        | 10/24/14 | US       | M        | 32       | 5        | 4        | 5        |  5       |  5       | \n",
       "| 2        | 10/28/14 | US       | F        | 45       | 3        | 5        | 2        |  5       |  5       | \n",
       "| 3        | 10/01/14 | UK       | F        | 25       | 3        | 5        | 5        |  5       |  2       | \n",
       "| 4        | 10/12/14 | UK       | M        | 39       | 3        | 3        | 4        | NA       | NA       | \n",
       "| 5        | 05/01/14 | UK       | F        | 99       | 2        | 2        | 1        |  2       |  1       | \n",
       "\n",
       "\n"
      ],
      "text/plain": [
       "  manager date     country gender age q1 q2 q3 q4 q5\n",
       "1 1       10/24/14 US      M      32  5  4  5   5  5\n",
       "2 2       10/28/14 US      F      45  3  5  2   5  5\n",
       "3 3       10/01/14 UK      F      25  3  5  5   5  2\n",
       "4 4       10/12/14 UK      M      39  3  3  4  NA NA\n",
       "5 5       05/01/14 UK      F      99  2  2  1   2  1"
      ]
     },
     "metadata": {},
     "output_type": "display_data"
    }
   ],
   "source": [
    "manager <- c(1,2,3,4,5)\n",
    "date<-c('10/24/14','10/28/14','10/01/14','10/12/14','05/01/14')\n",
    "country<-c('US','US','UK','UK','UK')\n",
    "gender<-c('M','F','F','M','F')\n",
    "age<-c(32,45,25,39,99)\n",
    "q1<-c(5,3,3,3,2)\n",
    "q2<-c(4,5,5,3,2)\n",
    "q3<-c(5,2,5,4,1)\n",
    "q4<-c(5,5,5,NA,2)\n",
    "q5<-c(5,5,2,NA,1)\n",
    "leadership<-data.frame(manager, date, country, gender, age, q1,q2,q3,q4,q5, stringsAsFactors = F)\n",
    "leadership"
   ]
  },
  {
   "cell_type": "markdown",
   "metadata": {},
   "source": [
    "<h4>1)새로운 속성(컬럼) 추가: 다섯개의 평점을 결합</h4><br>\n",
    "데이터 프레임에 새로운 열을 추가하려면 <br>\n",
    "$연산자를 사용하거나 transform()함수를 이용한다<br> "
   ]
  },
  {
   "cell_type": "code",
   "execution_count": 7,
   "metadata": {},
   "outputs": [
    {
     "data": {
      "text/html": [
       "<table>\n",
       "<thead><tr><th scope=col>x1</th><th scope=col>x2</th></tr></thead>\n",
       "<tbody>\n",
       "\t<tr><td>2</td><td>3</td></tr>\n",
       "\t<tr><td>2</td><td>4</td></tr>\n",
       "\t<tr><td>6</td><td>2</td></tr>\n",
       "\t<tr><td>4</td><td>8</td></tr>\n",
       "</tbody>\n",
       "</table>\n"
      ],
      "text/latex": [
       "\\begin{tabular}{r|ll}\n",
       " x1 & x2\\\\\n",
       "\\hline\n",
       "\t 2 & 3\\\\\n",
       "\t 2 & 4\\\\\n",
       "\t 6 & 2\\\\\n",
       "\t 4 & 8\\\\\n",
       "\\end{tabular}\n"
      ],
      "text/markdown": [
       "\n",
       "x1 | x2 | \n",
       "|---|---|---|---|\n",
       "| 2 | 3 | \n",
       "| 2 | 4 | \n",
       "| 6 | 2 | \n",
       "| 4 | 8 | \n",
       "\n",
       "\n"
      ],
      "text/plain": [
       "  x1 x2\n",
       "1 2  3 \n",
       "2 2  4 \n",
       "3 6  2 \n",
       "4 4  8 "
      ]
     },
     "metadata": {},
     "output_type": "display_data"
    }
   ],
   "source": [
    "mydata<-data.frame(x1=c(2,2,6,4),\n",
    "                   x2=c(3,4,2,8))\n",
    "mydata"
   ]
  },
  {
   "cell_type": "markdown",
   "metadata": {},
   "source": [
    "sumx <- x1+x2     #총합 <br>\n",
    "meanx <-(x1+x2)/2 #평균 <br>\n",
    "\n",
    "sumx <- mydata$x1+mydata$x1     #총합 <br>\n",
    "meanx <-(mydata$x1+mydata$x1)/2 #평균 <br>"
   ]
  },
  {
   "cell_type": "markdown",
   "metadata": {},
   "source": [
    "데이터프레임에 새로운 열 추가 : $"
   ]
  },
  {
   "cell_type": "code",
   "execution_count": 14,
   "metadata": {},
   "outputs": [
    {
     "data": {
      "text/html": [
       "<table>\n",
       "<thead><tr><th scope=col>x1</th><th scope=col>x2</th><th scope=col>sum</th><th scope=col>meanx</th><th scope=col>sumx</th></tr></thead>\n",
       "<tbody>\n",
       "\t<tr><td>2  </td><td>3  </td><td> 5 </td><td>2.5</td><td> 5 </td></tr>\n",
       "\t<tr><td>2  </td><td>4  </td><td> 6 </td><td>3.0</td><td> 6 </td></tr>\n",
       "\t<tr><td>6  </td><td>2  </td><td> 8 </td><td>4.0</td><td> 8 </td></tr>\n",
       "\t<tr><td>4  </td><td>8  </td><td>12 </td><td>6.0</td><td>12 </td></tr>\n",
       "</tbody>\n",
       "</table>\n"
      ],
      "text/latex": [
       "\\begin{tabular}{r|lllll}\n",
       " x1 & x2 & sum & meanx & sumx\\\\\n",
       "\\hline\n",
       "\t 2   & 3   &  5  & 2.5 &  5 \\\\\n",
       "\t 2   & 4   &  6  & 3.0 &  6 \\\\\n",
       "\t 6   & 2   &  8  & 4.0 &  8 \\\\\n",
       "\t 4   & 8   & 12  & 6.0 & 12 \\\\\n",
       "\\end{tabular}\n"
      ],
      "text/markdown": [
       "\n",
       "x1 | x2 | sum | meanx | sumx | \n",
       "|---|---|---|---|\n",
       "| 2   | 3   |  5  | 2.5 |  5  | \n",
       "| 2   | 4   |  6  | 3.0 |  6  | \n",
       "| 6   | 2   |  8  | 4.0 |  8  | \n",
       "| 4   | 8   | 12  | 6.0 | 12  | \n",
       "\n",
       "\n"
      ],
      "text/plain": [
       "  x1 x2 sum meanx sumx\n",
       "1 2  3   5  2.5    5  \n",
       "2 2  4   6  3.0    6  \n",
       "3 6  2   8  4.0    8  \n",
       "4 4  8  12  6.0   12  "
      ]
     },
     "metadata": {},
     "output_type": "display_data"
    }
   ],
   "source": [
    "mydata$sum <-mydata$x1+mydata$x2\n",
    "mydata$meanx <-(mydata$x1+mydata$x2)/2\n",
    "mydata\n"
   ]
  },
  {
   "cell_type": "markdown",
   "metadata": {},
   "source": [
    "새로운 열 추가: attach/detach 사용<br>"
   ]
  },
  {
   "cell_type": "code",
   "execution_count": 16,
   "metadata": {},
   "outputs": [
    {
     "data": {
      "text/html": [
       "<table>\n",
       "<thead><tr><th scope=col>x1</th><th scope=col>x2</th><th scope=col>sum</th><th scope=col>meanx</th><th scope=col>sumx</th></tr></thead>\n",
       "<tbody>\n",
       "\t<tr><td>2  </td><td>3  </td><td> 5 </td><td>2.5</td><td> 5 </td></tr>\n",
       "\t<tr><td>2  </td><td>4  </td><td> 6 </td><td>3.0</td><td> 6 </td></tr>\n",
       "\t<tr><td>6  </td><td>2  </td><td> 8 </td><td>4.0</td><td> 8 </td></tr>\n",
       "\t<tr><td>4  </td><td>8  </td><td>12 </td><td>6.0</td><td>12 </td></tr>\n",
       "</tbody>\n",
       "</table>\n"
      ],
      "text/latex": [
       "\\begin{tabular}{r|lllll}\n",
       " x1 & x2 & sum & meanx & sumx\\\\\n",
       "\\hline\n",
       "\t 2   & 3   &  5  & 2.5 &  5 \\\\\n",
       "\t 2   & 4   &  6  & 3.0 &  6 \\\\\n",
       "\t 6   & 2   &  8  & 4.0 &  8 \\\\\n",
       "\t 4   & 8   & 12  & 6.0 & 12 \\\\\n",
       "\\end{tabular}\n"
      ],
      "text/markdown": [
       "\n",
       "x1 | x2 | sum | meanx | sumx | \n",
       "|---|---|---|---|\n",
       "| 2   | 3   |  5  | 2.5 |  5  | \n",
       "| 2   | 4   |  6  | 3.0 |  6  | \n",
       "| 6   | 2   |  8  | 4.0 |  8  | \n",
       "| 4   | 8   | 12  | 6.0 | 12  | \n",
       "\n",
       "\n"
      ],
      "text/plain": [
       "  x1 x2 sum meanx sumx\n",
       "1 2  3   5  2.5    5  \n",
       "2 2  4   6  3.0    6  \n",
       "3 6  2   8  4.0    8  \n",
       "4 4  8  12  6.0   12  "
      ]
     },
     "metadata": {},
     "output_type": "display_data"
    }
   ],
   "source": [
    "attach(mydata)\n",
    "mydata$sumx<-x1+x2\n",
    "mydata$meanx <- (x1+x2)/2\n",
    "detach(mydata)\n",
    "mydata\n"
   ]
  },
  {
   "cell_type": "markdown",
   "metadata": {},
   "source": [
    "새로운 열 추가: transform"
   ]
  },
  {
   "cell_type": "code",
   "execution_count": 17,
   "metadata": {
    "scrolled": true
   },
   "outputs": [
    {
     "data": {
      "text/html": [
       "<table>\n",
       "<thead><tr><th scope=col>x1</th><th scope=col>x2</th><th scope=col>sum</th><th scope=col>meanx</th><th scope=col>sumx</th></tr></thead>\n",
       "<tbody>\n",
       "\t<tr><td>2  </td><td>3  </td><td> 5 </td><td>2.5</td><td> 5 </td></tr>\n",
       "\t<tr><td>2  </td><td>4  </td><td> 6 </td><td>3.0</td><td> 6 </td></tr>\n",
       "\t<tr><td>6  </td><td>2  </td><td> 8 </td><td>4.0</td><td> 8 </td></tr>\n",
       "\t<tr><td>4  </td><td>8  </td><td>12 </td><td>6.0</td><td>12 </td></tr>\n",
       "</tbody>\n",
       "</table>\n"
      ],
      "text/latex": [
       "\\begin{tabular}{r|lllll}\n",
       " x1 & x2 & sum & meanx & sumx\\\\\n",
       "\\hline\n",
       "\t 2   & 3   &  5  & 2.5 &  5 \\\\\n",
       "\t 2   & 4   &  6  & 3.0 &  6 \\\\\n",
       "\t 6   & 2   &  8  & 4.0 &  8 \\\\\n",
       "\t 4   & 8   & 12  & 6.0 & 12 \\\\\n",
       "\\end{tabular}\n"
      ],
      "text/markdown": [
       "\n",
       "x1 | x2 | sum | meanx | sumx | \n",
       "|---|---|---|---|\n",
       "| 2   | 3   |  5  | 2.5 |  5  | \n",
       "| 2   | 4   |  6  | 3.0 |  6  | \n",
       "| 6   | 2   |  8  | 4.0 |  8  | \n",
       "| 4   | 8   | 12  | 6.0 | 12  | \n",
       "\n",
       "\n"
      ],
      "text/plain": [
       "  x1 x2 sum meanx sumx\n",
       "1 2  3   5  2.5    5  \n",
       "2 2  4   6  3.0    6  \n",
       "3 6  2   8  4.0    8  \n",
       "4 4  8  12  6.0   12  "
      ]
     },
     "metadata": {},
     "output_type": "display_data"
    }
   ],
   "source": [
    "mydata <-transform(mydata,\n",
    "                   sumx=x1+x2,\n",
    "                   meanx =(x1+x2)/2)\n",
    "mydata"
   ]
  },
  {
   "cell_type": "markdown",
   "metadata": {},
   "source": [
    "<h4>2)변수(컬럼)값 재작성</h4><br>\n",
    "기존의 변수나 값을 기준으로 새로운 변수값을 생성<br>\n",
    "연속값을 가진 변수를 3개의 카테고리로 나눔 <br>\n",
    "잘못 작성된 값을 바른 값으로 대체 <br>\n",
    "조건에 따라 통과/탈락 변수 생성<br>"
   ]
  },
  {
   "cell_type": "code",
   "execution_count": 43,
   "metadata": {},
   "outputs": [
    {
     "data": {
      "text/html": [
       "<table>\n",
       "<thead><tr><th scope=col>manager</th><th scope=col>date</th><th scope=col>country</th><th scope=col>gender</th><th scope=col>age</th><th scope=col>q1</th><th scope=col>q2</th><th scope=col>q3</th><th scope=col>q4</th><th scope=col>q5</th><th scope=col>age_cate</th></tr></thead>\n",
       "<tbody>\n",
       "\t<tr><td>1       </td><td>10/24/14</td><td>US      </td><td>M       </td><td>32      </td><td>5       </td><td>4       </td><td>5       </td><td> 5      </td><td> 5      </td><td>불혹    </td></tr>\n",
       "\t<tr><td>2       </td><td>10/28/14</td><td>US      </td><td>F       </td><td>45      </td><td>3       </td><td>5       </td><td>2       </td><td> 5      </td><td> 5      </td><td>지천명  </td></tr>\n",
       "\t<tr><td>3       </td><td>10/01/14</td><td>UK      </td><td>F       </td><td>25      </td><td>3       </td><td>5       </td><td>5       </td><td> 5      </td><td> 2      </td><td>청년    </td></tr>\n",
       "\t<tr><td>4       </td><td>10/12/14</td><td>UK      </td><td>M       </td><td>39      </td><td>3       </td><td>3       </td><td>4       </td><td>NA      </td><td>NA      </td><td>불혹    </td></tr>\n",
       "\t<tr><td>5       </td><td>05/01/14</td><td>UK      </td><td>F       </td><td>99      </td><td>2       </td><td>2       </td><td>1       </td><td> 2      </td><td> 1      </td><td>백수    </td></tr>\n",
       "</tbody>\n",
       "</table>\n"
      ],
      "text/latex": [
       "\\begin{tabular}{r|lllllllllll}\n",
       " manager & date & country & gender & age & q1 & q2 & q3 & q4 & q5 & age\\_cate\\\\\n",
       "\\hline\n",
       "\t 1        & 10/24/14 & US       & M        & 32       & 5        & 4        & 5        &  5       &  5       & 불혹    \\\\\n",
       "\t 2        & 10/28/14 & US       & F        & 45       & 3        & 5        & 2        &  5       &  5       & 지천명  \\\\\n",
       "\t 3        & 10/01/14 & UK       & F        & 25       & 3        & 5        & 5        &  5       &  2       & 청년    \\\\\n",
       "\t 4        & 10/12/14 & UK       & M        & 39       & 3        & 3        & 4        & NA       & NA       & 불혹    \\\\\n",
       "\t 5        & 05/01/14 & UK       & F        & 99       & 2        & 2        & 1        &  2       &  1       & 백수    \\\\\n",
       "\\end{tabular}\n"
      ],
      "text/markdown": [
       "\n",
       "manager | date | country | gender | age | q1 | q2 | q3 | q4 | q5 | age_cate | \n",
       "|---|---|---|---|---|\n",
       "| 1        | 10/24/14 | US       | M        | 32       | 5        | 4        | 5        |  5       |  5       | 불혹     | \n",
       "| 2        | 10/28/14 | US       | F        | 45       | 3        | 5        | 2        |  5       |  5       | 지천명   | \n",
       "| 3        | 10/01/14 | UK       | F        | 25       | 3        | 5        | 5        |  5       |  2       | 청년     | \n",
       "| 4        | 10/12/14 | UK       | M        | 39       | 3        | 3        | 4        | NA       | NA       | 불혹     | \n",
       "| 5        | 05/01/14 | UK       | F        | 99       | 2        | 2        | 1        |  2       |  1       | 백수     | \n",
       "\n",
       "\n"
      ],
      "text/plain": [
       "  manager date     country gender age q1 q2 q3 q4 q5 age_cate\n",
       "1 1       10/24/14 US      M      32  5  4  5   5  5 불혹    \n",
       "2 2       10/28/14 US      F      45  3  5  2   5  5 지천명  \n",
       "3 3       10/01/14 UK      F      25  3  5  5   5  2 청년    \n",
       "4 4       10/12/14 UK      M      39  3  3  4  NA NA 불혹    \n",
       "5 5       05/01/14 UK      F      99  2  2  1   2  1 백수    "
      ]
     },
     "metadata": {},
     "output_type": "display_data"
    }
   ],
   "source": [
    "leadership$age_cate[leadership$age==25]<-'청년 '\n",
    "leadership$age_cate[leadership$age==32]<-'불혹 '\n",
    "leadership$age_cate[leadership$age==39]<-'불혹 '\n",
    "leadership$age_cate[leadership$age==45]<-'지천명 '\n",
    "leadership$age_cate[leadership$age==99]<-'백수 '\n",
    "leadership"
   ]
  },
  {
   "cell_type": "markdown",
   "metadata": {},
   "source": [
    "within을 이용해서 간결하게 작성"
   ]
  },
  {
   "cell_type": "code",
   "execution_count": 44,
   "metadata": {},
   "outputs": [
    {
     "data": {
      "text/html": [
       "<table>\n",
       "<thead><tr><th scope=col>manager</th><th scope=col>date</th><th scope=col>country</th><th scope=col>gender</th><th scope=col>age</th><th scope=col>q1</th><th scope=col>q2</th><th scope=col>q3</th><th scope=col>q4</th><th scope=col>q5</th><th scope=col>age_cate</th></tr></thead>\n",
       "<tbody>\n",
       "\t<tr><td>1       </td><td>10/24/14</td><td>US      </td><td>M       </td><td>32      </td><td>5       </td><td>4       </td><td>5       </td><td> 5      </td><td> 5      </td><td>청년    </td></tr>\n",
       "\t<tr><td>2       </td><td>10/28/14</td><td>US      </td><td>F       </td><td>45      </td><td>3       </td><td>5       </td><td>2       </td><td> 5      </td><td> 5      </td><td>불혹    </td></tr>\n",
       "\t<tr><td>3       </td><td>10/01/14</td><td>UK      </td><td>F       </td><td>25      </td><td>3       </td><td>5       </td><td>5       </td><td> 5      </td><td> 2      </td><td>약관    </td></tr>\n",
       "\t<tr><td>4       </td><td>10/12/14</td><td>UK      </td><td>M       </td><td>39      </td><td>3       </td><td>3       </td><td>4       </td><td>NA      </td><td>NA      </td><td>청년    </td></tr>\n",
       "\t<tr><td>5       </td><td>05/01/14</td><td>UK      </td><td>F       </td><td>99      </td><td>2       </td><td>2       </td><td>1       </td><td> 2      </td><td> 1      </td><td>백수    </td></tr>\n",
       "</tbody>\n",
       "</table>\n"
      ],
      "text/latex": [
       "\\begin{tabular}{r|lllllllllll}\n",
       " manager & date & country & gender & age & q1 & q2 & q3 & q4 & q5 & age\\_cate\\\\\n",
       "\\hline\n",
       "\t 1        & 10/24/14 & US       & M        & 32       & 5        & 4        & 5        &  5       &  5       & 청년    \\\\\n",
       "\t 2        & 10/28/14 & US       & F        & 45       & 3        & 5        & 2        &  5       &  5       & 불혹    \\\\\n",
       "\t 3        & 10/01/14 & UK       & F        & 25       & 3        & 5        & 5        &  5       &  2       & 약관    \\\\\n",
       "\t 4        & 10/12/14 & UK       & M        & 39       & 3        & 3        & 4        & NA       & NA       & 청년    \\\\\n",
       "\t 5        & 05/01/14 & UK       & F        & 99       & 2        & 2        & 1        &  2       &  1       & 백수    \\\\\n",
       "\\end{tabular}\n"
      ],
      "text/markdown": [
       "\n",
       "manager | date | country | gender | age | q1 | q2 | q3 | q4 | q5 | age_cate | \n",
       "|---|---|---|---|---|\n",
       "| 1        | 10/24/14 | US       | M        | 32       | 5        | 4        | 5        |  5       |  5       | 청년     | \n",
       "| 2        | 10/28/14 | US       | F        | 45       | 3        | 5        | 2        |  5       |  5       | 불혹     | \n",
       "| 3        | 10/01/14 | UK       | F        | 25       | 3        | 5        | 5        |  5       |  2       | 약관     | \n",
       "| 4        | 10/12/14 | UK       | M        | 39       | 3        | 3        | 4        | NA       | NA       | 청년     | \n",
       "| 5        | 05/01/14 | UK       | F        | 99       | 2        | 2        | 1        |  2       |  1       | 백수     | \n",
       "\n",
       "\n"
      ],
      "text/plain": [
       "  manager date     country gender age q1 q2 q3 q4 q5 age_cate\n",
       "1 1       10/24/14 US      M      32  5  4  5   5  5 청년    \n",
       "2 2       10/28/14 US      F      45  3  5  2   5  5 불혹    \n",
       "3 3       10/01/14 UK      F      25  3  5  5   5  2 약관    \n",
       "4 4       10/12/14 UK      M      39  3  3  4  NA NA 청년    \n",
       "5 5       05/01/14 UK      F      99  2  2  1   2  1 백수    "
      ]
     },
     "metadata": {},
     "output_type": "display_data"
    }
   ],
   "source": [
    "leadership <-within(leadership,{\n",
    "  age_cate[age==99]<-'백수'\n",
    "  age_cate[age<99]<-'졸수'\n",
    "  age_cate[age<90]<-'산수'\n",
    "  age_cate[age<80]<-'고희'\n",
    "  age_cate[age<70]<-'이순'\n",
    "  age_cate[age<60]<-'지천명'\n",
    "  age_cate[age<50]<-'불혹'\n",
    "  age_cate[age<40]<-'청년'\n",
    "  age_cate[age<30]<-'약관'\n",
    "  })\n",
    "leadership"
   ]
  },
  {
   "cell_type": "markdown",
   "metadata": {},
   "source": [
    "<h4>3)컬럼명 변경 - 변수명이 맘에 안든다면 바꾸자! </h4>"
   ]
  },
  {
   "cell_type": "code",
   "execution_count": 45,
   "metadata": {},
   "outputs": [
    {
     "data": {
      "text/html": [
       "<table>\n",
       "<thead><tr><th scope=col>manager</th><th scope=col>date</th><th scope=col>country</th><th scope=col>gender</th><th scope=col>age</th><th scope=col>q1</th><th scope=col>q2</th><th scope=col>q3</th><th scope=col>q4</th><th scope=col>q5</th><th scope=col>age_cate</th></tr></thead>\n",
       "<tbody>\n",
       "\t<tr><td>1       </td><td>10/24/14</td><td>US      </td><td>M       </td><td>32      </td><td>5       </td><td>4       </td><td>5       </td><td> 5      </td><td> 5      </td><td>청년    </td></tr>\n",
       "\t<tr><td>2       </td><td>10/28/14</td><td>US      </td><td>F       </td><td>45      </td><td>3       </td><td>5       </td><td>2       </td><td> 5      </td><td> 5      </td><td>불혹    </td></tr>\n",
       "\t<tr><td>3       </td><td>10/01/14</td><td>UK      </td><td>F       </td><td>25      </td><td>3       </td><td>5       </td><td>5       </td><td> 5      </td><td> 2      </td><td>약관    </td></tr>\n",
       "\t<tr><td>4       </td><td>10/12/14</td><td>UK      </td><td>M       </td><td>39      </td><td>3       </td><td>3       </td><td>4       </td><td>NA      </td><td>NA      </td><td>청년    </td></tr>\n",
       "\t<tr><td>5       </td><td>05/01/14</td><td>UK      </td><td>F       </td><td>99      </td><td>2       </td><td>2       </td><td>1       </td><td> 2      </td><td> 1      </td><td>백수    </td></tr>\n",
       "</tbody>\n",
       "</table>\n"
      ],
      "text/latex": [
       "\\begin{tabular}{r|lllllllllll}\n",
       " manager & date & country & gender & age & q1 & q2 & q3 & q4 & q5 & age\\_cate\\\\\n",
       "\\hline\n",
       "\t 1        & 10/24/14 & US       & M        & 32       & 5        & 4        & 5        &  5       &  5       & 청년    \\\\\n",
       "\t 2        & 10/28/14 & US       & F        & 45       & 3        & 5        & 2        &  5       &  5       & 불혹    \\\\\n",
       "\t 3        & 10/01/14 & UK       & F        & 25       & 3        & 5        & 5        &  5       &  2       & 약관    \\\\\n",
       "\t 4        & 10/12/14 & UK       & M        & 39       & 3        & 3        & 4        & NA       & NA       & 청년    \\\\\n",
       "\t 5        & 05/01/14 & UK       & F        & 99       & 2        & 2        & 1        &  2       &  1       & 백수    \\\\\n",
       "\\end{tabular}\n"
      ],
      "text/markdown": [
       "\n",
       "manager | date | country | gender | age | q1 | q2 | q3 | q4 | q5 | age_cate | \n",
       "|---|---|---|---|---|\n",
       "| 1        | 10/24/14 | US       | M        | 32       | 5        | 4        | 5        |  5       |  5       | 청년     | \n",
       "| 2        | 10/28/14 | US       | F        | 45       | 3        | 5        | 2        |  5       |  5       | 불혹     | \n",
       "| 3        | 10/01/14 | UK       | F        | 25       | 3        | 5        | 5        |  5       |  2       | 약관     | \n",
       "| 4        | 10/12/14 | UK       | M        | 39       | 3        | 3        | 4        | NA       | NA       | 청년     | \n",
       "| 5        | 05/01/14 | UK       | F        | 99       | 2        | 2        | 1        |  2       |  1       | 백수     | \n",
       "\n",
       "\n"
      ],
      "text/plain": [
       "  manager date     country gender age q1 q2 q3 q4 q5 age_cate\n",
       "1 1       10/24/14 US      M      32  5  4  5   5  5 청년    \n",
       "2 2       10/28/14 US      F      45  3  5  2   5  5 불혹    \n",
       "3 3       10/01/14 UK      F      25  3  5  5   5  2 약관    \n",
       "4 4       10/12/14 UK      M      39  3  3  4  NA NA 청년    \n",
       "5 5       05/01/14 UK      F      99  2  2  1   2  1 백수    "
      ]
     },
     "metadata": {},
     "output_type": "display_data"
    }
   ],
   "source": [
    "fix(leadership) \n",
    "leadership"
   ]
  },
  {
   "cell_type": "code",
   "execution_count": 55,
   "metadata": {},
   "outputs": [
    {
     "data": {
      "text/html": [
       "<ol class=list-inline>\n",
       "\t<li>'managerID'</li>\n",
       "\t<li>'examDate'</li>\n",
       "\t<li>'nation'</li>\n",
       "\t<li>'gender'</li>\n",
       "\t<li>'age'</li>\n",
       "\t<li>'q1'</li>\n",
       "\t<li>'q2'</li>\n",
       "\t<li>'q3'</li>\n",
       "\t<li>'q4'</li>\n",
       "\t<li>'q5'</li>\n",
       "\t<li>'age_cate'</li>\n",
       "</ol>\n"
      ],
      "text/latex": [
       "\\begin{enumerate*}\n",
       "\\item 'managerID'\n",
       "\\item 'examDate'\n",
       "\\item 'nation'\n",
       "\\item 'gender'\n",
       "\\item 'age'\n",
       "\\item 'q1'\n",
       "\\item 'q2'\n",
       "\\item 'q3'\n",
       "\\item 'q4'\n",
       "\\item 'q5'\n",
       "\\item 'age\\_cate'\n",
       "\\end{enumerate*}\n"
      ],
      "text/markdown": [
       "1. 'managerID'\n",
       "2. 'examDate'\n",
       "3. 'nation'\n",
       "4. 'gender'\n",
       "5. 'age'\n",
       "6. 'q1'\n",
       "7. 'q2'\n",
       "8. 'q3'\n",
       "9. 'q4'\n",
       "10. 'q5'\n",
       "11. 'age_cate'\n",
       "\n",
       "\n"
      ],
      "text/plain": [
       " [1] \"managerID\" \"examDate\"  \"nation\"    \"gender\"    \"age\"       \"q1\"       \n",
       " [7] \"q2\"        \"q3\"        \"q4\"        \"q5\"        \"age_cate\" "
      ]
     },
     "metadata": {},
     "output_type": "display_data"
    },
    {
     "data": {
      "text/html": [
       "<table>\n",
       "<thead><tr><th scope=col>c1</th><th scope=col>c2</th><th scope=col>c3</th><th scope=col>c4</th><th scope=col>c5</th><th scope=col>q1</th><th scope=col>q2</th><th scope=col>q3</th><th scope=col>q4</th><th scope=col>q5</th><th scope=col>age_cate</th></tr></thead>\n",
       "<tbody>\n",
       "\t<tr><td>1       </td><td>10/24/14</td><td>US      </td><td>M       </td><td>32      </td><td>5       </td><td>4       </td><td>5       </td><td> 5      </td><td> 5      </td><td>청년    </td></tr>\n",
       "\t<tr><td>2       </td><td>10/28/14</td><td>US      </td><td>F       </td><td>45      </td><td>3       </td><td>5       </td><td>2       </td><td> 5      </td><td> 5      </td><td>불혹    </td></tr>\n",
       "\t<tr><td>3       </td><td>10/01/14</td><td>UK      </td><td>F       </td><td>25      </td><td>3       </td><td>5       </td><td>5       </td><td> 5      </td><td> 2      </td><td>약관    </td></tr>\n",
       "\t<tr><td>4       </td><td>10/12/14</td><td>UK      </td><td>M       </td><td>39      </td><td>3       </td><td>3       </td><td>4       </td><td>NA      </td><td>NA      </td><td>청년    </td></tr>\n",
       "\t<tr><td>5       </td><td>05/01/14</td><td>UK      </td><td>F       </td><td>99      </td><td>2       </td><td>2       </td><td>1       </td><td> 2      </td><td> 1      </td><td>백수    </td></tr>\n",
       "</tbody>\n",
       "</table>\n"
      ],
      "text/latex": [
       "\\begin{tabular}{r|lllllllllll}\n",
       " c1 & c2 & c3 & c4 & c5 & q1 & q2 & q3 & q4 & q5 & age\\_cate\\\\\n",
       "\\hline\n",
       "\t 1        & 10/24/14 & US       & M        & 32       & 5        & 4        & 5        &  5       &  5       & 청년    \\\\\n",
       "\t 2        & 10/28/14 & US       & F        & 45       & 3        & 5        & 2        &  5       &  5       & 불혹    \\\\\n",
       "\t 3        & 10/01/14 & UK       & F        & 25       & 3        & 5        & 5        &  5       &  2       & 약관    \\\\\n",
       "\t 4        & 10/12/14 & UK       & M        & 39       & 3        & 3        & 4        & NA       & NA       & 청년    \\\\\n",
       "\t 5        & 05/01/14 & UK       & F        & 99       & 2        & 2        & 1        &  2       &  1       & 백수    \\\\\n",
       "\\end{tabular}\n"
      ],
      "text/markdown": [
       "\n",
       "c1 | c2 | c3 | c4 | c5 | q1 | q2 | q3 | q4 | q5 | age_cate | \n",
       "|---|---|---|---|---|\n",
       "| 1        | 10/24/14 | US       | M        | 32       | 5        | 4        | 5        |  5       |  5       | 청년     | \n",
       "| 2        | 10/28/14 | US       | F        | 45       | 3        | 5        | 2        |  5       |  5       | 불혹     | \n",
       "| 3        | 10/01/14 | UK       | F        | 25       | 3        | 5        | 5        |  5       |  2       | 약관     | \n",
       "| 4        | 10/12/14 | UK       | M        | 39       | 3        | 3        | 4        | NA       | NA       | 청년     | \n",
       "| 5        | 05/01/14 | UK       | F        | 99       | 2        | 2        | 1        |  2       |  1       | 백수     | \n",
       "\n",
       "\n"
      ],
      "text/plain": [
       "  c1 c2       c3 c4 c5 q1 q2 q3 q4 q5 age_cate\n",
       "1 1  10/24/14 US M  32 5  4  5   5  5 청년    \n",
       "2 2  10/28/14 US F  45 3  5  2   5  5 불혹    \n",
       "3 3  10/01/14 UK F  25 3  5  5   5  2 약관    \n",
       "4 4  10/12/14 UK M  39 3  3  4  NA NA 청년    \n",
       "5 5  05/01/14 UK F  99 2  2  1   2  1 백수    "
      ]
     },
     "metadata": {},
     "output_type": "display_data"
    }
   ],
   "source": [
    "names(leadership) \n",
    "names(leadership)[2] <-'newDate'\n",
    "\n",
    "names(leadership)[1:5]<-c('c1','c2','c3','c4','c5')\n",
    "leadership"
   ]
  },
  {
   "cell_type": "markdown",
   "metadata": {},
   "source": [
    "plyr 패키지를 이용해서 이름을 바꿔보자 : rename "
   ]
  },
  {
   "cell_type": "code",
   "execution_count": 48,
   "metadata": {},
   "outputs": [],
   "source": [
    "#install.packages('plyr')\n",
    "#library('plyr') \n",
    "#이미 설치됐다면 재설치할 필요가 없음"
   ]
  },
  {
   "cell_type": "code",
   "execution_count": 56,
   "metadata": {},
   "outputs": [
    {
     "data": {
      "text/html": [
       "<table>\n",
       "<thead><tr><th scope=col>managerID</th><th scope=col>examDate</th><th scope=col>nation</th><th scope=col>gender</th><th scope=col>age</th><th scope=col>q1</th><th scope=col>q2</th><th scope=col>q3</th><th scope=col>q4</th><th scope=col>q5</th><th scope=col>age_cate</th></tr></thead>\n",
       "<tbody>\n",
       "\t<tr><td>1       </td><td>10/24/14</td><td>US      </td><td>M       </td><td>32      </td><td>5       </td><td>4       </td><td>5       </td><td> 5      </td><td> 5      </td><td>청년    </td></tr>\n",
       "\t<tr><td>2       </td><td>10/28/14</td><td>US      </td><td>F       </td><td>45      </td><td>3       </td><td>5       </td><td>2       </td><td> 5      </td><td> 5      </td><td>불혹    </td></tr>\n",
       "\t<tr><td>3       </td><td>10/01/14</td><td>UK      </td><td>F       </td><td>25      </td><td>3       </td><td>5       </td><td>5       </td><td> 5      </td><td> 2      </td><td>약관    </td></tr>\n",
       "\t<tr><td>4       </td><td>10/12/14</td><td>UK      </td><td>M       </td><td>39      </td><td>3       </td><td>3       </td><td>4       </td><td>NA      </td><td>NA      </td><td>청년    </td></tr>\n",
       "\t<tr><td>5       </td><td>05/01/14</td><td>UK      </td><td>F       </td><td>99      </td><td>2       </td><td>2       </td><td>1       </td><td> 2      </td><td> 1      </td><td>백수    </td></tr>\n",
       "</tbody>\n",
       "</table>\n"
      ],
      "text/latex": [
       "\\begin{tabular}{r|lllllllllll}\n",
       " managerID & examDate & nation & gender & age & q1 & q2 & q3 & q4 & q5 & age\\_cate\\\\\n",
       "\\hline\n",
       "\t 1        & 10/24/14 & US       & M        & 32       & 5        & 4        & 5        &  5       &  5       & 청년    \\\\\n",
       "\t 2        & 10/28/14 & US       & F        & 45       & 3        & 5        & 2        &  5       &  5       & 불혹    \\\\\n",
       "\t 3        & 10/01/14 & UK       & F        & 25       & 3        & 5        & 5        &  5       &  2       & 약관    \\\\\n",
       "\t 4        & 10/12/14 & UK       & M        & 39       & 3        & 3        & 4        & NA       & NA       & 청년    \\\\\n",
       "\t 5        & 05/01/14 & UK       & F        & 99       & 2        & 2        & 1        &  2       &  1       & 백수    \\\\\n",
       "\\end{tabular}\n"
      ],
      "text/markdown": [
       "\n",
       "managerID | examDate | nation | gender | age | q1 | q2 | q3 | q4 | q5 | age_cate | \n",
       "|---|---|---|---|---|\n",
       "| 1        | 10/24/14 | US       | M        | 32       | 5        | 4        | 5        |  5       |  5       | 청년     | \n",
       "| 2        | 10/28/14 | US       | F        | 45       | 3        | 5        | 2        |  5       |  5       | 불혹     | \n",
       "| 3        | 10/01/14 | UK       | F        | 25       | 3        | 5        | 5        |  5       |  2       | 약관     | \n",
       "| 4        | 10/12/14 | UK       | M        | 39       | 3        | 3        | 4        | NA       | NA       | 청년     | \n",
       "| 5        | 05/01/14 | UK       | F        | 99       | 2        | 2        | 1        |  2       |  1       | 백수     | \n",
       "\n",
       "\n"
      ],
      "text/plain": [
       "  managerID examDate nation gender age q1 q2 q3 q4 q5 age_cate\n",
       "1 1         10/24/14 US     M      32  5  4  5   5  5 청년    \n",
       "2 2         10/28/14 US     F      45  3  5  2   5  5 불혹    \n",
       "3 3         10/01/14 UK     F      25  3  5  5   5  2 약관    \n",
       "4 4         10/12/14 UK     M      39  3  3  4  NA NA 청년    \n",
       "5 5         05/01/14 UK     F      99  2  2  1   2  1 백수    "
      ]
     },
     "metadata": {},
     "output_type": "display_data"
    }
   ],
   "source": [
    "leadership<-rename(leadership,c(c1='managerID',c2='examDate',c3='nation',c4='gender',c5='age'))\n",
    "leadership"
   ]
  },
  {
   "cell_type": "markdown",
   "metadata": {},
   "source": [
    "<h4>4)결측값(누락된 값) 처리</h4><br>\n",
    "누락, 오류, 부적절한 데이터를 보완 -NA <br>\n",
    "is.na()는 누락값 여부 확인<br>"
   ]
  },
  {
   "cell_type": "code",
   "execution_count": 58,
   "metadata": {},
   "outputs": [
    {
     "data": {
      "text/html": [
       "<ol class=list-inline>\n",
       "\t<li>FALSE</li>\n",
       "\t<li>FALSE</li>\n",
       "\t<li>FALSE</li>\n",
       "\t<li>TRUE</li>\n",
       "</ol>\n"
      ],
      "text/latex": [
       "\\begin{enumerate*}\n",
       "\\item FALSE\n",
       "\\item FALSE\n",
       "\\item FALSE\n",
       "\\item TRUE\n",
       "\\end{enumerate*}\n"
      ],
      "text/markdown": [
       "1. FALSE\n",
       "2. FALSE\n",
       "3. FALSE\n",
       "4. TRUE\n",
       "\n",
       "\n"
      ],
      "text/plain": [
       "[1] FALSE FALSE FALSE  TRUE"
      ]
     },
     "metadata": {},
     "output_type": "display_data"
    },
    {
     "data": {
      "text/html": [
       "<table>\n",
       "<thead><tr><th></th><th scope=col>q1</th><th scope=col>q2</th><th scope=col>q3</th><th scope=col>q4</th><th scope=col>q5</th></tr></thead>\n",
       "<tbody>\n",
       "\t<tr><th scope=row>1</th><td>FALSE</td><td>FALSE</td><td>FALSE</td><td>FALSE</td><td>FALSE</td></tr>\n",
       "\t<tr><th scope=row>2</th><td>FALSE</td><td>FALSE</td><td>FALSE</td><td>FALSE</td><td>FALSE</td></tr>\n",
       "\t<tr><th scope=row>3</th><td>FALSE</td><td>FALSE</td><td>FALSE</td><td>FALSE</td><td>FALSE</td></tr>\n",
       "\t<tr><th scope=row>4</th><td>FALSE</td><td>FALSE</td><td>FALSE</td><td> TRUE</td><td> TRUE</td></tr>\n",
       "\t<tr><th scope=row>5</th><td>FALSE</td><td>FALSE</td><td>FALSE</td><td>FALSE</td><td>FALSE</td></tr>\n",
       "</tbody>\n",
       "</table>\n"
      ],
      "text/latex": [
       "\\begin{tabular}{r|lllll}\n",
       "  & q1 & q2 & q3 & q4 & q5\\\\\n",
       "\\hline\n",
       "\t1 & FALSE & FALSE & FALSE & FALSE & FALSE\\\\\n",
       "\t2 & FALSE & FALSE & FALSE & FALSE & FALSE\\\\\n",
       "\t3 & FALSE & FALSE & FALSE & FALSE & FALSE\\\\\n",
       "\t4 & FALSE & FALSE & FALSE &  TRUE &  TRUE\\\\\n",
       "\t5 & FALSE & FALSE & FALSE & FALSE & FALSE\\\\\n",
       "\\end{tabular}\n"
      ],
      "text/markdown": [
       "\n",
       "| <!--/--> | q1 | q2 | q3 | q4 | q5 | \n",
       "|---|---|---|---|---|\n",
       "| 1 | FALSE | FALSE | FALSE | FALSE | FALSE | \n",
       "| 2 | FALSE | FALSE | FALSE | FALSE | FALSE | \n",
       "| 3 | FALSE | FALSE | FALSE | FALSE | FALSE | \n",
       "| 4 | FALSE | FALSE | FALSE |  TRUE |  TRUE | \n",
       "| 5 | FALSE | FALSE | FALSE | FALSE | FALSE | \n",
       "\n",
       "\n"
      ],
      "text/plain": [
       "  q1    q2    q3    q4    q5   \n",
       "1 FALSE FALSE FALSE FALSE FALSE\n",
       "2 FALSE FALSE FALSE FALSE FALSE\n",
       "3 FALSE FALSE FALSE FALSE FALSE\n",
       "4 FALSE FALSE FALSE  TRUE  TRUE\n",
       "5 FALSE FALSE FALSE FALSE FALSE"
      ]
     },
     "metadata": {},
     "output_type": "display_data"
    }
   ],
   "source": [
    "x<-c(1,2,3,NA)\n",
    "is.na(x)         \n",
    "is.na(leadership[,6:10])"
   ]
  },
  {
   "cell_type": "markdown",
   "metadata": {},
   "source": [
    "누락값은 비교불가능 -> 비교연산자 사용불가<br>\n",
    "분석에서 누락값은 제외하는 것이 좋음"
   ]
  },
  {
   "cell_type": "code",
   "execution_count": 60,
   "metadata": {},
   "outputs": [],
   "source": [
    "y <-x[1]+x[2]+x[3]+x[4] #NA가 포함된 벡터에 산술연산을 하면?\n",
    "z<-sum(x)"
   ]
  },
  {
   "cell_type": "code",
   "execution_count": 62,
   "metadata": {},
   "outputs": [
    {
     "data": {
      "text/html": [
       "6"
      ],
      "text/latex": [
       "6"
      ],
      "text/markdown": [
       "6"
      ],
      "text/plain": [
       "[1] 6"
      ]
     },
     "metadata": {},
     "output_type": "display_data"
    }
   ],
   "source": [
    "#na.rm=T를 사용해서 누락값 제외\n",
    "z<-sum(x,na.rm=T)\n",
    "z"
   ]
  },
  {
   "cell_type": "code",
   "execution_count": 64,
   "metadata": {},
   "outputs": [
    {
     "data": {
      "text/html": [
       "<table>\n",
       "<thead><tr><th></th><th scope=col>managerID</th><th scope=col>examDate</th><th scope=col>nation</th><th scope=col>gender</th><th scope=col>age</th><th scope=col>q1</th><th scope=col>q2</th><th scope=col>q3</th><th scope=col>q4</th><th scope=col>q5</th><th scope=col>age_cate</th></tr></thead>\n",
       "<tbody>\n",
       "\t<tr><th scope=row>1</th><td>1       </td><td>10/24/14</td><td>US      </td><td>M       </td><td>32      </td><td>5       </td><td>4       </td><td>5       </td><td>5       </td><td>5       </td><td>청년    </td></tr>\n",
       "\t<tr><th scope=row>2</th><td>2       </td><td>10/28/14</td><td>US      </td><td>F       </td><td>45      </td><td>3       </td><td>5       </td><td>2       </td><td>5       </td><td>5       </td><td>불혹    </td></tr>\n",
       "\t<tr><th scope=row>3</th><td>3       </td><td>10/01/14</td><td>UK      </td><td>F       </td><td>25      </td><td>3       </td><td>5       </td><td>5       </td><td>5       </td><td>2       </td><td>약관    </td></tr>\n",
       "\t<tr><th scope=row>5</th><td>5       </td><td>05/01/14</td><td>UK      </td><td>F       </td><td>99      </td><td>2       </td><td>2       </td><td>1       </td><td>2       </td><td>1       </td><td>백수    </td></tr>\n",
       "</tbody>\n",
       "</table>\n"
      ],
      "text/latex": [
       "\\begin{tabular}{r|lllllllllll}\n",
       "  & managerID & examDate & nation & gender & age & q1 & q2 & q3 & q4 & q5 & age\\_cate\\\\\n",
       "\\hline\n",
       "\t1 & 1        & 10/24/14 & US       & M        & 32       & 5        & 4        & 5        & 5        & 5        & 청년    \\\\\n",
       "\t2 & 2        & 10/28/14 & US       & F        & 45       & 3        & 5        & 2        & 5        & 5        & 불혹    \\\\\n",
       "\t3 & 3        & 10/01/14 & UK       & F        & 25       & 3        & 5        & 5        & 5        & 2        & 약관    \\\\\n",
       "\t5 & 5        & 05/01/14 & UK       & F        & 99       & 2        & 2        & 1        & 2        & 1        & 백수    \\\\\n",
       "\\end{tabular}\n"
      ],
      "text/markdown": [
       "\n",
       "| <!--/--> | managerID | examDate | nation | gender | age | q1 | q2 | q3 | q4 | q5 | age_cate | \n",
       "|---|---|---|---|\n",
       "| 1 | 1        | 10/24/14 | US       | M        | 32       | 5        | 4        | 5        | 5        | 5        | 청년     | \n",
       "| 2 | 2        | 10/28/14 | US       | F        | 45       | 3        | 5        | 2        | 5        | 5        | 불혹     | \n",
       "| 3 | 3        | 10/01/14 | UK       | F        | 25       | 3        | 5        | 5        | 5        | 2        | 약관     | \n",
       "| 5 | 5        | 05/01/14 | UK       | F        | 99       | 2        | 2        | 1        | 2        | 1        | 백수     | \n",
       "\n",
       "\n"
      ],
      "text/plain": [
       "  managerID examDate nation gender age q1 q2 q3 q4 q5 age_cate\n",
       "1 1         10/24/14 US     M      32  5  4  5  5  5  청년    \n",
       "2 2         10/28/14 US     F      45  3  5  2  5  5  불혹    \n",
       "3 3         10/01/14 UK     F      25  3  5  5  5  2  약관    \n",
       "5 5         05/01/14 UK     F      99  2  2  1  2  1  백수    "
      ]
     },
     "metadata": {},
     "output_type": "display_data"
    },
    {
     "data": {
      "text/html": [
       "<table>\n",
       "<thead><tr><th scope=col>managerID</th><th scope=col>examDate</th><th scope=col>nation</th><th scope=col>gender</th><th scope=col>age</th><th scope=col>q1</th><th scope=col>q2</th><th scope=col>q3</th><th scope=col>q4</th><th scope=col>q5</th><th scope=col>age_cate</th></tr></thead>\n",
       "<tbody>\n",
       "\t<tr><td>1       </td><td>10/24/14</td><td>US      </td><td>M       </td><td>32      </td><td>5       </td><td>4       </td><td>5       </td><td> 5      </td><td> 5      </td><td>청년    </td></tr>\n",
       "\t<tr><td>2       </td><td>10/28/14</td><td>US      </td><td>F       </td><td>45      </td><td>3       </td><td>5       </td><td>2       </td><td> 5      </td><td> 5      </td><td>불혹    </td></tr>\n",
       "\t<tr><td>3       </td><td>10/01/14</td><td>UK      </td><td>F       </td><td>25      </td><td>3       </td><td>5       </td><td>5       </td><td> 5      </td><td> 2      </td><td>약관    </td></tr>\n",
       "\t<tr><td>4       </td><td>10/12/14</td><td>UK      </td><td>M       </td><td>39      </td><td>3       </td><td>3       </td><td>4       </td><td>NA      </td><td>NA      </td><td>청년    </td></tr>\n",
       "\t<tr><td>5       </td><td>05/01/14</td><td>UK      </td><td>F       </td><td>99      </td><td>2       </td><td>2       </td><td>1       </td><td> 2      </td><td> 1      </td><td>백수    </td></tr>\n",
       "</tbody>\n",
       "</table>\n"
      ],
      "text/latex": [
       "\\begin{tabular}{r|lllllllllll}\n",
       " managerID & examDate & nation & gender & age & q1 & q2 & q3 & q4 & q5 & age\\_cate\\\\\n",
       "\\hline\n",
       "\t 1        & 10/24/14 & US       & M        & 32       & 5        & 4        & 5        &  5       &  5       & 청년    \\\\\n",
       "\t 2        & 10/28/14 & US       & F        & 45       & 3        & 5        & 2        &  5       &  5       & 불혹    \\\\\n",
       "\t 3        & 10/01/14 & UK       & F        & 25       & 3        & 5        & 5        &  5       &  2       & 약관    \\\\\n",
       "\t 4        & 10/12/14 & UK       & M        & 39       & 3        & 3        & 4        & NA       & NA       & 청년    \\\\\n",
       "\t 5        & 05/01/14 & UK       & F        & 99       & 2        & 2        & 1        &  2       &  1       & 백수    \\\\\n",
       "\\end{tabular}\n"
      ],
      "text/markdown": [
       "\n",
       "managerID | examDate | nation | gender | age | q1 | q2 | q3 | q4 | q5 | age_cate | \n",
       "|---|---|---|---|---|\n",
       "| 1        | 10/24/14 | US       | M        | 32       | 5        | 4        | 5        |  5       |  5       | 청년     | \n",
       "| 2        | 10/28/14 | US       | F        | 45       | 3        | 5        | 2        |  5       |  5       | 불혹     | \n",
       "| 3        | 10/01/14 | UK       | F        | 25       | 3        | 5        | 5        |  5       |  2       | 약관     | \n",
       "| 4        | 10/12/14 | UK       | M        | 39       | 3        | 3        | 4        | NA       | NA       | 청년     | \n",
       "| 5        | 05/01/14 | UK       | F        | 99       | 2        | 2        | 1        |  2       |  1       | 백수     | \n",
       "\n",
       "\n"
      ],
      "text/plain": [
       "  managerID examDate nation gender age q1 q2 q3 q4 q5 age_cate\n",
       "1 1         10/24/14 US     M      32  5  4  5   5  5 청년    \n",
       "2 2         10/28/14 US     F      45  3  5  2   5  5 불혹    \n",
       "3 3         10/01/14 UK     F      25  3  5  5   5  2 약관    \n",
       "4 4         10/12/14 UK     M      39  3  3  4  NA NA 청년    \n",
       "5 5         05/01/14 UK     F      99  2  2  1   2  1 백수    "
      ]
     },
     "metadata": {},
     "output_type": "display_data"
    }
   ],
   "source": [
    "#NA가 있는 관측치를 아예 제거 - na.omit()\n",
    "na.omit(leadership)\n",
    "leadership"
   ]
  },
  {
   "cell_type": "markdown",
   "metadata": {},
   "source": [
    "<h4>5)날짜 데이터 다루기</h4><br>\n",
    "현재 날짜/시간 출력 - Sys.Date(), Sys.Time() <br>\n",
    "날짜 데이터를 입력할때는 보통 문자형식을 사용 <br>\n",
    "경우에 따라 날짜로 검색하거나 계산해야 할 필요가 존재 <br>\n",
    "따라서, 문자형식을 날짜 형식으로 변환해야 함 - as.Date() <br> \n",
    "as.Date() : 기본형식은 yyyy-mm-dd <br>"
   ]
  },
  {
   "cell_type": "code",
   "execution_count": 66,
   "metadata": {},
   "outputs": [
    {
     "data": {
      "text/html": [
       "<time datetime=\"2018-03-23\">2018-03-23</time>"
      ],
      "text/latex": [
       "2018-03-23"
      ],
      "text/markdown": [
       "2018-03-23"
      ],
      "text/plain": [
       "[1] \"2018-03-23\""
      ]
     },
     "metadata": {},
     "output_type": "display_data"
    },
    {
     "data": {
      "text/plain": [
       "[1] \"2018-03-23 11:03:47 KST\""
      ]
     },
     "metadata": {},
     "output_type": "display_data"
    }
   ],
   "source": [
    "Sys.Date()\n",
    "Sys.time()"
   ]
  },
  {
   "cell_type": "code",
   "execution_count": 68,
   "metadata": {},
   "outputs": [
    {
     "data": {
      "text/html": [
       "'character'"
      ],
      "text/latex": [
       "'character'"
      ],
      "text/markdown": [
       "'character'"
      ],
      "text/plain": [
       "[1] \"character\""
      ]
     },
     "metadata": {},
     "output_type": "display_data"
    },
    {
     "data": {
      "text/html": [
       "'Date'"
      ],
      "text/latex": [
       "'Date'"
      ],
      "text/markdown": [
       "'Date'"
      ],
      "text/plain": [
       "[1] \"Date\""
      ]
     },
     "metadata": {},
     "output_type": "display_data"
    },
    {
     "data": {
      "text/html": [
       "<ol class=list-inline>\n",
       "\t<li><time datetime=\"2007-10-05\">2007-10-05</time></li>\n",
       "\t<li><time datetime=\"2018-03-01\">2018-03-01</time></li>\n",
       "</ol>\n"
      ],
      "text/latex": [
       "\\begin{enumerate*}\n",
       "\\item 2007-10-05\n",
       "\\item 2018-03-01\n",
       "\\end{enumerate*}\n"
      ],
      "text/markdown": [
       "1. 2007-10-05\n",
       "2. 2018-03-01\n",
       "\n",
       "\n"
      ],
      "text/plain": [
       "[1] \"2007-10-05\" \"2018-03-01\""
      ]
     },
     "metadata": {},
     "output_type": "display_data"
    }
   ],
   "source": [
    "mydate<-c('2007-10-05','2018-03-01')\n",
    "class(mydate)\n",
    "mydates<-as.Date(mydate)\n",
    "class(mydates)\n",
    "mydates"
   ]
  },
  {
   "cell_type": "code",
   "execution_count": 69,
   "metadata": {},
   "outputs": [
    {
     "data": {
      "text/html": [
       "<ol class=list-inline>\n",
       "\t<li>'01/05/2016'</li>\n",
       "\t<li>'08/16/1975'</li>\n",
       "</ol>\n"
      ],
      "text/latex": [
       "\\begin{enumerate*}\n",
       "\\item '01/05/2016'\n",
       "\\item '08/16/1975'\n",
       "\\end{enumerate*}\n"
      ],
      "text/markdown": [
       "1. '01/05/2016'\n",
       "2. '08/16/1975'\n",
       "\n",
       "\n"
      ],
      "text/plain": [
       "[1] \"01/05/2016\" \"08/16/1975\""
      ]
     },
     "metadata": {},
     "output_type": "display_data"
    },
    {
     "data": {
      "text/html": [
       "<ol class=list-inline>\n",
       "\t<li><time datetime=\"2020-01-05\">2020-01-05</time></li>\n",
       "\t<li><time datetime=\"2019-08-16\">2019-08-16</time></li>\n",
       "</ol>\n"
      ],
      "text/latex": [
       "\\begin{enumerate*}\n",
       "\\item 2020-01-05\n",
       "\\item 2019-08-16\n",
       "\\end{enumerate*}\n"
      ],
      "text/markdown": [
       "1. 2020-01-05\n",
       "2. 2019-08-16\n",
       "\n",
       "\n"
      ],
      "text/plain": [
       "[1] \"2020-01-05\" \"2019-08-16\""
      ]
     },
     "metadata": {},
     "output_type": "display_data"
    }
   ],
   "source": [
    "#기본형식이 아닌 다른 형식의 날짜 데이터는\n",
    "#형식 지정자를 사용해서 변환 해야 함\n",
    "mydate <-c('01/05/2016','08/16/1975')\n",
    "mydate\n",
    "mydates <-as.Date(mydate,'%m/%d/%y')\n",
    "mydates"
   ]
  },
  {
   "cell_type": "code",
   "execution_count": 74,
   "metadata": {},
   "outputs": [],
   "source": [
    "fmt <- '%m/%d/%y' "
   ]
  },
  {
   "cell_type": "code",
   "execution_count": 78,
   "metadata": {},
   "outputs": [
    {
     "data": {
      "text/html": [
       "<table>\n",
       "<thead><tr><th scope=col>managerID</th><th scope=col>examDate</th><th scope=col>nation</th><th scope=col>gender</th><th scope=col>age</th><th scope=col>q1</th><th scope=col>q2</th><th scope=col>q3</th><th scope=col>q4</th><th scope=col>q5</th><th scope=col>age_cate</th></tr></thead>\n",
       "<tbody>\n",
       "\t<tr><td>1       </td><td>10/24/14</td><td>US      </td><td>M       </td><td>32      </td><td>5       </td><td>4       </td><td>5       </td><td> 5      </td><td> 5      </td><td>청년    </td></tr>\n",
       "\t<tr><td>2       </td><td>10/28/14</td><td>US      </td><td>F       </td><td>45      </td><td>3       </td><td>5       </td><td>2       </td><td> 5      </td><td> 5      </td><td>불혹    </td></tr>\n",
       "\t<tr><td>3       </td><td>10/01/14</td><td>UK      </td><td>F       </td><td>25      </td><td>3       </td><td>5       </td><td>5       </td><td> 5      </td><td> 2      </td><td>약관    </td></tr>\n",
       "\t<tr><td>4       </td><td>10/12/14</td><td>UK      </td><td>M       </td><td>39      </td><td>3       </td><td>3       </td><td>4       </td><td>NA      </td><td>NA      </td><td>청년    </td></tr>\n",
       "\t<tr><td>5       </td><td>05/01/14</td><td>UK      </td><td>F       </td><td>99      </td><td>2       </td><td>2       </td><td>1       </td><td> 2      </td><td> 1      </td><td>백수    </td></tr>\n",
       "</tbody>\n",
       "</table>\n"
      ],
      "text/latex": [
       "\\begin{tabular}{r|lllllllllll}\n",
       " managerID & examDate & nation & gender & age & q1 & q2 & q3 & q4 & q5 & age\\_cate\\\\\n",
       "\\hline\n",
       "\t 1        & 10/24/14 & US       & M        & 32       & 5        & 4        & 5        &  5       &  5       & 청년    \\\\\n",
       "\t 2        & 10/28/14 & US       & F        & 45       & 3        & 5        & 2        &  5       &  5       & 불혹    \\\\\n",
       "\t 3        & 10/01/14 & UK       & F        & 25       & 3        & 5        & 5        &  5       &  2       & 약관    \\\\\n",
       "\t 4        & 10/12/14 & UK       & M        & 39       & 3        & 3        & 4        & NA       & NA       & 청년    \\\\\n",
       "\t 5        & 05/01/14 & UK       & F        & 99       & 2        & 2        & 1        &  2       &  1       & 백수    \\\\\n",
       "\\end{tabular}\n"
      ],
      "text/markdown": [
       "\n",
       "managerID | examDate | nation | gender | age | q1 | q2 | q3 | q4 | q5 | age_cate | \n",
       "|---|---|---|---|---|\n",
       "| 1        | 10/24/14 | US       | M        | 32       | 5        | 4        | 5        |  5       |  5       | 청년     | \n",
       "| 2        | 10/28/14 | US       | F        | 45       | 3        | 5        | 2        |  5       |  5       | 불혹     | \n",
       "| 3        | 10/01/14 | UK       | F        | 25       | 3        | 5        | 5        |  5       |  2       | 약관     | \n",
       "| 4        | 10/12/14 | UK       | M        | 39       | 3        | 3        | 4        | NA       | NA       | 청년     | \n",
       "| 5        | 05/01/14 | UK       | F        | 99       | 2        | 2        | 1        |  2       |  1       | 백수     | \n",
       "\n",
       "\n"
      ],
      "text/plain": [
       "  managerID examDate nation gender age q1 q2 q3 q4 q5 age_cate\n",
       "1 1         10/24/14 US     M      32  5  4  5   5  5 청년    \n",
       "2 2         10/28/14 US     F      45  3  5  2   5  5 불혹    \n",
       "3 3         10/01/14 UK     F      25  3  5  5   5  2 약관    \n",
       "4 4         10/12/14 UK     M      39  3  3  4  NA NA 청년    \n",
       "5 5         05/01/14 UK     F      99  2  2  1   2  1 백수    "
      ]
     },
     "metadata": {},
     "output_type": "display_data"
    }
   ],
   "source": [
    "leadership"
   ]
  },
  {
   "cell_type": "code",
   "execution_count": 80,
   "metadata": {},
   "outputs": [
    {
     "data": {
      "text/html": [
       "'3월,23,2018,18'"
      ],
      "text/latex": [
       "'3월,23,2018,18'"
      ],
      "text/markdown": [
       "'3월,23,2018,18'"
      ],
      "text/plain": [
       "[1] \"3월,23,2018,18\""
      ]
     },
     "metadata": {},
     "output_type": "display_data"
    },
    {
     "data": {
      "text/html": [
       "'금요일 금 23'"
      ],
      "text/latex": [
       "'금요일 금 23'"
      ],
      "text/markdown": [
       "'금요일 금 23'"
      ],
      "text/plain": [
       "[1] \"금요일 금 23\""
      ]
     },
     "metadata": {},
     "output_type": "display_data"
    }
   ],
   "source": [
    "#날짜 변환- format() 형식지정자 %m %d %y\n",
    "today<-Sys.Date()\n",
    "format(today,format='%B,%d,%Y,%y')\n",
    "format(today,format='%A %a %d')"
   ]
  },
  {
   "cell_type": "code",
   "execution_count": 82,
   "metadata": {},
   "outputs": [
    {
     "data": {
      "text/plain": [
       "Time difference of 9107 days"
      ]
     },
     "metadata": {},
     "output_type": "display_data"
    },
    {
     "data": {
      "text/plain": [
       "Time difference of 9107 days"
      ]
     },
     "metadata": {},
     "output_type": "display_data"
    },
    {
     "data": {
      "text/plain": [
       "Time difference of 1301 weeks"
      ]
     },
     "metadata": {},
     "output_type": "display_data"
    },
    {
     "data": {
      "text/plain": [
       "Time difference of 218568 hours"
      ]
     },
     "metadata": {},
     "output_type": "display_data"
    },
    {
     "data": {
      "text/plain": [
       "Time difference of 13114080 mins"
      ]
     },
     "metadata": {},
     "output_type": "display_data"
    }
   ],
   "source": [
    "#날짜계산\n",
    "sdate <-as.Date('1993-03-25')\n",
    "edate<-as.Date('2018-03-01')\n",
    "mydays<-edate-sdate\n",
    "mydays\n",
    "\n",
    "difftime(edate,sdate)\n",
    "difftime(edate,sdate,units='weeks')\n",
    "difftime(edate,sdate,units='hours')\n",
    "difftime(edate,sdate,units='mins')"
   ]
  },
  {
   "cell_type": "code",
   "execution_count": 84,
   "metadata": {},
   "outputs": [
    {
     "data": {
      "text/html": [
       "TRUE"
      ],
      "text/latex": [
       "TRUE"
      ],
      "text/markdown": [
       "TRUE"
      ],
      "text/plain": [
       "[1] TRUE"
      ]
     },
     "metadata": {},
     "output_type": "display_data"
    },
    {
     "data": {
      "text/html": [
       "TRUE"
      ],
      "text/latex": [
       "TRUE"
      ],
      "text/markdown": [
       "TRUE"
      ],
      "text/plain": [
       "[1] TRUE"
      ]
     },
     "metadata": {},
     "output_type": "display_data"
    },
    {
     "data": {
      "text/html": [
       "FALSE"
      ],
      "text/latex": [
       "FALSE"
      ],
      "text/markdown": [
       "FALSE"
      ],
      "text/plain": [
       "[1] FALSE"
      ]
     },
     "metadata": {},
     "output_type": "display_data"
    },
    {
     "data": {
      "text/html": [
       "TRUE"
      ],
      "text/latex": [
       "TRUE"
      ],
      "text/markdown": [
       "TRUE"
      ],
      "text/plain": [
       "[1] TRUE"
      ]
     },
     "metadata": {},
     "output_type": "display_data"
    }
   ],
   "source": [
    "#형변환\n",
    "#as.numeric() : is.numeric()\n",
    "#as.character() : is.character()\n",
    "#as.logical() : is.logical()\n",
    "#as.vector() : is.vector()\n",
    "#날짜를 문자로 변환- as.Character()\n",
    "strDate<-as.character(edate)\n",
    "a<-c(1,2,3)\n",
    "is.numeric(a)\n",
    "is.vector(a)\n",
    "\n",
    "a<-as.character(a)\n",
    "is.numeric(a)\n",
    "is.character(a)"
   ]
  },
  {
   "cell_type": "code",
   "execution_count": 86,
   "metadata": {},
   "outputs": [
    {
     "data": {
      "text/html": [
       "<table>\n",
       "<thead><tr><th></th><th scope=col>managerID</th><th scope=col>examDate</th><th scope=col>nation</th><th scope=col>gender</th><th scope=col>age</th><th scope=col>q1</th><th scope=col>q2</th><th scope=col>q3</th><th scope=col>q4</th><th scope=col>q5</th><th scope=col>age_cate</th></tr></thead>\n",
       "<tbody>\n",
       "\t<tr><th scope=row>3</th><td>3       </td><td>10/01/14</td><td>UK      </td><td>F       </td><td>25      </td><td>3       </td><td>5       </td><td>5       </td><td> 5      </td><td> 2      </td><td>약관    </td></tr>\n",
       "\t<tr><th scope=row>1</th><td>1       </td><td>10/24/14</td><td>US      </td><td>M       </td><td>32      </td><td>5       </td><td>4       </td><td>5       </td><td> 5      </td><td> 5      </td><td>청년    </td></tr>\n",
       "\t<tr><th scope=row>4</th><td>4       </td><td>10/12/14</td><td>UK      </td><td>M       </td><td>39      </td><td>3       </td><td>3       </td><td>4       </td><td>NA      </td><td>NA      </td><td>청년    </td></tr>\n",
       "\t<tr><th scope=row>2</th><td>2       </td><td>10/28/14</td><td>US      </td><td>F       </td><td>45      </td><td>3       </td><td>5       </td><td>2       </td><td> 5      </td><td> 5      </td><td>불혹    </td></tr>\n",
       "\t<tr><th scope=row>5</th><td>5       </td><td>05/01/14</td><td>UK      </td><td>F       </td><td>99      </td><td>2       </td><td>2       </td><td>1       </td><td> 2      </td><td> 1      </td><td>백수    </td></tr>\n",
       "</tbody>\n",
       "</table>\n"
      ],
      "text/latex": [
       "\\begin{tabular}{r|lllllllllll}\n",
       "  & managerID & examDate & nation & gender & age & q1 & q2 & q3 & q4 & q5 & age\\_cate\\\\\n",
       "\\hline\n",
       "\t3 & 3        & 10/01/14 & UK       & F        & 25       & 3        & 5        & 5        &  5       &  2       & 약관    \\\\\n",
       "\t1 & 1        & 10/24/14 & US       & M        & 32       & 5        & 4        & 5        &  5       &  5       & 청년    \\\\\n",
       "\t4 & 4        & 10/12/14 & UK       & M        & 39       & 3        & 3        & 4        & NA       & NA       & 청년    \\\\\n",
       "\t2 & 2        & 10/28/14 & US       & F        & 45       & 3        & 5        & 2        &  5       &  5       & 불혹    \\\\\n",
       "\t5 & 5        & 05/01/14 & UK       & F        & 99       & 2        & 2        & 1        &  2       &  1       & 백수    \\\\\n",
       "\\end{tabular}\n"
      ],
      "text/markdown": [
       "\n",
       "| <!--/--> | managerID | examDate | nation | gender | age | q1 | q2 | q3 | q4 | q5 | age_cate | \n",
       "|---|---|---|---|---|\n",
       "| 3 | 3        | 10/01/14 | UK       | F        | 25       | 3        | 5        | 5        |  5       |  2       | 약관     | \n",
       "| 1 | 1        | 10/24/14 | US       | M        | 32       | 5        | 4        | 5        |  5       |  5       | 청년     | \n",
       "| 4 | 4        | 10/12/14 | UK       | M        | 39       | 3        | 3        | 4        | NA       | NA       | 청년     | \n",
       "| 2 | 2        | 10/28/14 | US       | F        | 45       | 3        | 5        | 2        |  5       |  5       | 불혹     | \n",
       "| 5 | 5        | 05/01/14 | UK       | F        | 99       | 2        | 2        | 1        |  2       |  1       | 백수     | \n",
       "\n",
       "\n"
      ],
      "text/plain": [
       "  managerID examDate nation gender age q1 q2 q3 q4 q5 age_cate\n",
       "3 3         10/01/14 UK     F      25  3  5  5   5  2 약관    \n",
       "1 1         10/24/14 US     M      32  5  4  5   5  5 청년    \n",
       "4 4         10/12/14 UK     M      39  3  3  4  NA NA 청년    \n",
       "2 2         10/28/14 US     F      45  3  5  2   5  5 불혹    \n",
       "5 5         05/01/14 UK     F      99  2  2  1   2  1 백수    "
      ]
     },
     "metadata": {},
     "output_type": "display_data"
    },
    {
     "data": {
      "text/html": [
       "<table>\n",
       "<thead><tr><th></th><th scope=col>managerID</th><th scope=col>examDate</th><th scope=col>nation</th><th scope=col>gender</th><th scope=col>age</th><th scope=col>q1</th><th scope=col>q2</th><th scope=col>q3</th><th scope=col>q4</th><th scope=col>q5</th><th scope=col>age_cate</th></tr></thead>\n",
       "<tbody>\n",
       "\t<tr><th scope=row>3</th><td>3       </td><td>10/01/14</td><td>UK      </td><td>F       </td><td>25      </td><td>3       </td><td>5       </td><td>5       </td><td> 5      </td><td> 2      </td><td>약관    </td></tr>\n",
       "\t<tr><th scope=row>2</th><td>2       </td><td>10/28/14</td><td>US      </td><td>F       </td><td>45      </td><td>3       </td><td>5       </td><td>2       </td><td> 5      </td><td> 5      </td><td>불혹    </td></tr>\n",
       "\t<tr><th scope=row>5</th><td>5       </td><td>05/01/14</td><td>UK      </td><td>F       </td><td>99      </td><td>2       </td><td>2       </td><td>1       </td><td> 2      </td><td> 1      </td><td>백수    </td></tr>\n",
       "\t<tr><th scope=row>1</th><td>1       </td><td>10/24/14</td><td>US      </td><td>M       </td><td>32      </td><td>5       </td><td>4       </td><td>5       </td><td> 5      </td><td> 5      </td><td>청년    </td></tr>\n",
       "\t<tr><th scope=row>4</th><td>4       </td><td>10/12/14</td><td>UK      </td><td>M       </td><td>39      </td><td>3       </td><td>3       </td><td>4       </td><td>NA      </td><td>NA      </td><td>청년    </td></tr>\n",
       "</tbody>\n",
       "</table>\n"
      ],
      "text/latex": [
       "\\begin{tabular}{r|lllllllllll}\n",
       "  & managerID & examDate & nation & gender & age & q1 & q2 & q3 & q4 & q5 & age\\_cate\\\\\n",
       "\\hline\n",
       "\t3 & 3        & 10/01/14 & UK       & F        & 25       & 3        & 5        & 5        &  5       &  2       & 약관    \\\\\n",
       "\t2 & 2        & 10/28/14 & US       & F        & 45       & 3        & 5        & 2        &  5       &  5       & 불혹    \\\\\n",
       "\t5 & 5        & 05/01/14 & UK       & F        & 99       & 2        & 2        & 1        &  2       &  1       & 백수    \\\\\n",
       "\t1 & 1        & 10/24/14 & US       & M        & 32       & 5        & 4        & 5        &  5       &  5       & 청년    \\\\\n",
       "\t4 & 4        & 10/12/14 & UK       & M        & 39       & 3        & 3        & 4        & NA       & NA       & 청년    \\\\\n",
       "\\end{tabular}\n"
      ],
      "text/markdown": [
       "\n",
       "| <!--/--> | managerID | examDate | nation | gender | age | q1 | q2 | q3 | q4 | q5 | age_cate | \n",
       "|---|---|---|---|---|\n",
       "| 3 | 3        | 10/01/14 | UK       | F        | 25       | 3        | 5        | 5        |  5       |  2       | 약관     | \n",
       "| 2 | 2        | 10/28/14 | US       | F        | 45       | 3        | 5        | 2        |  5       |  5       | 불혹     | \n",
       "| 5 | 5        | 05/01/14 | UK       | F        | 99       | 2        | 2        | 1        |  2       |  1       | 백수     | \n",
       "| 1 | 1        | 10/24/14 | US       | M        | 32       | 5        | 4        | 5        |  5       |  5       | 청년     | \n",
       "| 4 | 4        | 10/12/14 | UK       | M        | 39       | 3        | 3        | 4        | NA       | NA       | 청년     | \n",
       "\n",
       "\n"
      ],
      "text/plain": [
       "  managerID examDate nation gender age q1 q2 q3 q4 q5 age_cate\n",
       "3 3         10/01/14 UK     F      25  3  5  5   5  2 약관    \n",
       "2 2         10/28/14 US     F      45  3  5  2   5  5 불혹    \n",
       "5 5         05/01/14 UK     F      99  2  2  1   2  1 백수    \n",
       "1 1         10/24/14 US     M      32  5  4  5   5  5 청년    \n",
       "4 4         10/12/14 UK     M      39  3  3  4  NA NA 청년    "
      ]
     },
     "metadata": {},
     "output_type": "display_data"
    },
    {
     "data": {
      "text/html": [
       "<table>\n",
       "<thead><tr><th></th><th scope=col>managerID</th><th scope=col>examDate</th><th scope=col>nation</th><th scope=col>gender</th><th scope=col>age</th><th scope=col>q1</th><th scope=col>q2</th><th scope=col>q3</th><th scope=col>q4</th><th scope=col>q5</th><th scope=col>age_cate</th></tr></thead>\n",
       "<tbody>\n",
       "\t<tr><th scope=row>5</th><td>5       </td><td>05/01/14</td><td>UK      </td><td>F       </td><td>99      </td><td>2       </td><td>2       </td><td>1       </td><td> 2      </td><td> 1      </td><td>백수    </td></tr>\n",
       "\t<tr><th scope=row>2</th><td>2       </td><td>10/28/14</td><td>US      </td><td>F       </td><td>45      </td><td>3       </td><td>5       </td><td>2       </td><td> 5      </td><td> 5      </td><td>불혹    </td></tr>\n",
       "\t<tr><th scope=row>3</th><td>3       </td><td>10/01/14</td><td>UK      </td><td>F       </td><td>25      </td><td>3       </td><td>5       </td><td>5       </td><td> 5      </td><td> 2      </td><td>약관    </td></tr>\n",
       "\t<tr><th scope=row>4</th><td>4       </td><td>10/12/14</td><td>UK      </td><td>M       </td><td>39      </td><td>3       </td><td>3       </td><td>4       </td><td>NA      </td><td>NA      </td><td>청년    </td></tr>\n",
       "\t<tr><th scope=row>1</th><td>1       </td><td>10/24/14</td><td>US      </td><td>M       </td><td>32      </td><td>5       </td><td>4       </td><td>5       </td><td> 5      </td><td> 5      </td><td>청년    </td></tr>\n",
       "</tbody>\n",
       "</table>\n"
      ],
      "text/latex": [
       "\\begin{tabular}{r|lllllllllll}\n",
       "  & managerID & examDate & nation & gender & age & q1 & q2 & q3 & q4 & q5 & age\\_cate\\\\\n",
       "\\hline\n",
       "\t5 & 5        & 05/01/14 & UK       & F        & 99       & 2        & 2        & 1        &  2       &  1       & 백수    \\\\\n",
       "\t2 & 2        & 10/28/14 & US       & F        & 45       & 3        & 5        & 2        &  5       &  5       & 불혹    \\\\\n",
       "\t3 & 3        & 10/01/14 & UK       & F        & 25       & 3        & 5        & 5        &  5       &  2       & 약관    \\\\\n",
       "\t4 & 4        & 10/12/14 & UK       & M        & 39       & 3        & 3        & 4        & NA       & NA       & 청년    \\\\\n",
       "\t1 & 1        & 10/24/14 & US       & M        & 32       & 5        & 4        & 5        &  5       &  5       & 청년    \\\\\n",
       "\\end{tabular}\n"
      ],
      "text/markdown": [
       "\n",
       "| <!--/--> | managerID | examDate | nation | gender | age | q1 | q2 | q3 | q4 | q5 | age_cate | \n",
       "|---|---|---|---|---|\n",
       "| 5 | 5        | 05/01/14 | UK       | F        | 99       | 2        | 2        | 1        |  2       |  1       | 백수     | \n",
       "| 2 | 2        | 10/28/14 | US       | F        | 45       | 3        | 5        | 2        |  5       |  5       | 불혹     | \n",
       "| 3 | 3        | 10/01/14 | UK       | F        | 25       | 3        | 5        | 5        |  5       |  2       | 약관     | \n",
       "| 4 | 4        | 10/12/14 | UK       | M        | 39       | 3        | 3        | 4        | NA       | NA       | 청년     | \n",
       "| 1 | 1        | 10/24/14 | US       | M        | 32       | 5        | 4        | 5        |  5       |  5       | 청년     | \n",
       "\n",
       "\n"
      ],
      "text/plain": [
       "  managerID examDate nation gender age q1 q2 q3 q4 q5 age_cate\n",
       "5 5         05/01/14 UK     F      99  2  2  1   2  1 백수    \n",
       "2 2         10/28/14 US     F      45  3  5  2   5  5 불혹    \n",
       "3 3         10/01/14 UK     F      25  3  5  5   5  2 약관    \n",
       "4 4         10/12/14 UK     M      39  3  3  4  NA NA 청년    \n",
       "1 1         10/24/14 US     M      32  5  4  5   5  5 청년    "
      ]
     },
     "metadata": {},
     "output_type": "display_data"
    }
   ],
   "source": [
    "#데이터정렬 -order()\n",
    "leadership[order(leadership$age),]\n",
    "leadership[order(leadership$gender,leadership$age),]\n",
    "leadership[order(leadership$gender,-leadership$age),]"
   ]
  },
  {
   "cell_type": "code",
   "execution_count": 91,
   "metadata": {},
   "outputs": [
    {
     "data": {
      "text/html": [
       "'hello world !!'"
      ],
      "text/latex": [
       "'hello world !!'"
      ],
      "text/markdown": [
       "'hello world !!'"
      ],
      "text/plain": [
       "[1] \"hello world !!\""
      ]
     },
     "metadata": {},
     "output_type": "display_data"
    },
    {
     "data": {
      "text/html": [
       "'helloworld!!'"
      ],
      "text/latex": [
       "'helloworld!!'"
      ],
      "text/markdown": [
       "'helloworld!!'"
      ],
      "text/plain": [
       "[1] \"helloworld!!\""
      ]
     },
     "metadata": {},
     "output_type": "display_data"
    },
    {
     "data": {
      "text/html": [
       "'hello-world-!!'"
      ],
      "text/latex": [
       "'hello-world-!!'"
      ],
      "text/markdown": [
       "'hello-world-!!'"
      ],
      "text/plain": [
       "[1] \"hello-world-!!\""
      ]
     },
     "metadata": {},
     "output_type": "display_data"
    }
   ],
   "source": [
    "#문자열 이어붙이기 :paste\n",
    "myvars<-paste('q',1:5,sep='') #q1,q2,q3,q4,q5\n",
    "newdata<-leadership[myvars]\n",
    "paste('hello','world','!!')\n",
    "paste('hello','world','!!',sep='')\n",
    "paste('hello','world','!!',sep='-')"
   ]
  },
  {
   "cell_type": "code",
   "execution_count": 93,
   "metadata": {},
   "outputs": [],
   "source": [
    "#변수 제외하기 : !, -, NULL\n",
    "myvars<-names(leadership) %in% c('q3','q4')"
   ]
  },
  {
   "cell_type": "code",
   "execution_count": 95,
   "metadata": {},
   "outputs": [
    {
     "data": {
      "text/html": [
       "<ol class=list-inline>\n",
       "\t<li>FALSE</li>\n",
       "\t<li>FALSE</li>\n",
       "\t<li>FALSE</li>\n",
       "\t<li>FALSE</li>\n",
       "\t<li>FALSE</li>\n",
       "\t<li>FALSE</li>\n",
       "\t<li>FALSE</li>\n",
       "\t<li>TRUE</li>\n",
       "\t<li>TRUE</li>\n",
       "\t<li>FALSE</li>\n",
       "\t<li>FALSE</li>\n",
       "</ol>\n"
      ],
      "text/latex": [
       "\\begin{enumerate*}\n",
       "\\item FALSE\n",
       "\\item FALSE\n",
       "\\item FALSE\n",
       "\\item FALSE\n",
       "\\item FALSE\n",
       "\\item FALSE\n",
       "\\item FALSE\n",
       "\\item TRUE\n",
       "\\item TRUE\n",
       "\\item FALSE\n",
       "\\item FALSE\n",
       "\\end{enumerate*}\n"
      ],
      "text/markdown": [
       "1. FALSE\n",
       "2. FALSE\n",
       "3. FALSE\n",
       "4. FALSE\n",
       "5. FALSE\n",
       "6. FALSE\n",
       "7. FALSE\n",
       "8. TRUE\n",
       "9. TRUE\n",
       "10. FALSE\n",
       "11. FALSE\n",
       "\n",
       "\n"
      ],
      "text/plain": [
       " [1] FALSE FALSE FALSE FALSE FALSE FALSE FALSE  TRUE  TRUE FALSE FALSE"
      ]
     },
     "metadata": {},
     "output_type": "display_data"
    }
   ],
   "source": [
    "#%in% : R의 특수 연산자 - 특정값 포함 여부 검사 \n",
    "myvars\n"
   ]
  },
  {
   "cell_type": "code",
   "execution_count": 96,
   "metadata": {},
   "outputs": [
    {
     "data": {
      "text/html": [
       "<table>\n",
       "<thead><tr><th scope=col>managerID</th><th scope=col>examDate</th><th scope=col>nation</th><th scope=col>gender</th><th scope=col>age</th><th scope=col>q1</th><th scope=col>q2</th><th scope=col>q5</th><th scope=col>age_cate</th></tr></thead>\n",
       "<tbody>\n",
       "\t<tr><td>1       </td><td>10/24/14</td><td>US      </td><td>M       </td><td>32      </td><td>5       </td><td>4       </td><td> 5      </td><td>청년    </td></tr>\n",
       "\t<tr><td>2       </td><td>10/28/14</td><td>US      </td><td>F       </td><td>45      </td><td>3       </td><td>5       </td><td> 5      </td><td>불혹    </td></tr>\n",
       "\t<tr><td>3       </td><td>10/01/14</td><td>UK      </td><td>F       </td><td>25      </td><td>3       </td><td>5       </td><td> 2      </td><td>약관    </td></tr>\n",
       "\t<tr><td>4       </td><td>10/12/14</td><td>UK      </td><td>M       </td><td>39      </td><td>3       </td><td>3       </td><td>NA      </td><td>청년    </td></tr>\n",
       "\t<tr><td>5       </td><td>05/01/14</td><td>UK      </td><td>F       </td><td>99      </td><td>2       </td><td>2       </td><td> 1      </td><td>백수    </td></tr>\n",
       "</tbody>\n",
       "</table>\n"
      ],
      "text/latex": [
       "\\begin{tabular}{r|lllllllll}\n",
       " managerID & examDate & nation & gender & age & q1 & q2 & q5 & age\\_cate\\\\\n",
       "\\hline\n",
       "\t 1        & 10/24/14 & US       & M        & 32       & 5        & 4        &  5       & 청년    \\\\\n",
       "\t 2        & 10/28/14 & US       & F        & 45       & 3        & 5        &  5       & 불혹    \\\\\n",
       "\t 3        & 10/01/14 & UK       & F        & 25       & 3        & 5        &  2       & 약관    \\\\\n",
       "\t 4        & 10/12/14 & UK       & M        & 39       & 3        & 3        & NA       & 청년    \\\\\n",
       "\t 5        & 05/01/14 & UK       & F        & 99       & 2        & 2        &  1       & 백수    \\\\\n",
       "\\end{tabular}\n"
      ],
      "text/markdown": [
       "\n",
       "managerID | examDate | nation | gender | age | q1 | q2 | q5 | age_cate | \n",
       "|---|---|---|---|---|\n",
       "| 1        | 10/24/14 | US       | M        | 32       | 5        | 4        |  5       | 청년     | \n",
       "| 2        | 10/28/14 | US       | F        | 45       | 3        | 5        |  5       | 불혹     | \n",
       "| 3        | 10/01/14 | UK       | F        | 25       | 3        | 5        |  2       | 약관     | \n",
       "| 4        | 10/12/14 | UK       | M        | 39       | 3        | 3        | NA       | 청년     | \n",
       "| 5        | 05/01/14 | UK       | F        | 99       | 2        | 2        |  1       | 백수     | \n",
       "\n",
       "\n"
      ],
      "text/plain": [
       "  managerID examDate nation gender age q1 q2 q5 age_cate\n",
       "1 1         10/24/14 US     M      32  5  4   5 청년    \n",
       "2 2         10/28/14 US     F      45  3  5   5 불혹    \n",
       "3 3         10/01/14 UK     F      25  3  5   2 약관    \n",
       "4 4         10/12/14 UK     M      39  3  3  NA 청년    \n",
       "5 5         05/01/14 UK     F      99  2  2   1 백수    "
      ]
     },
     "metadata": {},
     "output_type": "display_data"
    },
    {
     "data": {
      "text/html": [
       "<table>\n",
       "<thead><tr><th scope=col>managerID</th><th scope=col>examDate</th><th scope=col>nation</th><th scope=col>gender</th><th scope=col>age</th><th scope=col>q1</th><th scope=col>q2</th><th scope=col>q5</th><th scope=col>age_cate</th></tr></thead>\n",
       "<tbody>\n",
       "\t<tr><td>1       </td><td>10/24/14</td><td>US      </td><td>M       </td><td>32      </td><td>5       </td><td>4       </td><td> 5      </td><td>청년    </td></tr>\n",
       "\t<tr><td>2       </td><td>10/28/14</td><td>US      </td><td>F       </td><td>45      </td><td>3       </td><td>5       </td><td> 5      </td><td>불혹    </td></tr>\n",
       "\t<tr><td>3       </td><td>10/01/14</td><td>UK      </td><td>F       </td><td>25      </td><td>3       </td><td>5       </td><td> 2      </td><td>약관    </td></tr>\n",
       "\t<tr><td>4       </td><td>10/12/14</td><td>UK      </td><td>M       </td><td>39      </td><td>3       </td><td>3       </td><td>NA      </td><td>청년    </td></tr>\n",
       "\t<tr><td>5       </td><td>05/01/14</td><td>UK      </td><td>F       </td><td>99      </td><td>2       </td><td>2       </td><td> 1      </td><td>백수    </td></tr>\n",
       "</tbody>\n",
       "</table>\n"
      ],
      "text/latex": [
       "\\begin{tabular}{r|lllllllll}\n",
       " managerID & examDate & nation & gender & age & q1 & q2 & q5 & age\\_cate\\\\\n",
       "\\hline\n",
       "\t 1        & 10/24/14 & US       & M        & 32       & 5        & 4        &  5       & 청년    \\\\\n",
       "\t 2        & 10/28/14 & US       & F        & 45       & 3        & 5        &  5       & 불혹    \\\\\n",
       "\t 3        & 10/01/14 & UK       & F        & 25       & 3        & 5        &  2       & 약관    \\\\\n",
       "\t 4        & 10/12/14 & UK       & M        & 39       & 3        & 3        & NA       & 청년    \\\\\n",
       "\t 5        & 05/01/14 & UK       & F        & 99       & 2        & 2        &  1       & 백수    \\\\\n",
       "\\end{tabular}\n"
      ],
      "text/markdown": [
       "\n",
       "managerID | examDate | nation | gender | age | q1 | q2 | q5 | age_cate | \n",
       "|---|---|---|---|---|\n",
       "| 1        | 10/24/14 | US       | M        | 32       | 5        | 4        |  5       | 청년     | \n",
       "| 2        | 10/28/14 | US       | F        | 45       | 3        | 5        |  5       | 불혹     | \n",
       "| 3        | 10/01/14 | UK       | F        | 25       | 3        | 5        |  2       | 약관     | \n",
       "| 4        | 10/12/14 | UK       | M        | 39       | 3        | 3        | NA       | 청년     | \n",
       "| 5        | 05/01/14 | UK       | F        | 99       | 2        | 2        |  1       | 백수     | \n",
       "\n",
       "\n"
      ],
      "text/plain": [
       "  managerID examDate nation gender age q1 q2 q5 age_cate\n",
       "1 1         10/24/14 US     M      32  5  4   5 청년    \n",
       "2 2         10/28/14 US     F      45  3  5   5 불혹    \n",
       "3 3         10/01/14 UK     F      25  3  5   2 약관    \n",
       "4 4         10/12/14 UK     M      39  3  3  NA 청년    \n",
       "5 5         05/01/14 UK     F      99  2  2   1 백수    "
      ]
     },
     "metadata": {},
     "output_type": "display_data"
    }
   ],
   "source": [
    "newdata<-leadership[myvars]   #TRUE인 열만 출력\n",
    "newdata<-leadership[!myvars]\n",
    "\n",
    "newdata<-leadership[c(8,9)]   #8, 9열 출력\n",
    "newdata<-leadership[c(-8,-9)] #8,9열만 제외하고 출력 \n",
    "newdata\n",
    "\n",
    "leadership$q3 <-leadership$q4 <-NULL \n",
    "leadership"
   ]
  },
  {
   "cell_type": "code",
   "execution_count": 98,
   "metadata": {},
   "outputs": [
    {
     "data": {
      "text/html": [
       "<table>\n",
       "<thead><tr><th scope=col>managerID</th><th scope=col>examDate</th><th scope=col>nation</th><th scope=col>gender</th><th scope=col>age</th><th scope=col>q1</th><th scope=col>q2</th><th scope=col>q5</th><th scope=col>age_cate</th></tr></thead>\n",
       "<tbody>\n",
       "\t<tr><td>1       </td><td>10/24/14</td><td>US      </td><td>M       </td><td>32      </td><td>5       </td><td>4       </td><td>5       </td><td>청년    </td></tr>\n",
       "\t<tr><td>2       </td><td>10/28/14</td><td>US      </td><td>F       </td><td>45      </td><td>3       </td><td>5       </td><td>5       </td><td>불혹    </td></tr>\n",
       "\t<tr><td>3       </td><td>10/01/14</td><td>UK      </td><td>F       </td><td>25      </td><td>3       </td><td>5       </td><td>2       </td><td>약관    </td></tr>\n",
       "</tbody>\n",
       "</table>\n"
      ],
      "text/latex": [
       "\\begin{tabular}{r|lllllllll}\n",
       " managerID & examDate & nation & gender & age & q1 & q2 & q5 & age\\_cate\\\\\n",
       "\\hline\n",
       "\t 1        & 10/24/14 & US       & M        & 32       & 5        & 4        & 5        & 청년    \\\\\n",
       "\t 2        & 10/28/14 & US       & F        & 45       & 3        & 5        & 5        & 불혹    \\\\\n",
       "\t 3        & 10/01/14 & UK       & F        & 25       & 3        & 5        & 2        & 약관    \\\\\n",
       "\\end{tabular}\n"
      ],
      "text/markdown": [
       "\n",
       "managerID | examDate | nation | gender | age | q1 | q2 | q5 | age_cate | \n",
       "|---|---|---|\n",
       "| 1        | 10/24/14 | US       | M        | 32       | 5        | 4        | 5        | 청년     | \n",
       "| 2        | 10/28/14 | US       | F        | 45       | 3        | 5        | 5        | 불혹     | \n",
       "| 3        | 10/01/14 | UK       | F        | 25       | 3        | 5        | 2        | 약관     | \n",
       "\n",
       "\n"
      ],
      "text/plain": [
       "  managerID examDate nation gender age q1 q2 q5 age_cate\n",
       "1 1         10/24/14 US     M      32  5  4  5  청년    \n",
       "2 2         10/28/14 US     F      45  3  5  5  불혹    \n",
       "3 3         10/01/14 UK     F      25  3  5  2  약관    "
      ]
     },
     "metadata": {},
     "output_type": "display_data"
    }
   ],
   "source": [
    "#관측치를 검색 후 선택\n",
    "newdata <-leadership[1:3,]  #1,2,3행 출력\n",
    "newdata"
   ]
  },
  {
   "cell_type": "markdown",
   "metadata": {},
   "source": [
    "<h4>6)데이터를 SQL처럼 사용하자! -sqldf</h4>"
   ]
  },
  {
   "cell_type": "code",
   "execution_count": null,
   "metadata": {},
   "outputs": [],
   "source": [
    "install.packages('sqldf')\n",
    "library(sqldf)\n",
    "\n",
    "remove.packages('RMySQL')\n",
    "detach('RMySQL', unload=T)\n",
    "detach('sqldf',unload=T)\n"
   ]
  },
  {
   "cell_type": "code",
   "execution_count": null,
   "metadata": {},
   "outputs": [],
   "source": [
    "iris #붓꽃 3가지 종류에 대해 꽃받침, 꽃잎길이 정리 \n",
    "sqldf('select * from iris')"
   ]
  },
  {
   "cell_type": "code",
   "execution_count": null,
   "metadata": {},
   "outputs": [],
   "source": [
    "#붓꽃 종을 출력 - 중복배제 \n",
    "sqldf('select distinct Species from iris')\n",
    "unique(iris$Species)\n",
    "iris[!duplicated(iris$Species),]"
   ]
  },
  {
   "cell_type": "code",
   "execution_count": null,
   "metadata": {},
   "outputs": [],
   "source": [
    "install.packages('plyr')\n",
    "library(plyr)\n",
    "\n",
    "install.packages(\"dplyr\")\n",
    "library(\"dplyr\")"
   ]
  },
  {
   "cell_type": "code",
   "execution_count": 108,
   "metadata": {},
   "outputs": [
    {
     "data": {
      "text/html": [
       "<table>\n",
       "<thead><tr><th scope=col>count(Species)</th></tr></thead>\n",
       "<tbody>\n",
       "\t<tr><td>101</td></tr>\n",
       "</tbody>\n",
       "</table>\n"
      ],
      "text/latex": [
       "\\begin{tabular}{r|l}\n",
       " count(Species)\\\\\n",
       "\\hline\n",
       "\t 101\\\\\n",
       "\\end{tabular}\n"
      ],
      "text/markdown": [
       "\n",
       "count(Species) | \n",
       "|---|\n",
       "| 101 | \n",
       "\n",
       "\n"
      ],
      "text/plain": [
       "  count(Species)\n",
       "1 101           "
      ]
     },
     "metadata": {},
     "output_type": "display_data"
    },
    {
     "data": {
      "text/html": [
       "<table>\n",
       "<thead><tr><th scope=col>Species</th><th scope=col>sum</th></tr></thead>\n",
       "<tbody>\n",
       "\t<tr><td>setosa    </td><td>5.006     </td></tr>\n",
       "\t<tr><td>versicolor</td><td>5.936     </td></tr>\n",
       "\t<tr><td>virginica </td><td>6.588     </td></tr>\n",
       "</tbody>\n",
       "</table>\n"
      ],
      "text/latex": [
       "\\begin{tabular}{r|ll}\n",
       " Species & sum\\\\\n",
       "\\hline\n",
       "\t setosa     & 5.006     \\\\\n",
       "\t versicolor & 5.936     \\\\\n",
       "\t virginica  & 6.588     \\\\\n",
       "\\end{tabular}\n"
      ],
      "text/markdown": [
       "\n",
       "Species | sum | \n",
       "|---|---|---|\n",
       "| setosa     | 5.006      | \n",
       "| versicolor | 5.936      | \n",
       "| virginica  | 6.588      | \n",
       "\n",
       "\n"
      ],
      "text/plain": [
       "  Species    sum  \n",
       "1 setosa     5.006\n",
       "2 versicolor 5.936\n",
       "3 virginica  6.588"
      ]
     },
     "metadata": {},
     "output_type": "display_data"
    }
   ],
   "source": [
    "sql<-'select count(Species) from iris where \"Petal.Width\">0.5'\n",
    "sqldf(sql)\n",
    "\n",
    "sql<-'select species,avg(\"sepal.Length\") as sum from iris group by species'\n",
    "sqldf(sql)"
   ]
  },
  {
   "cell_type": "code",
   "execution_count": 111,
   "metadata": {},
   "outputs": [
    {
     "name": "stderr",
     "output_type": "stream",
     "text": [
      "Warning message:\n",
      "\"package 'googleVis' is in use and will not be installed\""
     ]
    },
    {
     "data": {
      "text/html": [
       "<table>\n",
       "<thead><tr><th scope=col>Fruit</th><th scope=col>Year</th><th scope=col>Location</th><th scope=col>Sales</th><th scope=col>Expenses</th><th scope=col>Profit</th><th scope=col>Date</th></tr></thead>\n",
       "<tbody>\n",
       "\t<tr><td>Apples    </td><td>2008      </td><td>West      </td><td> 98       </td><td>78        </td><td>20        </td><td>2008-12-31</td></tr>\n",
       "\t<tr><td>Apples    </td><td>2009      </td><td>West      </td><td>111       </td><td>79        </td><td>32        </td><td>2009-12-31</td></tr>\n",
       "\t<tr><td>Apples    </td><td>2010      </td><td>West      </td><td> 89       </td><td>76        </td><td>13        </td><td>2010-12-31</td></tr>\n",
       "\t<tr><td>Oranges   </td><td>2008      </td><td>East      </td><td> 96       </td><td>81        </td><td>15        </td><td>2008-12-31</td></tr>\n",
       "\t<tr><td>Bananas   </td><td>2008      </td><td>East      </td><td> 85       </td><td>76        </td><td> 9        </td><td>2008-12-31</td></tr>\n",
       "\t<tr><td>Oranges   </td><td>2009      </td><td>East      </td><td> 93       </td><td>80        </td><td>13        </td><td>2009-12-31</td></tr>\n",
       "\t<tr><td>Bananas   </td><td>2009      </td><td>East      </td><td> 94       </td><td>78        </td><td>16        </td><td>2009-12-31</td></tr>\n",
       "\t<tr><td>Oranges   </td><td>2010      </td><td>East      </td><td> 98       </td><td>91        </td><td> 7        </td><td>2010-12-31</td></tr>\n",
       "\t<tr><td>Bananas   </td><td>2010      </td><td>East      </td><td> 81       </td><td>71        </td><td>10        </td><td>2010-12-31</td></tr>\n",
       "</tbody>\n",
       "</table>\n"
      ],
      "text/latex": [
       "\\begin{tabular}{r|lllllll}\n",
       " Fruit & Year & Location & Sales & Expenses & Profit & Date\\\\\n",
       "\\hline\n",
       "\t Apples     & 2008       & West       &  98        & 78         & 20         & 2008-12-31\\\\\n",
       "\t Apples     & 2009       & West       & 111        & 79         & 32         & 2009-12-31\\\\\n",
       "\t Apples     & 2010       & West       &  89        & 76         & 13         & 2010-12-31\\\\\n",
       "\t Oranges    & 2008       & East       &  96        & 81         & 15         & 2008-12-31\\\\\n",
       "\t Bananas    & 2008       & East       &  85        & 76         &  9         & 2008-12-31\\\\\n",
       "\t Oranges    & 2009       & East       &  93        & 80         & 13         & 2009-12-31\\\\\n",
       "\t Bananas    & 2009       & East       &  94        & 78         & 16         & 2009-12-31\\\\\n",
       "\t Oranges    & 2010       & East       &  98        & 91         &  7         & 2010-12-31\\\\\n",
       "\t Bananas    & 2010       & East       &  81        & 71         & 10         & 2010-12-31\\\\\n",
       "\\end{tabular}\n"
      ],
      "text/markdown": [
       "\n",
       "Fruit | Year | Location | Sales | Expenses | Profit | Date | \n",
       "|---|---|---|---|---|---|---|---|---|\n",
       "| Apples     | 2008       | West       |  98        | 78         | 20         | 2008-12-31 | \n",
       "| Apples     | 2009       | West       | 111        | 79         | 32         | 2009-12-31 | \n",
       "| Apples     | 2010       | West       |  89        | 76         | 13         | 2010-12-31 | \n",
       "| Oranges    | 2008       | East       |  96        | 81         | 15         | 2008-12-31 | \n",
       "| Bananas    | 2008       | East       |  85        | 76         |  9         | 2008-12-31 | \n",
       "| Oranges    | 2009       | East       |  93        | 80         | 13         | 2009-12-31 | \n",
       "| Bananas    | 2009       | East       |  94        | 78         | 16         | 2009-12-31 | \n",
       "| Oranges    | 2010       | East       |  98        | 91         |  7         | 2010-12-31 | \n",
       "| Bananas    | 2010       | East       |  81        | 71         | 10         | 2010-12-31 | \n",
       "\n",
       "\n"
      ],
      "text/plain": [
       "  Fruit   Year Location Sales Expenses Profit Date      \n",
       "1 Apples  2008 West      98   78       20     2008-12-31\n",
       "2 Apples  2009 West     111   79       32     2009-12-31\n",
       "3 Apples  2010 West      89   76       13     2010-12-31\n",
       "4 Oranges 2008 East      96   81       15     2008-12-31\n",
       "5 Bananas 2008 East      85   76        9     2008-12-31\n",
       "6 Oranges 2009 East      93   80       13     2009-12-31\n",
       "7 Bananas 2009 East      94   78       16     2009-12-31\n",
       "8 Oranges 2010 East      98   91        7     2010-12-31\n",
       "9 Bananas 2010 East      81   71       10     2010-12-31"
      ]
     },
     "metadata": {},
     "output_type": "display_data"
    },
    {
     "data": {
      "text/html": [
       "<table>\n",
       "<thead><tr><th scope=col>Fruit</th><th scope=col>Year</th><th scope=col>Location</th><th scope=col>Sales</th><th scope=col>Expenses</th><th scope=col>Profit</th><th scope=col>Date</th></tr></thead>\n",
       "<tbody>\n",
       "\t<tr><td>Apples    </td><td>2008      </td><td>West      </td><td> 98       </td><td>78        </td><td>20        </td><td>2008-12-31</td></tr>\n",
       "\t<tr><td>Apples    </td><td>2009      </td><td>West      </td><td>111       </td><td>79        </td><td>32        </td><td>2009-12-31</td></tr>\n",
       "\t<tr><td>Apples    </td><td>2010      </td><td>West      </td><td> 89       </td><td>76        </td><td>13        </td><td>2010-12-31</td></tr>\n",
       "</tbody>\n",
       "</table>\n"
      ],
      "text/latex": [
       "\\begin{tabular}{r|lllllll}\n",
       " Fruit & Year & Location & Sales & Expenses & Profit & Date\\\\\n",
       "\\hline\n",
       "\t Apples     & 2008       & West       &  98        & 78         & 20         & 2008-12-31\\\\\n",
       "\t Apples     & 2009       & West       & 111        & 79         & 32         & 2009-12-31\\\\\n",
       "\t Apples     & 2010       & West       &  89        & 76         & 13         & 2010-12-31\\\\\n",
       "\\end{tabular}\n"
      ],
      "text/markdown": [
       "\n",
       "Fruit | Year | Location | Sales | Expenses | Profit | Date | \n",
       "|---|---|---|\n",
       "| Apples     | 2008       | West       |  98        | 78         | 20         | 2008-12-31 | \n",
       "| Apples     | 2009       | West       | 111        | 79         | 32         | 2009-12-31 | \n",
       "| Apples     | 2010       | West       |  89        | 76         | 13         | 2010-12-31 | \n",
       "\n",
       "\n"
      ],
      "text/plain": [
       "  Fruit  Year Location Sales Expenses Profit Date      \n",
       "1 Apples 2008 West      98   78       20     2008-12-31\n",
       "2 Apples 2009 West     111   79       32     2009-12-31\n",
       "3 Apples 2010 West      89   76       13     2010-12-31"
      ]
     },
     "metadata": {},
     "output_type": "display_data"
    },
    {
     "data": {
      "text/html": [
       "<table>\n",
       "<thead><tr><th scope=col>Fruit</th><th scope=col>Year</th><th scope=col>Location</th><th scope=col>Sales</th><th scope=col>Expenses</th><th scope=col>Profit</th><th scope=col>Date</th></tr></thead>\n",
       "<tbody>\n",
       "\t<tr><td>Apples    </td><td>2008      </td><td>West      </td><td> 98       </td><td>78        </td><td>20        </td><td>2008-12-31</td></tr>\n",
       "\t<tr><td>Apples    </td><td>2009      </td><td>West      </td><td>111       </td><td>79        </td><td>32        </td><td>2009-12-31</td></tr>\n",
       "\t<tr><td>Apples    </td><td>2010      </td><td>West      </td><td> 89       </td><td>76        </td><td>13        </td><td>2010-12-31</td></tr>\n",
       "</tbody>\n",
       "</table>\n"
      ],
      "text/latex": [
       "\\begin{tabular}{r|lllllll}\n",
       " Fruit & Year & Location & Sales & Expenses & Profit & Date\\\\\n",
       "\\hline\n",
       "\t Apples     & 2008       & West       &  98        & 78         & 20         & 2008-12-31\\\\\n",
       "\t Apples     & 2009       & West       & 111        & 79         & 32         & 2009-12-31\\\\\n",
       "\t Apples     & 2010       & West       &  89        & 76         & 13         & 2010-12-31\\\\\n",
       "\\end{tabular}\n"
      ],
      "text/markdown": [
       "\n",
       "Fruit | Year | Location | Sales | Expenses | Profit | Date | \n",
       "|---|---|---|\n",
       "| Apples     | 2008       | West       |  98        | 78         | 20         | 2008-12-31 | \n",
       "| Apples     | 2009       | West       | 111        | 79         | 32         | 2009-12-31 | \n",
       "| Apples     | 2010       | West       |  89        | 76         | 13         | 2010-12-31 | \n",
       "\n",
       "\n"
      ],
      "text/plain": [
       "  Fruit  Year Location Sales Expenses Profit Date      \n",
       "1 Apples 2008 West      98   78       20     2008-12-31\n",
       "2 Apples 2009 West     111   79       32     2009-12-31\n",
       "3 Apples 2010 West      89   76       13     2010-12-31"
      ]
     },
     "metadata": {},
     "output_type": "display_data"
    },
    {
     "data": {
      "text/html": [
       "<table>\n",
       "<thead><tr><th scope=col>Fruit</th><th scope=col>Year</th><th scope=col>Location</th><th scope=col>Sales</th><th scope=col>Expenses</th><th scope=col>Profit</th><th scope=col>Date</th></tr></thead>\n",
       "<tbody>\n",
       "\t<tr><td>Apples    </td><td>2008      </td><td>West      </td><td> 98       </td><td>78        </td><td>20        </td><td>2008-12-31</td></tr>\n",
       "\t<tr><td>Oranges   </td><td>2008      </td><td>East      </td><td> 96       </td><td>81        </td><td>15        </td><td>2008-12-31</td></tr>\n",
       "\t<tr><td>Bananas   </td><td>2008      </td><td>East      </td><td> 85       </td><td>76        </td><td> 9        </td><td>2008-12-31</td></tr>\n",
       "\t<tr><td>Apples    </td><td>2009      </td><td>West      </td><td>111       </td><td>79        </td><td>32        </td><td>2009-12-31</td></tr>\n",
       "\t<tr><td>Oranges   </td><td>2009      </td><td>East      </td><td> 93       </td><td>80        </td><td>13        </td><td>2009-12-31</td></tr>\n",
       "\t<tr><td>Bananas   </td><td>2009      </td><td>East      </td><td> 94       </td><td>78        </td><td>16        </td><td>2009-12-31</td></tr>\n",
       "\t<tr><td>Apples    </td><td>2010      </td><td>West      </td><td> 89       </td><td>76        </td><td>13        </td><td>2010-12-31</td></tr>\n",
       "\t<tr><td>Oranges   </td><td>2010      </td><td>East      </td><td> 98       </td><td>91        </td><td> 7        </td><td>2010-12-31</td></tr>\n",
       "\t<tr><td>Bananas   </td><td>2010      </td><td>East      </td><td> 81       </td><td>71        </td><td>10        </td><td>2010-12-31</td></tr>\n",
       "</tbody>\n",
       "</table>\n"
      ],
      "text/latex": [
       "\\begin{tabular}{r|lllllll}\n",
       " Fruit & Year & Location & Sales & Expenses & Profit & Date\\\\\n",
       "\\hline\n",
       "\t Apples     & 2008       & West       &  98        & 78         & 20         & 2008-12-31\\\\\n",
       "\t Oranges    & 2008       & East       &  96        & 81         & 15         & 2008-12-31\\\\\n",
       "\t Bananas    & 2008       & East       &  85        & 76         &  9         & 2008-12-31\\\\\n",
       "\t Apples     & 2009       & West       & 111        & 79         & 32         & 2009-12-31\\\\\n",
       "\t Oranges    & 2009       & East       &  93        & 80         & 13         & 2009-12-31\\\\\n",
       "\t Bananas    & 2009       & East       &  94        & 78         & 16         & 2009-12-31\\\\\n",
       "\t Apples     & 2010       & West       &  89        & 76         & 13         & 2010-12-31\\\\\n",
       "\t Oranges    & 2010       & East       &  98        & 91         &  7         & 2010-12-31\\\\\n",
       "\t Bananas    & 2010       & East       &  81        & 71         & 10         & 2010-12-31\\\\\n",
       "\\end{tabular}\n"
      ],
      "text/markdown": [
       "\n",
       "Fruit | Year | Location | Sales | Expenses | Profit | Date | \n",
       "|---|---|---|---|---|---|---|---|---|\n",
       "| Apples     | 2008       | West       |  98        | 78         | 20         | 2008-12-31 | \n",
       "| Oranges    | 2008       | East       |  96        | 81         | 15         | 2008-12-31 | \n",
       "| Bananas    | 2008       | East       |  85        | 76         |  9         | 2008-12-31 | \n",
       "| Apples     | 2009       | West       | 111        | 79         | 32         | 2009-12-31 | \n",
       "| Oranges    | 2009       | East       |  93        | 80         | 13         | 2009-12-31 | \n",
       "| Bananas    | 2009       | East       |  94        | 78         | 16         | 2009-12-31 | \n",
       "| Apples     | 2010       | West       |  89        | 76         | 13         | 2010-12-31 | \n",
       "| Oranges    | 2010       | East       |  98        | 91         |  7         | 2010-12-31 | \n",
       "| Bananas    | 2010       | East       |  81        | 71         | 10         | 2010-12-31 | \n",
       "\n",
       "\n"
      ],
      "text/plain": [
       "  Fruit   Year Location Sales Expenses Profit Date      \n",
       "1 Apples  2008 West      98   78       20     2008-12-31\n",
       "2 Oranges 2008 East      96   81       15     2008-12-31\n",
       "3 Bananas 2008 East      85   76        9     2008-12-31\n",
       "4 Apples  2009 West     111   79       32     2009-12-31\n",
       "5 Oranges 2009 East      93   80       13     2009-12-31\n",
       "6 Bananas 2009 East      94   78       16     2009-12-31\n",
       "7 Apples  2010 West      89   76       13     2010-12-31\n",
       "8 Oranges 2010 East      98   91        7     2010-12-31\n",
       "9 Bananas 2010 East      81   71       10     2010-12-31"
      ]
     },
     "metadata": {},
     "output_type": "display_data"
    },
    {
     "data": {
      "text/html": [
       "<table>\n",
       "<thead><tr><th scope=col>sum(Sales)</th><th scope=col>max(Sales)</th></tr></thead>\n",
       "<tbody>\n",
       "\t<tr><td>845</td><td>111</td></tr>\n",
       "</tbody>\n",
       "</table>\n"
      ],
      "text/latex": [
       "\\begin{tabular}{r|ll}\n",
       " sum(Sales) & max(Sales)\\\\\n",
       "\\hline\n",
       "\t 845 & 111\\\\\n",
       "\\end{tabular}\n"
      ],
      "text/markdown": [
       "\n",
       "sum(Sales) | max(Sales) | \n",
       "|---|\n",
       "| 845 | 111 | \n",
       "\n",
       "\n"
      ],
      "text/plain": [
       "  sum(Sales) max(Sales)\n",
       "1 845        111       "
      ]
     },
     "metadata": {},
     "output_type": "display_data"
    },
    {
     "data": {
      "text/html": [
       "<table>\n",
       "<thead><tr><th scope=col>Fruit</th><th scope=col>avg(Sales)</th></tr></thead>\n",
       "<tbody>\n",
       "\t<tr><td>Apples  </td><td>99.33333</td></tr>\n",
       "\t<tr><td>Bananas </td><td>86.66667</td></tr>\n",
       "\t<tr><td>Oranges </td><td>95.66667</td></tr>\n",
       "</tbody>\n",
       "</table>\n"
      ],
      "text/latex": [
       "\\begin{tabular}{r|ll}\n",
       " Fruit & avg(Sales)\\\\\n",
       "\\hline\n",
       "\t Apples   & 99.33333\\\\\n",
       "\t Bananas  & 86.66667\\\\\n",
       "\t Oranges  & 95.66667\\\\\n",
       "\\end{tabular}\n"
      ],
      "text/markdown": [
       "\n",
       "Fruit | avg(Sales) | \n",
       "|---|---|---|\n",
       "| Apples   | 99.33333 | \n",
       "| Bananas  | 86.66667 | \n",
       "| Oranges  | 95.66667 | \n",
       "\n",
       "\n"
      ],
      "text/plain": [
       "  Fruit   avg(Sales)\n",
       "1 Apples  99.33333  \n",
       "2 Bananas 86.66667  \n",
       "3 Oranges 95.66667  "
      ]
     },
     "metadata": {},
     "output_type": "display_data"
    },
    {
     "data": {
      "text/html": [
       "<table>\n",
       "<thead><tr><th scope=col>Fruit</th><th scope=col>Year</th><th scope=col>Location</th><th scope=col>Sales</th><th scope=col>Expenses</th><th scope=col>Profit</th><th scope=col>Date</th></tr></thead>\n",
       "<tbody>\n",
       "\t<tr><td>Apples    </td><td>2008      </td><td>West      </td><td> 98       </td><td>78        </td><td>20        </td><td>2008-12-31</td></tr>\n",
       "\t<tr><td>Apples    </td><td>2009      </td><td>West      </td><td>111       </td><td>79        </td><td>32        </td><td>2009-12-31</td></tr>\n",
       "\t<tr><td>Apples    </td><td>2010      </td><td>West      </td><td> 89       </td><td>76        </td><td>13        </td><td>2010-12-31</td></tr>\n",
       "\t<tr><td>Oranges   </td><td>2008      </td><td>East      </td><td> 96       </td><td>81        </td><td>15        </td><td>2008-12-31</td></tr>\n",
       "\t<tr><td>Bananas   </td><td>2008      </td><td>East      </td><td> 85       </td><td>76        </td><td> 9        </td><td>2008-12-31</td></tr>\n",
       "\t<tr><td>Oranges   </td><td>2009      </td><td>East      </td><td> 93       </td><td>80        </td><td>13        </td><td>2009-12-31</td></tr>\n",
       "\t<tr><td>Bananas   </td><td>2009      </td><td>East      </td><td> 94       </td><td>78        </td><td>16        </td><td>2009-12-31</td></tr>\n",
       "\t<tr><td>Oranges   </td><td>2010      </td><td>East      </td><td> 98       </td><td>91        </td><td> 7        </td><td>2010-12-31</td></tr>\n",
       "\t<tr><td>Bananas   </td><td>2010      </td><td>East      </td><td> 81       </td><td>71        </td><td>10        </td><td>2010-12-31</td></tr>\n",
       "</tbody>\n",
       "</table>\n"
      ],
      "text/latex": [
       "\\begin{tabular}{r|lllllll}\n",
       " Fruit & Year & Location & Sales & Expenses & Profit & Date\\\\\n",
       "\\hline\n",
       "\t Apples     & 2008       & West       &  98        & 78         & 20         & 2008-12-31\\\\\n",
       "\t Apples     & 2009       & West       & 111        & 79         & 32         & 2009-12-31\\\\\n",
       "\t Apples     & 2010       & West       &  89        & 76         & 13         & 2010-12-31\\\\\n",
       "\t Oranges    & 2008       & East       &  96        & 81         & 15         & 2008-12-31\\\\\n",
       "\t Bananas    & 2008       & East       &  85        & 76         &  9         & 2008-12-31\\\\\n",
       "\t Oranges    & 2009       & East       &  93        & 80         & 13         & 2009-12-31\\\\\n",
       "\t Bananas    & 2009       & East       &  94        & 78         & 16         & 2009-12-31\\\\\n",
       "\t Oranges    & 2010       & East       &  98        & 91         &  7         & 2010-12-31\\\\\n",
       "\t Bananas    & 2010       & East       &  81        & 71         & 10         & 2010-12-31\\\\\n",
       "\\end{tabular}\n"
      ],
      "text/markdown": [
       "\n",
       "Fruit | Year | Location | Sales | Expenses | Profit | Date | \n",
       "|---|---|---|---|---|---|---|---|---|\n",
       "| Apples     | 2008       | West       |  98        | 78         | 20         | 2008-12-31 | \n",
       "| Apples     | 2009       | West       | 111        | 79         | 32         | 2009-12-31 | \n",
       "| Apples     | 2010       | West       |  89        | 76         | 13         | 2010-12-31 | \n",
       "| Oranges    | 2008       | East       |  96        | 81         | 15         | 2008-12-31 | \n",
       "| Bananas    | 2008       | East       |  85        | 76         |  9         | 2008-12-31 | \n",
       "| Oranges    | 2009       | East       |  93        | 80         | 13         | 2009-12-31 | \n",
       "| Bananas    | 2009       | East       |  94        | 78         | 16         | 2009-12-31 | \n",
       "| Oranges    | 2010       | East       |  98        | 91         |  7         | 2010-12-31 | \n",
       "| Bananas    | 2010       | East       |  81        | 71         | 10         | 2010-12-31 | \n",
       "\n",
       "\n"
      ],
      "text/plain": [
       "  Fruit   Year Location Sales Expenses Profit Date      \n",
       "1 Apples  2008 West      98   78       20     2008-12-31\n",
       "2 Apples  2009 West     111   79       32     2009-12-31\n",
       "3 Apples  2010 West      89   76       13     2010-12-31\n",
       "4 Oranges 2008 East      96   81       15     2008-12-31\n",
       "5 Bananas 2008 East      85   76        9     2008-12-31\n",
       "6 Oranges 2009 East      93   80       13     2009-12-31\n",
       "7 Bananas 2009 East      94   78       16     2009-12-31\n",
       "8 Oranges 2010 East      98   91        7     2010-12-31\n",
       "9 Bananas 2010 East      81   71       10     2010-12-31"
      ]
     },
     "metadata": {},
     "output_type": "display_data"
    }
   ],
   "source": [
    "#구글에서 제공하는 데이터집합 - Fruits\n",
    "install.packages('googleVis')\n",
    "library(googleVis)\n",
    "\n",
    "sqldf('select * from Fruits')\n",
    "sqldf('select * from Fruits where Fruit = \"Apples\"')\n",
    "sqldf('select * from Fruits limit 3')\n",
    "sqldf('select * from Fruits order by Year')\n",
    "sqldf('select sum(Sales), max(Sales) from Fruits')\n",
    "sqldf('select Fruit, avg(Sales) from Fruits group by Fruit')\n",
    "Fruits"
   ]
  },
  {
   "cell_type": "code",
   "execution_count": 113,
   "metadata": {},
   "outputs": [
    {
     "data": {
      "text/html": [
       "<table>\n",
       "<thead><tr><th></th><th scope=col>mpg</th><th scope=col>cyl</th><th scope=col>disp</th><th scope=col>hp</th><th scope=col>drat</th><th scope=col>wt</th><th scope=col>qsec</th><th scope=col>vs</th><th scope=col>am</th><th scope=col>gear</th><th scope=col>carb</th></tr></thead>\n",
       "<tbody>\n",
       "\t<tr><th scope=row>Mazda RX4</th><td>21.0 </td><td>6    </td><td>160.0</td><td>110  </td><td>3.90 </td><td>2.620</td><td>16.46</td><td>0    </td><td>1    </td><td>4    </td><td>4    </td></tr>\n",
       "\t<tr><th scope=row>Mazda RX4 Wag</th><td>21.0 </td><td>6    </td><td>160.0</td><td>110  </td><td>3.90 </td><td>2.875</td><td>17.02</td><td>0    </td><td>1    </td><td>4    </td><td>4    </td></tr>\n",
       "\t<tr><th scope=row>Datsun 710</th><td>22.8 </td><td>4    </td><td>108.0</td><td> 93  </td><td>3.85 </td><td>2.320</td><td>18.61</td><td>1    </td><td>1    </td><td>4    </td><td>1    </td></tr>\n",
       "\t<tr><th scope=row>Hornet 4 Drive</th><td>21.4 </td><td>6    </td><td>258.0</td><td>110  </td><td>3.08 </td><td>3.215</td><td>19.44</td><td>1    </td><td>0    </td><td>3    </td><td>1    </td></tr>\n",
       "\t<tr><th scope=row>Hornet Sportabout</th><td>18.7 </td><td>8    </td><td>360.0</td><td>175  </td><td>3.15 </td><td>3.440</td><td>17.02</td><td>0    </td><td>0    </td><td>3    </td><td>2    </td></tr>\n",
       "\t<tr><th scope=row>Valiant</th><td>18.1 </td><td>6    </td><td>225.0</td><td>105  </td><td>2.76 </td><td>3.460</td><td>20.22</td><td>1    </td><td>0    </td><td>3    </td><td>1    </td></tr>\n",
       "\t<tr><th scope=row>Duster 360</th><td>14.3 </td><td>8    </td><td>360.0</td><td>245  </td><td>3.21 </td><td>3.570</td><td>15.84</td><td>0    </td><td>0    </td><td>3    </td><td>4    </td></tr>\n",
       "\t<tr><th scope=row>Merc 240D</th><td>24.4 </td><td>4    </td><td>146.7</td><td> 62  </td><td>3.69 </td><td>3.190</td><td>20.00</td><td>1    </td><td>0    </td><td>4    </td><td>2    </td></tr>\n",
       "\t<tr><th scope=row>Merc 230</th><td>22.8 </td><td>4    </td><td>140.8</td><td> 95  </td><td>3.92 </td><td>3.150</td><td>22.90</td><td>1    </td><td>0    </td><td>4    </td><td>2    </td></tr>\n",
       "\t<tr><th scope=row>Merc 280</th><td>19.2 </td><td>6    </td><td>167.6</td><td>123  </td><td>3.92 </td><td>3.440</td><td>18.30</td><td>1    </td><td>0    </td><td>4    </td><td>4    </td></tr>\n",
       "\t<tr><th scope=row>Merc 280C</th><td>17.8 </td><td>6    </td><td>167.6</td><td>123  </td><td>3.92 </td><td>3.440</td><td>18.90</td><td>1    </td><td>0    </td><td>4    </td><td>4    </td></tr>\n",
       "\t<tr><th scope=row>Merc 450SE</th><td>16.4 </td><td>8    </td><td>275.8</td><td>180  </td><td>3.07 </td><td>4.070</td><td>17.40</td><td>0    </td><td>0    </td><td>3    </td><td>3    </td></tr>\n",
       "\t<tr><th scope=row>Merc 450SL</th><td>17.3 </td><td>8    </td><td>275.8</td><td>180  </td><td>3.07 </td><td>3.730</td><td>17.60</td><td>0    </td><td>0    </td><td>3    </td><td>3    </td></tr>\n",
       "\t<tr><th scope=row>Merc 450SLC</th><td>15.2 </td><td>8    </td><td>275.8</td><td>180  </td><td>3.07 </td><td>3.780</td><td>18.00</td><td>0    </td><td>0    </td><td>3    </td><td>3    </td></tr>\n",
       "\t<tr><th scope=row>Cadillac Fleetwood</th><td>10.4 </td><td>8    </td><td>472.0</td><td>205  </td><td>2.93 </td><td>5.250</td><td>17.98</td><td>0    </td><td>0    </td><td>3    </td><td>4    </td></tr>\n",
       "\t<tr><th scope=row>Lincoln Continental</th><td>10.4 </td><td>8    </td><td>460.0</td><td>215  </td><td>3.00 </td><td>5.424</td><td>17.82</td><td>0    </td><td>0    </td><td>3    </td><td>4    </td></tr>\n",
       "\t<tr><th scope=row>Chrysler Imperial</th><td>14.7 </td><td>8    </td><td>440.0</td><td>230  </td><td>3.23 </td><td>5.345</td><td>17.42</td><td>0    </td><td>0    </td><td>3    </td><td>4    </td></tr>\n",
       "\t<tr><th scope=row>Fiat 128</th><td>32.4 </td><td>4    </td><td> 78.7</td><td> 66  </td><td>4.08 </td><td>2.200</td><td>19.47</td><td>1    </td><td>1    </td><td>4    </td><td>1    </td></tr>\n",
       "\t<tr><th scope=row>Honda Civic</th><td>30.4 </td><td>4    </td><td> 75.7</td><td> 52  </td><td>4.93 </td><td>1.615</td><td>18.52</td><td>1    </td><td>1    </td><td>4    </td><td>2    </td></tr>\n",
       "\t<tr><th scope=row>Toyota Corolla</th><td>33.9 </td><td>4    </td><td> 71.1</td><td> 65  </td><td>4.22 </td><td>1.835</td><td>19.90</td><td>1    </td><td>1    </td><td>4    </td><td>1    </td></tr>\n",
       "\t<tr><th scope=row>Toyota Corona</th><td>21.5 </td><td>4    </td><td>120.1</td><td> 97  </td><td>3.70 </td><td>2.465</td><td>20.01</td><td>1    </td><td>0    </td><td>3    </td><td>1    </td></tr>\n",
       "\t<tr><th scope=row>Dodge Challenger</th><td>15.5 </td><td>8    </td><td>318.0</td><td>150  </td><td>2.76 </td><td>3.520</td><td>16.87</td><td>0    </td><td>0    </td><td>3    </td><td>2    </td></tr>\n",
       "\t<tr><th scope=row>AMC Javelin</th><td>15.2 </td><td>8    </td><td>304.0</td><td>150  </td><td>3.15 </td><td>3.435</td><td>17.30</td><td>0    </td><td>0    </td><td>3    </td><td>2    </td></tr>\n",
       "\t<tr><th scope=row>Camaro Z28</th><td>13.3 </td><td>8    </td><td>350.0</td><td>245  </td><td>3.73 </td><td>3.840</td><td>15.41</td><td>0    </td><td>0    </td><td>3    </td><td>4    </td></tr>\n",
       "\t<tr><th scope=row>Pontiac Firebird</th><td>19.2 </td><td>8    </td><td>400.0</td><td>175  </td><td>3.08 </td><td>3.845</td><td>17.05</td><td>0    </td><td>0    </td><td>3    </td><td>2    </td></tr>\n",
       "\t<tr><th scope=row>Fiat X1-9</th><td>27.3 </td><td>4    </td><td> 79.0</td><td> 66  </td><td>4.08 </td><td>1.935</td><td>18.90</td><td>1    </td><td>1    </td><td>4    </td><td>1    </td></tr>\n",
       "\t<tr><th scope=row>Porsche 914-2</th><td>26.0 </td><td>4    </td><td>120.3</td><td> 91  </td><td>4.43 </td><td>2.140</td><td>16.70</td><td>0    </td><td>1    </td><td>5    </td><td>2    </td></tr>\n",
       "\t<tr><th scope=row>Lotus Europa</th><td>30.4 </td><td>4    </td><td> 95.1</td><td>113  </td><td>3.77 </td><td>1.513</td><td>16.90</td><td>1    </td><td>1    </td><td>5    </td><td>2    </td></tr>\n",
       "\t<tr><th scope=row>Ford Pantera L</th><td>15.8 </td><td>8    </td><td>351.0</td><td>264  </td><td>4.22 </td><td>3.170</td><td>14.50</td><td>0    </td><td>1    </td><td>5    </td><td>4    </td></tr>\n",
       "\t<tr><th scope=row>Ferrari Dino</th><td>19.7 </td><td>6    </td><td>145.0</td><td>175  </td><td>3.62 </td><td>2.770</td><td>15.50</td><td>0    </td><td>1    </td><td>5    </td><td>6    </td></tr>\n",
       "\t<tr><th scope=row>Maserati Bora</th><td>15.0 </td><td>8    </td><td>301.0</td><td>335  </td><td>3.54 </td><td>3.570</td><td>14.60</td><td>0    </td><td>1    </td><td>5    </td><td>8    </td></tr>\n",
       "\t<tr><th scope=row>Volvo 142E</th><td>21.4 </td><td>4    </td><td>121.0</td><td>109  </td><td>4.11 </td><td>2.780</td><td>18.60</td><td>1    </td><td>1    </td><td>4    </td><td>2    </td></tr>\n",
       "</tbody>\n",
       "</table>\n"
      ],
      "text/latex": [
       "\\begin{tabular}{r|lllllllllll}\n",
       "  & mpg & cyl & disp & hp & drat & wt & qsec & vs & am & gear & carb\\\\\n",
       "\\hline\n",
       "\tMazda RX4 & 21.0  & 6     & 160.0 & 110   & 3.90  & 2.620 & 16.46 & 0     & 1     & 4     & 4    \\\\\n",
       "\tMazda RX4 Wag & 21.0  & 6     & 160.0 & 110   & 3.90  & 2.875 & 17.02 & 0     & 1     & 4     & 4    \\\\\n",
       "\tDatsun 710 & 22.8  & 4     & 108.0 &  93   & 3.85  & 2.320 & 18.61 & 1     & 1     & 4     & 1    \\\\\n",
       "\tHornet 4 Drive & 21.4  & 6     & 258.0 & 110   & 3.08  & 3.215 & 19.44 & 1     & 0     & 3     & 1    \\\\\n",
       "\tHornet Sportabout & 18.7  & 8     & 360.0 & 175   & 3.15  & 3.440 & 17.02 & 0     & 0     & 3     & 2    \\\\\n",
       "\tValiant & 18.1  & 6     & 225.0 & 105   & 2.76  & 3.460 & 20.22 & 1     & 0     & 3     & 1    \\\\\n",
       "\tDuster 360 & 14.3  & 8     & 360.0 & 245   & 3.21  & 3.570 & 15.84 & 0     & 0     & 3     & 4    \\\\\n",
       "\tMerc 240D & 24.4  & 4     & 146.7 &  62   & 3.69  & 3.190 & 20.00 & 1     & 0     & 4     & 2    \\\\\n",
       "\tMerc 230 & 22.8  & 4     & 140.8 &  95   & 3.92  & 3.150 & 22.90 & 1     & 0     & 4     & 2    \\\\\n",
       "\tMerc 280 & 19.2  & 6     & 167.6 & 123   & 3.92  & 3.440 & 18.30 & 1     & 0     & 4     & 4    \\\\\n",
       "\tMerc 280C & 17.8  & 6     & 167.6 & 123   & 3.92  & 3.440 & 18.90 & 1     & 0     & 4     & 4    \\\\\n",
       "\tMerc 450SE & 16.4  & 8     & 275.8 & 180   & 3.07  & 4.070 & 17.40 & 0     & 0     & 3     & 3    \\\\\n",
       "\tMerc 450SL & 17.3  & 8     & 275.8 & 180   & 3.07  & 3.730 & 17.60 & 0     & 0     & 3     & 3    \\\\\n",
       "\tMerc 450SLC & 15.2  & 8     & 275.8 & 180   & 3.07  & 3.780 & 18.00 & 0     & 0     & 3     & 3    \\\\\n",
       "\tCadillac Fleetwood & 10.4  & 8     & 472.0 & 205   & 2.93  & 5.250 & 17.98 & 0     & 0     & 3     & 4    \\\\\n",
       "\tLincoln Continental & 10.4  & 8     & 460.0 & 215   & 3.00  & 5.424 & 17.82 & 0     & 0     & 3     & 4    \\\\\n",
       "\tChrysler Imperial & 14.7  & 8     & 440.0 & 230   & 3.23  & 5.345 & 17.42 & 0     & 0     & 3     & 4    \\\\\n",
       "\tFiat 128 & 32.4  & 4     &  78.7 &  66   & 4.08  & 2.200 & 19.47 & 1     & 1     & 4     & 1    \\\\\n",
       "\tHonda Civic & 30.4  & 4     &  75.7 &  52   & 4.93  & 1.615 & 18.52 & 1     & 1     & 4     & 2    \\\\\n",
       "\tToyota Corolla & 33.9  & 4     &  71.1 &  65   & 4.22  & 1.835 & 19.90 & 1     & 1     & 4     & 1    \\\\\n",
       "\tToyota Corona & 21.5  & 4     & 120.1 &  97   & 3.70  & 2.465 & 20.01 & 1     & 0     & 3     & 1    \\\\\n",
       "\tDodge Challenger & 15.5  & 8     & 318.0 & 150   & 2.76  & 3.520 & 16.87 & 0     & 0     & 3     & 2    \\\\\n",
       "\tAMC Javelin & 15.2  & 8     & 304.0 & 150   & 3.15  & 3.435 & 17.30 & 0     & 0     & 3     & 2    \\\\\n",
       "\tCamaro Z28 & 13.3  & 8     & 350.0 & 245   & 3.73  & 3.840 & 15.41 & 0     & 0     & 3     & 4    \\\\\n",
       "\tPontiac Firebird & 19.2  & 8     & 400.0 & 175   & 3.08  & 3.845 & 17.05 & 0     & 0     & 3     & 2    \\\\\n",
       "\tFiat X1-9 & 27.3  & 4     &  79.0 &  66   & 4.08  & 1.935 & 18.90 & 1     & 1     & 4     & 1    \\\\\n",
       "\tPorsche 914-2 & 26.0  & 4     & 120.3 &  91   & 4.43  & 2.140 & 16.70 & 0     & 1     & 5     & 2    \\\\\n",
       "\tLotus Europa & 30.4  & 4     &  95.1 & 113   & 3.77  & 1.513 & 16.90 & 1     & 1     & 5     & 2    \\\\\n",
       "\tFord Pantera L & 15.8  & 8     & 351.0 & 264   & 4.22  & 3.170 & 14.50 & 0     & 1     & 5     & 4    \\\\\n",
       "\tFerrari Dino & 19.7  & 6     & 145.0 & 175   & 3.62  & 2.770 & 15.50 & 0     & 1     & 5     & 6    \\\\\n",
       "\tMaserati Bora & 15.0  & 8     & 301.0 & 335   & 3.54  & 3.570 & 14.60 & 0     & 1     & 5     & 8    \\\\\n",
       "\tVolvo 142E & 21.4  & 4     & 121.0 & 109   & 4.11  & 2.780 & 18.60 & 1     & 1     & 4     & 2    \\\\\n",
       "\\end{tabular}\n"
      ],
      "text/markdown": [
       "\n",
       "| <!--/--> | mpg | cyl | disp | hp | drat | wt | qsec | vs | am | gear | carb | \n",
       "|---|---|---|---|---|---|---|---|---|---|---|---|---|---|---|---|---|---|---|---|---|---|---|---|---|---|---|---|---|---|---|---|\n",
       "| Mazda RX4 | 21.0  | 6     | 160.0 | 110   | 3.90  | 2.620 | 16.46 | 0     | 1     | 4     | 4     | \n",
       "| Mazda RX4 Wag | 21.0  | 6     | 160.0 | 110   | 3.90  | 2.875 | 17.02 | 0     | 1     | 4     | 4     | \n",
       "| Datsun 710 | 22.8  | 4     | 108.0 |  93   | 3.85  | 2.320 | 18.61 | 1     | 1     | 4     | 1     | \n",
       "| Hornet 4 Drive | 21.4  | 6     | 258.0 | 110   | 3.08  | 3.215 | 19.44 | 1     | 0     | 3     | 1     | \n",
       "| Hornet Sportabout | 18.7  | 8     | 360.0 | 175   | 3.15  | 3.440 | 17.02 | 0     | 0     | 3     | 2     | \n",
       "| Valiant | 18.1  | 6     | 225.0 | 105   | 2.76  | 3.460 | 20.22 | 1     | 0     | 3     | 1     | \n",
       "| Duster 360 | 14.3  | 8     | 360.0 | 245   | 3.21  | 3.570 | 15.84 | 0     | 0     | 3     | 4     | \n",
       "| Merc 240D | 24.4  | 4     | 146.7 |  62   | 3.69  | 3.190 | 20.00 | 1     | 0     | 4     | 2     | \n",
       "| Merc 230 | 22.8  | 4     | 140.8 |  95   | 3.92  | 3.150 | 22.90 | 1     | 0     | 4     | 2     | \n",
       "| Merc 280 | 19.2  | 6     | 167.6 | 123   | 3.92  | 3.440 | 18.30 | 1     | 0     | 4     | 4     | \n",
       "| Merc 280C | 17.8  | 6     | 167.6 | 123   | 3.92  | 3.440 | 18.90 | 1     | 0     | 4     | 4     | \n",
       "| Merc 450SE | 16.4  | 8     | 275.8 | 180   | 3.07  | 4.070 | 17.40 | 0     | 0     | 3     | 3     | \n",
       "| Merc 450SL | 17.3  | 8     | 275.8 | 180   | 3.07  | 3.730 | 17.60 | 0     | 0     | 3     | 3     | \n",
       "| Merc 450SLC | 15.2  | 8     | 275.8 | 180   | 3.07  | 3.780 | 18.00 | 0     | 0     | 3     | 3     | \n",
       "| Cadillac Fleetwood | 10.4  | 8     | 472.0 | 205   | 2.93  | 5.250 | 17.98 | 0     | 0     | 3     | 4     | \n",
       "| Lincoln Continental | 10.4  | 8     | 460.0 | 215   | 3.00  | 5.424 | 17.82 | 0     | 0     | 3     | 4     | \n",
       "| Chrysler Imperial | 14.7  | 8     | 440.0 | 230   | 3.23  | 5.345 | 17.42 | 0     | 0     | 3     | 4     | \n",
       "| Fiat 128 | 32.4  | 4     |  78.7 |  66   | 4.08  | 2.200 | 19.47 | 1     | 1     | 4     | 1     | \n",
       "| Honda Civic | 30.4  | 4     |  75.7 |  52   | 4.93  | 1.615 | 18.52 | 1     | 1     | 4     | 2     | \n",
       "| Toyota Corolla | 33.9  | 4     |  71.1 |  65   | 4.22  | 1.835 | 19.90 | 1     | 1     | 4     | 1     | \n",
       "| Toyota Corona | 21.5  | 4     | 120.1 |  97   | 3.70  | 2.465 | 20.01 | 1     | 0     | 3     | 1     | \n",
       "| Dodge Challenger | 15.5  | 8     | 318.0 | 150   | 2.76  | 3.520 | 16.87 | 0     | 0     | 3     | 2     | \n",
       "| AMC Javelin | 15.2  | 8     | 304.0 | 150   | 3.15  | 3.435 | 17.30 | 0     | 0     | 3     | 2     | \n",
       "| Camaro Z28 | 13.3  | 8     | 350.0 | 245   | 3.73  | 3.840 | 15.41 | 0     | 0     | 3     | 4     | \n",
       "| Pontiac Firebird | 19.2  | 8     | 400.0 | 175   | 3.08  | 3.845 | 17.05 | 0     | 0     | 3     | 2     | \n",
       "| Fiat X1-9 | 27.3  | 4     |  79.0 |  66   | 4.08  | 1.935 | 18.90 | 1     | 1     | 4     | 1     | \n",
       "| Porsche 914-2 | 26.0  | 4     | 120.3 |  91   | 4.43  | 2.140 | 16.70 | 0     | 1     | 5     | 2     | \n",
       "| Lotus Europa | 30.4  | 4     |  95.1 | 113   | 3.77  | 1.513 | 16.90 | 1     | 1     | 5     | 2     | \n",
       "| Ford Pantera L | 15.8  | 8     | 351.0 | 264   | 4.22  | 3.170 | 14.50 | 0     | 1     | 5     | 4     | \n",
       "| Ferrari Dino | 19.7  | 6     | 145.0 | 175   | 3.62  | 2.770 | 15.50 | 0     | 1     | 5     | 6     | \n",
       "| Maserati Bora | 15.0  | 8     | 301.0 | 335   | 3.54  | 3.570 | 14.60 | 0     | 1     | 5     | 8     | \n",
       "| Volvo 142E | 21.4  | 4     | 121.0 | 109   | 4.11  | 2.780 | 18.60 | 1     | 1     | 4     | 2     | \n",
       "\n",
       "\n"
      ],
      "text/plain": [
       "                    mpg  cyl disp  hp  drat wt    qsec  vs am gear carb\n",
       "Mazda RX4           21.0 6   160.0 110 3.90 2.620 16.46 0  1  4    4   \n",
       "Mazda RX4 Wag       21.0 6   160.0 110 3.90 2.875 17.02 0  1  4    4   \n",
       "Datsun 710          22.8 4   108.0  93 3.85 2.320 18.61 1  1  4    1   \n",
       "Hornet 4 Drive      21.4 6   258.0 110 3.08 3.215 19.44 1  0  3    1   \n",
       "Hornet Sportabout   18.7 8   360.0 175 3.15 3.440 17.02 0  0  3    2   \n",
       "Valiant             18.1 6   225.0 105 2.76 3.460 20.22 1  0  3    1   \n",
       "Duster 360          14.3 8   360.0 245 3.21 3.570 15.84 0  0  3    4   \n",
       "Merc 240D           24.4 4   146.7  62 3.69 3.190 20.00 1  0  4    2   \n",
       "Merc 230            22.8 4   140.8  95 3.92 3.150 22.90 1  0  4    2   \n",
       "Merc 280            19.2 6   167.6 123 3.92 3.440 18.30 1  0  4    4   \n",
       "Merc 280C           17.8 6   167.6 123 3.92 3.440 18.90 1  0  4    4   \n",
       "Merc 450SE          16.4 8   275.8 180 3.07 4.070 17.40 0  0  3    3   \n",
       "Merc 450SL          17.3 8   275.8 180 3.07 3.730 17.60 0  0  3    3   \n",
       "Merc 450SLC         15.2 8   275.8 180 3.07 3.780 18.00 0  0  3    3   \n",
       "Cadillac Fleetwood  10.4 8   472.0 205 2.93 5.250 17.98 0  0  3    4   \n",
       "Lincoln Continental 10.4 8   460.0 215 3.00 5.424 17.82 0  0  3    4   \n",
       "Chrysler Imperial   14.7 8   440.0 230 3.23 5.345 17.42 0  0  3    4   \n",
       "Fiat 128            32.4 4    78.7  66 4.08 2.200 19.47 1  1  4    1   \n",
       "Honda Civic         30.4 4    75.7  52 4.93 1.615 18.52 1  1  4    2   \n",
       "Toyota Corolla      33.9 4    71.1  65 4.22 1.835 19.90 1  1  4    1   \n",
       "Toyota Corona       21.5 4   120.1  97 3.70 2.465 20.01 1  0  3    1   \n",
       "Dodge Challenger    15.5 8   318.0 150 2.76 3.520 16.87 0  0  3    2   \n",
       "AMC Javelin         15.2 8   304.0 150 3.15 3.435 17.30 0  0  3    2   \n",
       "Camaro Z28          13.3 8   350.0 245 3.73 3.840 15.41 0  0  3    4   \n",
       "Pontiac Firebird    19.2 8   400.0 175 3.08 3.845 17.05 0  0  3    2   \n",
       "Fiat X1-9           27.3 4    79.0  66 4.08 1.935 18.90 1  1  4    1   \n",
       "Porsche 914-2       26.0 4   120.3  91 4.43 2.140 16.70 0  1  5    2   \n",
       "Lotus Europa        30.4 4    95.1 113 3.77 1.513 16.90 1  1  5    2   \n",
       "Ford Pantera L      15.8 8   351.0 264 4.22 3.170 14.50 0  1  5    4   \n",
       "Ferrari Dino        19.7 6   145.0 175 3.62 2.770 15.50 0  1  5    6   \n",
       "Maserati Bora       15.0 8   301.0 335 3.54 3.570 14.60 0  1  5    8   \n",
       "Volvo 142E          21.4 4   121.0 109 4.11 2.780 18.60 1  1  4    2   "
      ]
     },
     "metadata": {},
     "output_type": "display_data"
    }
   ],
   "source": [
    "mtcars"
   ]
  },
  {
   "cell_type": "code",
   "execution_count": 115,
   "metadata": {},
   "outputs": [
    {
     "data": {
      "text/html": [
       "<table>\n",
       "<thead><tr><th scope=col>mpg</th><th scope=col>cyl</th><th scope=col>disp</th><th scope=col>hp</th><th scope=col>drat</th><th scope=col>wt</th><th scope=col>qsec</th><th scope=col>vs</th><th scope=col>am</th><th scope=col>gear</th><th scope=col>carb</th></tr></thead>\n",
       "<tbody>\n",
       "\t<tr><td>21.0 </td><td>6    </td><td>160.0</td><td>110  </td><td>3.90 </td><td>2.620</td><td>16.46</td><td>0    </td><td>1    </td><td>4    </td><td>4    </td></tr>\n",
       "\t<tr><td>21.0 </td><td>6    </td><td>160.0</td><td>110  </td><td>3.90 </td><td>2.875</td><td>17.02</td><td>0    </td><td>1    </td><td>4    </td><td>4    </td></tr>\n",
       "\t<tr><td>22.8 </td><td>4    </td><td>108.0</td><td> 93  </td><td>3.85 </td><td>2.320</td><td>18.61</td><td>1    </td><td>1    </td><td>4    </td><td>1    </td></tr>\n",
       "\t<tr><td>21.4 </td><td>6    </td><td>258.0</td><td>110  </td><td>3.08 </td><td>3.215</td><td>19.44</td><td>1    </td><td>0    </td><td>3    </td><td>1    </td></tr>\n",
       "\t<tr><td>18.7 </td><td>8    </td><td>360.0</td><td>175  </td><td>3.15 </td><td>3.440</td><td>17.02</td><td>0    </td><td>0    </td><td>3    </td><td>2    </td></tr>\n",
       "\t<tr><td>18.1 </td><td>6    </td><td>225.0</td><td>105  </td><td>2.76 </td><td>3.460</td><td>20.22</td><td>1    </td><td>0    </td><td>3    </td><td>1    </td></tr>\n",
       "\t<tr><td>14.3 </td><td>8    </td><td>360.0</td><td>245  </td><td>3.21 </td><td>3.570</td><td>15.84</td><td>0    </td><td>0    </td><td>3    </td><td>4    </td></tr>\n",
       "\t<tr><td>24.4 </td><td>4    </td><td>146.7</td><td> 62  </td><td>3.69 </td><td>3.190</td><td>20.00</td><td>1    </td><td>0    </td><td>4    </td><td>2    </td></tr>\n",
       "\t<tr><td>22.8 </td><td>4    </td><td>140.8</td><td> 95  </td><td>3.92 </td><td>3.150</td><td>22.90</td><td>1    </td><td>0    </td><td>4    </td><td>2    </td></tr>\n",
       "\t<tr><td>19.2 </td><td>6    </td><td>167.6</td><td>123  </td><td>3.92 </td><td>3.440</td><td>18.30</td><td>1    </td><td>0    </td><td>4    </td><td>4    </td></tr>\n",
       "\t<tr><td>17.8 </td><td>6    </td><td>167.6</td><td>123  </td><td>3.92 </td><td>3.440</td><td>18.90</td><td>1    </td><td>0    </td><td>4    </td><td>4    </td></tr>\n",
       "\t<tr><td>16.4 </td><td>8    </td><td>275.8</td><td>180  </td><td>3.07 </td><td>4.070</td><td>17.40</td><td>0    </td><td>0    </td><td>3    </td><td>3    </td></tr>\n",
       "\t<tr><td>17.3 </td><td>8    </td><td>275.8</td><td>180  </td><td>3.07 </td><td>3.730</td><td>17.60</td><td>0    </td><td>0    </td><td>3    </td><td>3    </td></tr>\n",
       "\t<tr><td>15.2 </td><td>8    </td><td>275.8</td><td>180  </td><td>3.07 </td><td>3.780</td><td>18.00</td><td>0    </td><td>0    </td><td>3    </td><td>3    </td></tr>\n",
       "\t<tr><td>10.4 </td><td>8    </td><td>472.0</td><td>205  </td><td>2.93 </td><td>5.250</td><td>17.98</td><td>0    </td><td>0    </td><td>3    </td><td>4    </td></tr>\n",
       "\t<tr><td>10.4 </td><td>8    </td><td>460.0</td><td>215  </td><td>3.00 </td><td>5.424</td><td>17.82</td><td>0    </td><td>0    </td><td>3    </td><td>4    </td></tr>\n",
       "\t<tr><td>14.7 </td><td>8    </td><td>440.0</td><td>230  </td><td>3.23 </td><td>5.345</td><td>17.42</td><td>0    </td><td>0    </td><td>3    </td><td>4    </td></tr>\n",
       "\t<tr><td>32.4 </td><td>4    </td><td> 78.7</td><td> 66  </td><td>4.08 </td><td>2.200</td><td>19.47</td><td>1    </td><td>1    </td><td>4    </td><td>1    </td></tr>\n",
       "\t<tr><td>30.4 </td><td>4    </td><td> 75.7</td><td> 52  </td><td>4.93 </td><td>1.615</td><td>18.52</td><td>1    </td><td>1    </td><td>4    </td><td>2    </td></tr>\n",
       "\t<tr><td>33.9 </td><td>4    </td><td> 71.1</td><td> 65  </td><td>4.22 </td><td>1.835</td><td>19.90</td><td>1    </td><td>1    </td><td>4    </td><td>1    </td></tr>\n",
       "\t<tr><td>21.5 </td><td>4    </td><td>120.1</td><td> 97  </td><td>3.70 </td><td>2.465</td><td>20.01</td><td>1    </td><td>0    </td><td>3    </td><td>1    </td></tr>\n",
       "\t<tr><td>15.5 </td><td>8    </td><td>318.0</td><td>150  </td><td>2.76 </td><td>3.520</td><td>16.87</td><td>0    </td><td>0    </td><td>3    </td><td>2    </td></tr>\n",
       "\t<tr><td>15.2 </td><td>8    </td><td>304.0</td><td>150  </td><td>3.15 </td><td>3.435</td><td>17.30</td><td>0    </td><td>0    </td><td>3    </td><td>2    </td></tr>\n",
       "\t<tr><td>13.3 </td><td>8    </td><td>350.0</td><td>245  </td><td>3.73 </td><td>3.840</td><td>15.41</td><td>0    </td><td>0    </td><td>3    </td><td>4    </td></tr>\n",
       "\t<tr><td>19.2 </td><td>8    </td><td>400.0</td><td>175  </td><td>3.08 </td><td>3.845</td><td>17.05</td><td>0    </td><td>0    </td><td>3    </td><td>2    </td></tr>\n",
       "\t<tr><td>27.3 </td><td>4    </td><td> 79.0</td><td> 66  </td><td>4.08 </td><td>1.935</td><td>18.90</td><td>1    </td><td>1    </td><td>4    </td><td>1    </td></tr>\n",
       "\t<tr><td>26.0 </td><td>4    </td><td>120.3</td><td> 91  </td><td>4.43 </td><td>2.140</td><td>16.70</td><td>0    </td><td>1    </td><td>5    </td><td>2    </td></tr>\n",
       "\t<tr><td>30.4 </td><td>4    </td><td> 95.1</td><td>113  </td><td>3.77 </td><td>1.513</td><td>16.90</td><td>1    </td><td>1    </td><td>5    </td><td>2    </td></tr>\n",
       "\t<tr><td>15.8 </td><td>8    </td><td>351.0</td><td>264  </td><td>4.22 </td><td>3.170</td><td>14.50</td><td>0    </td><td>1    </td><td>5    </td><td>4    </td></tr>\n",
       "\t<tr><td>19.7 </td><td>6    </td><td>145.0</td><td>175  </td><td>3.62 </td><td>2.770</td><td>15.50</td><td>0    </td><td>1    </td><td>5    </td><td>6    </td></tr>\n",
       "\t<tr><td>15.0 </td><td>8    </td><td>301.0</td><td>335  </td><td>3.54 </td><td>3.570</td><td>14.60</td><td>0    </td><td>1    </td><td>5    </td><td>8    </td></tr>\n",
       "\t<tr><td>21.4 </td><td>4    </td><td>121.0</td><td>109  </td><td>4.11 </td><td>2.780</td><td>18.60</td><td>1    </td><td>1    </td><td>4    </td><td>2    </td></tr>\n",
       "</tbody>\n",
       "</table>\n"
      ],
      "text/latex": [
       "\\begin{tabular}{r|lllllllllll}\n",
       " mpg & cyl & disp & hp & drat & wt & qsec & vs & am & gear & carb\\\\\n",
       "\\hline\n",
       "\t 21.0  & 6     & 160.0 & 110   & 3.90  & 2.620 & 16.46 & 0     & 1     & 4     & 4    \\\\\n",
       "\t 21.0  & 6     & 160.0 & 110   & 3.90  & 2.875 & 17.02 & 0     & 1     & 4     & 4    \\\\\n",
       "\t 22.8  & 4     & 108.0 &  93   & 3.85  & 2.320 & 18.61 & 1     & 1     & 4     & 1    \\\\\n",
       "\t 21.4  & 6     & 258.0 & 110   & 3.08  & 3.215 & 19.44 & 1     & 0     & 3     & 1    \\\\\n",
       "\t 18.7  & 8     & 360.0 & 175   & 3.15  & 3.440 & 17.02 & 0     & 0     & 3     & 2    \\\\\n",
       "\t 18.1  & 6     & 225.0 & 105   & 2.76  & 3.460 & 20.22 & 1     & 0     & 3     & 1    \\\\\n",
       "\t 14.3  & 8     & 360.0 & 245   & 3.21  & 3.570 & 15.84 & 0     & 0     & 3     & 4    \\\\\n",
       "\t 24.4  & 4     & 146.7 &  62   & 3.69  & 3.190 & 20.00 & 1     & 0     & 4     & 2    \\\\\n",
       "\t 22.8  & 4     & 140.8 &  95   & 3.92  & 3.150 & 22.90 & 1     & 0     & 4     & 2    \\\\\n",
       "\t 19.2  & 6     & 167.6 & 123   & 3.92  & 3.440 & 18.30 & 1     & 0     & 4     & 4    \\\\\n",
       "\t 17.8  & 6     & 167.6 & 123   & 3.92  & 3.440 & 18.90 & 1     & 0     & 4     & 4    \\\\\n",
       "\t 16.4  & 8     & 275.8 & 180   & 3.07  & 4.070 & 17.40 & 0     & 0     & 3     & 3    \\\\\n",
       "\t 17.3  & 8     & 275.8 & 180   & 3.07  & 3.730 & 17.60 & 0     & 0     & 3     & 3    \\\\\n",
       "\t 15.2  & 8     & 275.8 & 180   & 3.07  & 3.780 & 18.00 & 0     & 0     & 3     & 3    \\\\\n",
       "\t 10.4  & 8     & 472.0 & 205   & 2.93  & 5.250 & 17.98 & 0     & 0     & 3     & 4    \\\\\n",
       "\t 10.4  & 8     & 460.0 & 215   & 3.00  & 5.424 & 17.82 & 0     & 0     & 3     & 4    \\\\\n",
       "\t 14.7  & 8     & 440.0 & 230   & 3.23  & 5.345 & 17.42 & 0     & 0     & 3     & 4    \\\\\n",
       "\t 32.4  & 4     &  78.7 &  66   & 4.08  & 2.200 & 19.47 & 1     & 1     & 4     & 1    \\\\\n",
       "\t 30.4  & 4     &  75.7 &  52   & 4.93  & 1.615 & 18.52 & 1     & 1     & 4     & 2    \\\\\n",
       "\t 33.9  & 4     &  71.1 &  65   & 4.22  & 1.835 & 19.90 & 1     & 1     & 4     & 1    \\\\\n",
       "\t 21.5  & 4     & 120.1 &  97   & 3.70  & 2.465 & 20.01 & 1     & 0     & 3     & 1    \\\\\n",
       "\t 15.5  & 8     & 318.0 & 150   & 2.76  & 3.520 & 16.87 & 0     & 0     & 3     & 2    \\\\\n",
       "\t 15.2  & 8     & 304.0 & 150   & 3.15  & 3.435 & 17.30 & 0     & 0     & 3     & 2    \\\\\n",
       "\t 13.3  & 8     & 350.0 & 245   & 3.73  & 3.840 & 15.41 & 0     & 0     & 3     & 4    \\\\\n",
       "\t 19.2  & 8     & 400.0 & 175   & 3.08  & 3.845 & 17.05 & 0     & 0     & 3     & 2    \\\\\n",
       "\t 27.3  & 4     &  79.0 &  66   & 4.08  & 1.935 & 18.90 & 1     & 1     & 4     & 1    \\\\\n",
       "\t 26.0  & 4     & 120.3 &  91   & 4.43  & 2.140 & 16.70 & 0     & 1     & 5     & 2    \\\\\n",
       "\t 30.4  & 4     &  95.1 & 113   & 3.77  & 1.513 & 16.90 & 1     & 1     & 5     & 2    \\\\\n",
       "\t 15.8  & 8     & 351.0 & 264   & 4.22  & 3.170 & 14.50 & 0     & 1     & 5     & 4    \\\\\n",
       "\t 19.7  & 6     & 145.0 & 175   & 3.62  & 2.770 & 15.50 & 0     & 1     & 5     & 6    \\\\\n",
       "\t 15.0  & 8     & 301.0 & 335   & 3.54  & 3.570 & 14.60 & 0     & 1     & 5     & 8    \\\\\n",
       "\t 21.4  & 4     & 121.0 & 109   & 4.11  & 2.780 & 18.60 & 1     & 1     & 4     & 2    \\\\\n",
       "\\end{tabular}\n"
      ],
      "text/markdown": [
       "\n",
       "mpg | cyl | disp | hp | drat | wt | qsec | vs | am | gear | carb | \n",
       "|---|---|---|---|---|---|---|---|---|---|---|---|---|---|---|---|---|---|---|---|---|---|---|---|---|---|---|---|---|---|---|---|\n",
       "| 21.0  | 6     | 160.0 | 110   | 3.90  | 2.620 | 16.46 | 0     | 1     | 4     | 4     | \n",
       "| 21.0  | 6     | 160.0 | 110   | 3.90  | 2.875 | 17.02 | 0     | 1     | 4     | 4     | \n",
       "| 22.8  | 4     | 108.0 |  93   | 3.85  | 2.320 | 18.61 | 1     | 1     | 4     | 1     | \n",
       "| 21.4  | 6     | 258.0 | 110   | 3.08  | 3.215 | 19.44 | 1     | 0     | 3     | 1     | \n",
       "| 18.7  | 8     | 360.0 | 175   | 3.15  | 3.440 | 17.02 | 0     | 0     | 3     | 2     | \n",
       "| 18.1  | 6     | 225.0 | 105   | 2.76  | 3.460 | 20.22 | 1     | 0     | 3     | 1     | \n",
       "| 14.3  | 8     | 360.0 | 245   | 3.21  | 3.570 | 15.84 | 0     | 0     | 3     | 4     | \n",
       "| 24.4  | 4     | 146.7 |  62   | 3.69  | 3.190 | 20.00 | 1     | 0     | 4     | 2     | \n",
       "| 22.8  | 4     | 140.8 |  95   | 3.92  | 3.150 | 22.90 | 1     | 0     | 4     | 2     | \n",
       "| 19.2  | 6     | 167.6 | 123   | 3.92  | 3.440 | 18.30 | 1     | 0     | 4     | 4     | \n",
       "| 17.8  | 6     | 167.6 | 123   | 3.92  | 3.440 | 18.90 | 1     | 0     | 4     | 4     | \n",
       "| 16.4  | 8     | 275.8 | 180   | 3.07  | 4.070 | 17.40 | 0     | 0     | 3     | 3     | \n",
       "| 17.3  | 8     | 275.8 | 180   | 3.07  | 3.730 | 17.60 | 0     | 0     | 3     | 3     | \n",
       "| 15.2  | 8     | 275.8 | 180   | 3.07  | 3.780 | 18.00 | 0     | 0     | 3     | 3     | \n",
       "| 10.4  | 8     | 472.0 | 205   | 2.93  | 5.250 | 17.98 | 0     | 0     | 3     | 4     | \n",
       "| 10.4  | 8     | 460.0 | 215   | 3.00  | 5.424 | 17.82 | 0     | 0     | 3     | 4     | \n",
       "| 14.7  | 8     | 440.0 | 230   | 3.23  | 5.345 | 17.42 | 0     | 0     | 3     | 4     | \n",
       "| 32.4  | 4     |  78.7 |  66   | 4.08  | 2.200 | 19.47 | 1     | 1     | 4     | 1     | \n",
       "| 30.4  | 4     |  75.7 |  52   | 4.93  | 1.615 | 18.52 | 1     | 1     | 4     | 2     | \n",
       "| 33.9  | 4     |  71.1 |  65   | 4.22  | 1.835 | 19.90 | 1     | 1     | 4     | 1     | \n",
       "| 21.5  | 4     | 120.1 |  97   | 3.70  | 2.465 | 20.01 | 1     | 0     | 3     | 1     | \n",
       "| 15.5  | 8     | 318.0 | 150   | 2.76  | 3.520 | 16.87 | 0     | 0     | 3     | 2     | \n",
       "| 15.2  | 8     | 304.0 | 150   | 3.15  | 3.435 | 17.30 | 0     | 0     | 3     | 2     | \n",
       "| 13.3  | 8     | 350.0 | 245   | 3.73  | 3.840 | 15.41 | 0     | 0     | 3     | 4     | \n",
       "| 19.2  | 8     | 400.0 | 175   | 3.08  | 3.845 | 17.05 | 0     | 0     | 3     | 2     | \n",
       "| 27.3  | 4     |  79.0 |  66   | 4.08  | 1.935 | 18.90 | 1     | 1     | 4     | 1     | \n",
       "| 26.0  | 4     | 120.3 |  91   | 4.43  | 2.140 | 16.70 | 0     | 1     | 5     | 2     | \n",
       "| 30.4  | 4     |  95.1 | 113   | 3.77  | 1.513 | 16.90 | 1     | 1     | 5     | 2     | \n",
       "| 15.8  | 8     | 351.0 | 264   | 4.22  | 3.170 | 14.50 | 0     | 1     | 5     | 4     | \n",
       "| 19.7  | 6     | 145.0 | 175   | 3.62  | 2.770 | 15.50 | 0     | 1     | 5     | 6     | \n",
       "| 15.0  | 8     | 301.0 | 335   | 3.54  | 3.570 | 14.60 | 0     | 1     | 5     | 8     | \n",
       "| 21.4  | 4     | 121.0 | 109   | 4.11  | 2.780 | 18.60 | 1     | 1     | 4     | 2     | \n",
       "\n",
       "\n"
      ],
      "text/plain": [
       "   mpg  cyl disp  hp  drat wt    qsec  vs am gear carb\n",
       "1  21.0 6   160.0 110 3.90 2.620 16.46 0  1  4    4   \n",
       "2  21.0 6   160.0 110 3.90 2.875 17.02 0  1  4    4   \n",
       "3  22.8 4   108.0  93 3.85 2.320 18.61 1  1  4    1   \n",
       "4  21.4 6   258.0 110 3.08 3.215 19.44 1  0  3    1   \n",
       "5  18.7 8   360.0 175 3.15 3.440 17.02 0  0  3    2   \n",
       "6  18.1 6   225.0 105 2.76 3.460 20.22 1  0  3    1   \n",
       "7  14.3 8   360.0 245 3.21 3.570 15.84 0  0  3    4   \n",
       "8  24.4 4   146.7  62 3.69 3.190 20.00 1  0  4    2   \n",
       "9  22.8 4   140.8  95 3.92 3.150 22.90 1  0  4    2   \n",
       "10 19.2 6   167.6 123 3.92 3.440 18.30 1  0  4    4   \n",
       "11 17.8 6   167.6 123 3.92 3.440 18.90 1  0  4    4   \n",
       "12 16.4 8   275.8 180 3.07 4.070 17.40 0  0  3    3   \n",
       "13 17.3 8   275.8 180 3.07 3.730 17.60 0  0  3    3   \n",
       "14 15.2 8   275.8 180 3.07 3.780 18.00 0  0  3    3   \n",
       "15 10.4 8   472.0 205 2.93 5.250 17.98 0  0  3    4   \n",
       "16 10.4 8   460.0 215 3.00 5.424 17.82 0  0  3    4   \n",
       "17 14.7 8   440.0 230 3.23 5.345 17.42 0  0  3    4   \n",
       "18 32.4 4    78.7  66 4.08 2.200 19.47 1  1  4    1   \n",
       "19 30.4 4    75.7  52 4.93 1.615 18.52 1  1  4    2   \n",
       "20 33.9 4    71.1  65 4.22 1.835 19.90 1  1  4    1   \n",
       "21 21.5 4   120.1  97 3.70 2.465 20.01 1  0  3    1   \n",
       "22 15.5 8   318.0 150 2.76 3.520 16.87 0  0  3    2   \n",
       "23 15.2 8   304.0 150 3.15 3.435 17.30 0  0  3    2   \n",
       "24 13.3 8   350.0 245 3.73 3.840 15.41 0  0  3    4   \n",
       "25 19.2 8   400.0 175 3.08 3.845 17.05 0  0  3    2   \n",
       "26 27.3 4    79.0  66 4.08 1.935 18.90 1  1  4    1   \n",
       "27 26.0 4   120.3  91 4.43 2.140 16.70 0  1  5    2   \n",
       "28 30.4 4    95.1 113 3.77 1.513 16.90 1  1  5    2   \n",
       "29 15.8 8   351.0 264 4.22 3.170 14.50 0  1  5    4   \n",
       "30 19.7 6   145.0 175 3.62 2.770 15.50 0  1  5    6   \n",
       "31 15.0 8   301.0 335 3.54 3.570 14.60 0  1  5    8   \n",
       "32 21.4 4   121.0 109 4.11 2.780 18.60 1  1  4    2   "
      ]
     },
     "metadata": {},
     "output_type": "display_data"
    },
    {
     "data": {
      "text/html": [
       "<table>\n",
       "<thead><tr><th scope=col>mpg</th><th scope=col>cyl</th><th scope=col>disp</th><th scope=col>hp</th><th scope=col>drat</th><th scope=col>wt</th><th scope=col>qsec</th><th scope=col>vs</th><th scope=col>am</th><th scope=col>gear</th><th scope=col>carb</th></tr></thead>\n",
       "<tbody>\n",
       "\t<tr><td>21   </td><td>6    </td><td>160  </td><td>110  </td><td>3.9  </td><td>2.620</td><td>16.46</td><td>0    </td><td>1    </td><td>4    </td><td>4    </td></tr>\n",
       "\t<tr><td>21   </td><td>6    </td><td>160  </td><td>110  </td><td>3.9  </td><td>2.875</td><td>17.02</td><td>0    </td><td>1    </td><td>4    </td><td>4    </td></tr>\n",
       "</tbody>\n",
       "</table>\n"
      ],
      "text/latex": [
       "\\begin{tabular}{r|lllllllllll}\n",
       " mpg & cyl & disp & hp & drat & wt & qsec & vs & am & gear & carb\\\\\n",
       "\\hline\n",
       "\t 21    & 6     & 160   & 110   & 3.9   & 2.620 & 16.46 & 0     & 1     & 4     & 4    \\\\\n",
       "\t 21    & 6     & 160   & 110   & 3.9   & 2.875 & 17.02 & 0     & 1     & 4     & 4    \\\\\n",
       "\\end{tabular}\n"
      ],
      "text/markdown": [
       "\n",
       "mpg | cyl | disp | hp | drat | wt | qsec | vs | am | gear | carb | \n",
       "|---|---|\n",
       "| 21    | 6     | 160   | 110   | 3.9   | 2.620 | 16.46 | 0     | 1     | 4     | 4     | \n",
       "| 21    | 6     | 160   | 110   | 3.9   | 2.875 | 17.02 | 0     | 1     | 4     | 4     | \n",
       "\n",
       "\n"
      ],
      "text/plain": [
       "  mpg cyl disp hp  drat wt    qsec  vs am gear carb\n",
       "1 21  6   160  110 3.9  2.620 16.46 0  1  4    4   \n",
       "2 21  6   160  110 3.9  2.875 17.02 0  1  4    4   "
      ]
     },
     "metadata": {},
     "output_type": "display_data"
    },
    {
     "data": {
      "text/html": [
       "<table>\n",
       "<thead><tr><th scope=col>mpg</th><th scope=col>cyl</th><th scope=col>disp</th><th scope=col>hp</th><th scope=col>drat</th><th scope=col>wt</th><th scope=col>qsec</th><th scope=col>vs</th><th scope=col>am</th><th scope=col>gear</th><th scope=col>carb</th></tr></thead>\n",
       "<tbody>\n",
       "\t<tr><td>21.0 </td><td>6    </td><td>160  </td><td>110  </td><td>3.90 </td><td>2.620</td><td>16.46</td><td>0    </td><td>1    </td><td>4    </td><td>4    </td></tr>\n",
       "\t<tr><td>21.0 </td><td>6    </td><td>160  </td><td>110  </td><td>3.90 </td><td>2.875</td><td>17.02</td><td>0    </td><td>1    </td><td>4    </td><td>4    </td></tr>\n",
       "\t<tr><td>22.8 </td><td>4    </td><td>108  </td><td> 93  </td><td>3.85 </td><td>2.320</td><td>18.61</td><td>1    </td><td>1    </td><td>4    </td><td>1    </td></tr>\n",
       "</tbody>\n",
       "</table>\n"
      ],
      "text/latex": [
       "\\begin{tabular}{r|lllllllllll}\n",
       " mpg & cyl & disp & hp & drat & wt & qsec & vs & am & gear & carb\\\\\n",
       "\\hline\n",
       "\t 21.0  & 6     & 160   & 110   & 3.90  & 2.620 & 16.46 & 0     & 1     & 4     & 4    \\\\\n",
       "\t 21.0  & 6     & 160   & 110   & 3.90  & 2.875 & 17.02 & 0     & 1     & 4     & 4    \\\\\n",
       "\t 22.8  & 4     & 108   &  93   & 3.85  & 2.320 & 18.61 & 1     & 1     & 4     & 1    \\\\\n",
       "\\end{tabular}\n"
      ],
      "text/markdown": [
       "\n",
       "mpg | cyl | disp | hp | drat | wt | qsec | vs | am | gear | carb | \n",
       "|---|---|---|\n",
       "| 21.0  | 6     | 160   | 110   | 3.90  | 2.620 | 16.46 | 0     | 1     | 4     | 4     | \n",
       "| 21.0  | 6     | 160   | 110   | 3.90  | 2.875 | 17.02 | 0     | 1     | 4     | 4     | \n",
       "| 22.8  | 4     | 108   |  93   | 3.85  | 2.320 | 18.61 | 1     | 1     | 4     | 1     | \n",
       "\n",
       "\n"
      ],
      "text/plain": [
       "  mpg  cyl disp hp  drat wt    qsec  vs am gear carb\n",
       "1 21.0 6   160  110 3.90 2.620 16.46 0  1  4    4   \n",
       "2 21.0 6   160  110 3.90 2.875 17.02 0  1  4    4   \n",
       "3 22.8 4   108   93 3.85 2.320 18.61 1  1  4    1   "
      ]
     },
     "metadata": {},
     "output_type": "display_data"
    },
    {
     "data": {
      "text/html": [
       "<table>\n",
       "<thead><tr><th scope=col>mpg</th><th scope=col>cyl</th><th scope=col>disp</th><th scope=col>hp</th><th scope=col>drat</th><th scope=col>wt</th><th scope=col>qsec</th><th scope=col>vs</th><th scope=col>am</th><th scope=col>gear</th><th scope=col>carb</th></tr></thead>\n",
       "<tbody>\n",
       "\t<tr><td>10.4 </td><td>8    </td><td>472.0</td><td>205  </td><td>2.93 </td><td>5.250</td><td>17.98</td><td>0    </td><td>0    </td><td>3    </td><td>4    </td></tr>\n",
       "\t<tr><td>10.4 </td><td>8    </td><td>460.0</td><td>215  </td><td>3.00 </td><td>5.424</td><td>17.82</td><td>0    </td><td>0    </td><td>3    </td><td>4    </td></tr>\n",
       "\t<tr><td>13.3 </td><td>8    </td><td>350.0</td><td>245  </td><td>3.73 </td><td>3.840</td><td>15.41</td><td>0    </td><td>0    </td><td>3    </td><td>4    </td></tr>\n",
       "\t<tr><td>14.3 </td><td>8    </td><td>360.0</td><td>245  </td><td>3.21 </td><td>3.570</td><td>15.84</td><td>0    </td><td>0    </td><td>3    </td><td>4    </td></tr>\n",
       "\t<tr><td>14.7 </td><td>8    </td><td>440.0</td><td>230  </td><td>3.23 </td><td>5.345</td><td>17.42</td><td>0    </td><td>0    </td><td>3    </td><td>4    </td></tr>\n",
       "\t<tr><td>15.0 </td><td>8    </td><td>301.0</td><td>335  </td><td>3.54 </td><td>3.570</td><td>14.60</td><td>0    </td><td>1    </td><td>5    </td><td>8    </td></tr>\n",
       "\t<tr><td>15.2 </td><td>8    </td><td>275.8</td><td>180  </td><td>3.07 </td><td>3.780</td><td>18.00</td><td>0    </td><td>0    </td><td>3    </td><td>3    </td></tr>\n",
       "\t<tr><td>15.2 </td><td>8    </td><td>304.0</td><td>150  </td><td>3.15 </td><td>3.435</td><td>17.30</td><td>0    </td><td>0    </td><td>3    </td><td>2    </td></tr>\n",
       "\t<tr><td>15.5 </td><td>8    </td><td>318.0</td><td>150  </td><td>2.76 </td><td>3.520</td><td>16.87</td><td>0    </td><td>0    </td><td>3    </td><td>2    </td></tr>\n",
       "\t<tr><td>15.8 </td><td>8    </td><td>351.0</td><td>264  </td><td>4.22 </td><td>3.170</td><td>14.50</td><td>0    </td><td>1    </td><td>5    </td><td>4    </td></tr>\n",
       "\t<tr><td>16.4 </td><td>8    </td><td>275.8</td><td>180  </td><td>3.07 </td><td>4.070</td><td>17.40</td><td>0    </td><td>0    </td><td>3    </td><td>3    </td></tr>\n",
       "\t<tr><td>17.3 </td><td>8    </td><td>275.8</td><td>180  </td><td>3.07 </td><td>3.730</td><td>17.60</td><td>0    </td><td>0    </td><td>3    </td><td>3    </td></tr>\n",
       "\t<tr><td>17.8 </td><td>6    </td><td>167.6</td><td>123  </td><td>3.92 </td><td>3.440</td><td>18.90</td><td>1    </td><td>0    </td><td>4    </td><td>4    </td></tr>\n",
       "\t<tr><td>18.1 </td><td>6    </td><td>225.0</td><td>105  </td><td>2.76 </td><td>3.460</td><td>20.22</td><td>1    </td><td>0    </td><td>3    </td><td>1    </td></tr>\n",
       "\t<tr><td>18.7 </td><td>8    </td><td>360.0</td><td>175  </td><td>3.15 </td><td>3.440</td><td>17.02</td><td>0    </td><td>0    </td><td>3    </td><td>2    </td></tr>\n",
       "\t<tr><td>19.2 </td><td>6    </td><td>167.6</td><td>123  </td><td>3.92 </td><td>3.440</td><td>18.30</td><td>1    </td><td>0    </td><td>4    </td><td>4    </td></tr>\n",
       "\t<tr><td>19.2 </td><td>8    </td><td>400.0</td><td>175  </td><td>3.08 </td><td>3.845</td><td>17.05</td><td>0    </td><td>0    </td><td>3    </td><td>2    </td></tr>\n",
       "\t<tr><td>19.7 </td><td>6    </td><td>145.0</td><td>175  </td><td>3.62 </td><td>2.770</td><td>15.50</td><td>0    </td><td>1    </td><td>5    </td><td>6    </td></tr>\n",
       "\t<tr><td>21.0 </td><td>6    </td><td>160.0</td><td>110  </td><td>3.90 </td><td>2.620</td><td>16.46</td><td>0    </td><td>1    </td><td>4    </td><td>4    </td></tr>\n",
       "\t<tr><td>21.0 </td><td>6    </td><td>160.0</td><td>110  </td><td>3.90 </td><td>2.875</td><td>17.02</td><td>0    </td><td>1    </td><td>4    </td><td>4    </td></tr>\n",
       "\t<tr><td>21.4 </td><td>6    </td><td>258.0</td><td>110  </td><td>3.08 </td><td>3.215</td><td>19.44</td><td>1    </td><td>0    </td><td>3    </td><td>1    </td></tr>\n",
       "\t<tr><td>21.4 </td><td>4    </td><td>121.0</td><td>109  </td><td>4.11 </td><td>2.780</td><td>18.60</td><td>1    </td><td>1    </td><td>4    </td><td>2    </td></tr>\n",
       "\t<tr><td>21.5 </td><td>4    </td><td>120.1</td><td> 97  </td><td>3.70 </td><td>2.465</td><td>20.01</td><td>1    </td><td>0    </td><td>3    </td><td>1    </td></tr>\n",
       "\t<tr><td>22.8 </td><td>4    </td><td>108.0</td><td> 93  </td><td>3.85 </td><td>2.320</td><td>18.61</td><td>1    </td><td>1    </td><td>4    </td><td>1    </td></tr>\n",
       "\t<tr><td>22.8 </td><td>4    </td><td>140.8</td><td> 95  </td><td>3.92 </td><td>3.150</td><td>22.90</td><td>1    </td><td>0    </td><td>4    </td><td>2    </td></tr>\n",
       "\t<tr><td>24.4 </td><td>4    </td><td>146.7</td><td> 62  </td><td>3.69 </td><td>3.190</td><td>20.00</td><td>1    </td><td>0    </td><td>4    </td><td>2    </td></tr>\n",
       "\t<tr><td>26.0 </td><td>4    </td><td>120.3</td><td> 91  </td><td>4.43 </td><td>2.140</td><td>16.70</td><td>0    </td><td>1    </td><td>5    </td><td>2    </td></tr>\n",
       "\t<tr><td>27.3 </td><td>4    </td><td> 79.0</td><td> 66  </td><td>4.08 </td><td>1.935</td><td>18.90</td><td>1    </td><td>1    </td><td>4    </td><td>1    </td></tr>\n",
       "\t<tr><td>30.4 </td><td>4    </td><td> 75.7</td><td> 52  </td><td>4.93 </td><td>1.615</td><td>18.52</td><td>1    </td><td>1    </td><td>4    </td><td>2    </td></tr>\n",
       "\t<tr><td>30.4 </td><td>4    </td><td> 95.1</td><td>113  </td><td>3.77 </td><td>1.513</td><td>16.90</td><td>1    </td><td>1    </td><td>5    </td><td>2    </td></tr>\n",
       "\t<tr><td>32.4 </td><td>4    </td><td> 78.7</td><td> 66  </td><td>4.08 </td><td>2.200</td><td>19.47</td><td>1    </td><td>1    </td><td>4    </td><td>1    </td></tr>\n",
       "\t<tr><td>33.9 </td><td>4    </td><td> 71.1</td><td> 65  </td><td>4.22 </td><td>1.835</td><td>19.90</td><td>1    </td><td>1    </td><td>4    </td><td>1    </td></tr>\n",
       "</tbody>\n",
       "</table>\n"
      ],
      "text/latex": [
       "\\begin{tabular}{r|lllllllllll}\n",
       " mpg & cyl & disp & hp & drat & wt & qsec & vs & am & gear & carb\\\\\n",
       "\\hline\n",
       "\t 10.4  & 8     & 472.0 & 205   & 2.93  & 5.250 & 17.98 & 0     & 0     & 3     & 4    \\\\\n",
       "\t 10.4  & 8     & 460.0 & 215   & 3.00  & 5.424 & 17.82 & 0     & 0     & 3     & 4    \\\\\n",
       "\t 13.3  & 8     & 350.0 & 245   & 3.73  & 3.840 & 15.41 & 0     & 0     & 3     & 4    \\\\\n",
       "\t 14.3  & 8     & 360.0 & 245   & 3.21  & 3.570 & 15.84 & 0     & 0     & 3     & 4    \\\\\n",
       "\t 14.7  & 8     & 440.0 & 230   & 3.23  & 5.345 & 17.42 & 0     & 0     & 3     & 4    \\\\\n",
       "\t 15.0  & 8     & 301.0 & 335   & 3.54  & 3.570 & 14.60 & 0     & 1     & 5     & 8    \\\\\n",
       "\t 15.2  & 8     & 275.8 & 180   & 3.07  & 3.780 & 18.00 & 0     & 0     & 3     & 3    \\\\\n",
       "\t 15.2  & 8     & 304.0 & 150   & 3.15  & 3.435 & 17.30 & 0     & 0     & 3     & 2    \\\\\n",
       "\t 15.5  & 8     & 318.0 & 150   & 2.76  & 3.520 & 16.87 & 0     & 0     & 3     & 2    \\\\\n",
       "\t 15.8  & 8     & 351.0 & 264   & 4.22  & 3.170 & 14.50 & 0     & 1     & 5     & 4    \\\\\n",
       "\t 16.4  & 8     & 275.8 & 180   & 3.07  & 4.070 & 17.40 & 0     & 0     & 3     & 3    \\\\\n",
       "\t 17.3  & 8     & 275.8 & 180   & 3.07  & 3.730 & 17.60 & 0     & 0     & 3     & 3    \\\\\n",
       "\t 17.8  & 6     & 167.6 & 123   & 3.92  & 3.440 & 18.90 & 1     & 0     & 4     & 4    \\\\\n",
       "\t 18.1  & 6     & 225.0 & 105   & 2.76  & 3.460 & 20.22 & 1     & 0     & 3     & 1    \\\\\n",
       "\t 18.7  & 8     & 360.0 & 175   & 3.15  & 3.440 & 17.02 & 0     & 0     & 3     & 2    \\\\\n",
       "\t 19.2  & 6     & 167.6 & 123   & 3.92  & 3.440 & 18.30 & 1     & 0     & 4     & 4    \\\\\n",
       "\t 19.2  & 8     & 400.0 & 175   & 3.08  & 3.845 & 17.05 & 0     & 0     & 3     & 2    \\\\\n",
       "\t 19.7  & 6     & 145.0 & 175   & 3.62  & 2.770 & 15.50 & 0     & 1     & 5     & 6    \\\\\n",
       "\t 21.0  & 6     & 160.0 & 110   & 3.90  & 2.620 & 16.46 & 0     & 1     & 4     & 4    \\\\\n",
       "\t 21.0  & 6     & 160.0 & 110   & 3.90  & 2.875 & 17.02 & 0     & 1     & 4     & 4    \\\\\n",
       "\t 21.4  & 6     & 258.0 & 110   & 3.08  & 3.215 & 19.44 & 1     & 0     & 3     & 1    \\\\\n",
       "\t 21.4  & 4     & 121.0 & 109   & 4.11  & 2.780 & 18.60 & 1     & 1     & 4     & 2    \\\\\n",
       "\t 21.5  & 4     & 120.1 &  97   & 3.70  & 2.465 & 20.01 & 1     & 0     & 3     & 1    \\\\\n",
       "\t 22.8  & 4     & 108.0 &  93   & 3.85  & 2.320 & 18.61 & 1     & 1     & 4     & 1    \\\\\n",
       "\t 22.8  & 4     & 140.8 &  95   & 3.92  & 3.150 & 22.90 & 1     & 0     & 4     & 2    \\\\\n",
       "\t 24.4  & 4     & 146.7 &  62   & 3.69  & 3.190 & 20.00 & 1     & 0     & 4     & 2    \\\\\n",
       "\t 26.0  & 4     & 120.3 &  91   & 4.43  & 2.140 & 16.70 & 0     & 1     & 5     & 2    \\\\\n",
       "\t 27.3  & 4     &  79.0 &  66   & 4.08  & 1.935 & 18.90 & 1     & 1     & 4     & 1    \\\\\n",
       "\t 30.4  & 4     &  75.7 &  52   & 4.93  & 1.615 & 18.52 & 1     & 1     & 4     & 2    \\\\\n",
       "\t 30.4  & 4     &  95.1 & 113   & 3.77  & 1.513 & 16.90 & 1     & 1     & 5     & 2    \\\\\n",
       "\t 32.4  & 4     &  78.7 &  66   & 4.08  & 2.200 & 19.47 & 1     & 1     & 4     & 1    \\\\\n",
       "\t 33.9  & 4     &  71.1 &  65   & 4.22  & 1.835 & 19.90 & 1     & 1     & 4     & 1    \\\\\n",
       "\\end{tabular}\n"
      ],
      "text/markdown": [
       "\n",
       "mpg | cyl | disp | hp | drat | wt | qsec | vs | am | gear | carb | \n",
       "|---|---|---|---|---|---|---|---|---|---|---|---|---|---|---|---|---|---|---|---|---|---|---|---|---|---|---|---|---|---|---|---|\n",
       "| 10.4  | 8     | 472.0 | 205   | 2.93  | 5.250 | 17.98 | 0     | 0     | 3     | 4     | \n",
       "| 10.4  | 8     | 460.0 | 215   | 3.00  | 5.424 | 17.82 | 0     | 0     | 3     | 4     | \n",
       "| 13.3  | 8     | 350.0 | 245   | 3.73  | 3.840 | 15.41 | 0     | 0     | 3     | 4     | \n",
       "| 14.3  | 8     | 360.0 | 245   | 3.21  | 3.570 | 15.84 | 0     | 0     | 3     | 4     | \n",
       "| 14.7  | 8     | 440.0 | 230   | 3.23  | 5.345 | 17.42 | 0     | 0     | 3     | 4     | \n",
       "| 15.0  | 8     | 301.0 | 335   | 3.54  | 3.570 | 14.60 | 0     | 1     | 5     | 8     | \n",
       "| 15.2  | 8     | 275.8 | 180   | 3.07  | 3.780 | 18.00 | 0     | 0     | 3     | 3     | \n",
       "| 15.2  | 8     | 304.0 | 150   | 3.15  | 3.435 | 17.30 | 0     | 0     | 3     | 2     | \n",
       "| 15.5  | 8     | 318.0 | 150   | 2.76  | 3.520 | 16.87 | 0     | 0     | 3     | 2     | \n",
       "| 15.8  | 8     | 351.0 | 264   | 4.22  | 3.170 | 14.50 | 0     | 1     | 5     | 4     | \n",
       "| 16.4  | 8     | 275.8 | 180   | 3.07  | 4.070 | 17.40 | 0     | 0     | 3     | 3     | \n",
       "| 17.3  | 8     | 275.8 | 180   | 3.07  | 3.730 | 17.60 | 0     | 0     | 3     | 3     | \n",
       "| 17.8  | 6     | 167.6 | 123   | 3.92  | 3.440 | 18.90 | 1     | 0     | 4     | 4     | \n",
       "| 18.1  | 6     | 225.0 | 105   | 2.76  | 3.460 | 20.22 | 1     | 0     | 3     | 1     | \n",
       "| 18.7  | 8     | 360.0 | 175   | 3.15  | 3.440 | 17.02 | 0     | 0     | 3     | 2     | \n",
       "| 19.2  | 6     | 167.6 | 123   | 3.92  | 3.440 | 18.30 | 1     | 0     | 4     | 4     | \n",
       "| 19.2  | 8     | 400.0 | 175   | 3.08  | 3.845 | 17.05 | 0     | 0     | 3     | 2     | \n",
       "| 19.7  | 6     | 145.0 | 175   | 3.62  | 2.770 | 15.50 | 0     | 1     | 5     | 6     | \n",
       "| 21.0  | 6     | 160.0 | 110   | 3.90  | 2.620 | 16.46 | 0     | 1     | 4     | 4     | \n",
       "| 21.0  | 6     | 160.0 | 110   | 3.90  | 2.875 | 17.02 | 0     | 1     | 4     | 4     | \n",
       "| 21.4  | 6     | 258.0 | 110   | 3.08  | 3.215 | 19.44 | 1     | 0     | 3     | 1     | \n",
       "| 21.4  | 4     | 121.0 | 109   | 4.11  | 2.780 | 18.60 | 1     | 1     | 4     | 2     | \n",
       "| 21.5  | 4     | 120.1 |  97   | 3.70  | 2.465 | 20.01 | 1     | 0     | 3     | 1     | \n",
       "| 22.8  | 4     | 108.0 |  93   | 3.85  | 2.320 | 18.61 | 1     | 1     | 4     | 1     | \n",
       "| 22.8  | 4     | 140.8 |  95   | 3.92  | 3.150 | 22.90 | 1     | 0     | 4     | 2     | \n",
       "| 24.4  | 4     | 146.7 |  62   | 3.69  | 3.190 | 20.00 | 1     | 0     | 4     | 2     | \n",
       "| 26.0  | 4     | 120.3 |  91   | 4.43  | 2.140 | 16.70 | 0     | 1     | 5     | 2     | \n",
       "| 27.3  | 4     |  79.0 |  66   | 4.08  | 1.935 | 18.90 | 1     | 1     | 4     | 1     | \n",
       "| 30.4  | 4     |  75.7 |  52   | 4.93  | 1.615 | 18.52 | 1     | 1     | 4     | 2     | \n",
       "| 30.4  | 4     |  95.1 | 113   | 3.77  | 1.513 | 16.90 | 1     | 1     | 5     | 2     | \n",
       "| 32.4  | 4     |  78.7 |  66   | 4.08  | 2.200 | 19.47 | 1     | 1     | 4     | 1     | \n",
       "| 33.9  | 4     |  71.1 |  65   | 4.22  | 1.835 | 19.90 | 1     | 1     | 4     | 1     | \n",
       "\n",
       "\n"
      ],
      "text/plain": [
       "   mpg  cyl disp  hp  drat wt    qsec  vs am gear carb\n",
       "1  10.4 8   472.0 205 2.93 5.250 17.98 0  0  3    4   \n",
       "2  10.4 8   460.0 215 3.00 5.424 17.82 0  0  3    4   \n",
       "3  13.3 8   350.0 245 3.73 3.840 15.41 0  0  3    4   \n",
       "4  14.3 8   360.0 245 3.21 3.570 15.84 0  0  3    4   \n",
       "5  14.7 8   440.0 230 3.23 5.345 17.42 0  0  3    4   \n",
       "6  15.0 8   301.0 335 3.54 3.570 14.60 0  1  5    8   \n",
       "7  15.2 8   275.8 180 3.07 3.780 18.00 0  0  3    3   \n",
       "8  15.2 8   304.0 150 3.15 3.435 17.30 0  0  3    2   \n",
       "9  15.5 8   318.0 150 2.76 3.520 16.87 0  0  3    2   \n",
       "10 15.8 8   351.0 264 4.22 3.170 14.50 0  1  5    4   \n",
       "11 16.4 8   275.8 180 3.07 4.070 17.40 0  0  3    3   \n",
       "12 17.3 8   275.8 180 3.07 3.730 17.60 0  0  3    3   \n",
       "13 17.8 6   167.6 123 3.92 3.440 18.90 1  0  4    4   \n",
       "14 18.1 6   225.0 105 2.76 3.460 20.22 1  0  3    1   \n",
       "15 18.7 8   360.0 175 3.15 3.440 17.02 0  0  3    2   \n",
       "16 19.2 6   167.6 123 3.92 3.440 18.30 1  0  4    4   \n",
       "17 19.2 8   400.0 175 3.08 3.845 17.05 0  0  3    2   \n",
       "18 19.7 6   145.0 175 3.62 2.770 15.50 0  1  5    6   \n",
       "19 21.0 6   160.0 110 3.90 2.620 16.46 0  1  4    4   \n",
       "20 21.0 6   160.0 110 3.90 2.875 17.02 0  1  4    4   \n",
       "21 21.4 6   258.0 110 3.08 3.215 19.44 1  0  3    1   \n",
       "22 21.4 4   121.0 109 4.11 2.780 18.60 1  1  4    2   \n",
       "23 21.5 4   120.1  97 3.70 2.465 20.01 1  0  3    1   \n",
       "24 22.8 4   108.0  93 3.85 2.320 18.61 1  1  4    1   \n",
       "25 22.8 4   140.8  95 3.92 3.150 22.90 1  0  4    2   \n",
       "26 24.4 4   146.7  62 3.69 3.190 20.00 1  0  4    2   \n",
       "27 26.0 4   120.3  91 4.43 2.140 16.70 0  1  5    2   \n",
       "28 27.3 4    79.0  66 4.08 1.935 18.90 1  1  4    1   \n",
       "29 30.4 4    75.7  52 4.93 1.615 18.52 1  1  4    2   \n",
       "30 30.4 4    95.1 113 3.77 1.513 16.90 1  1  5    2   \n",
       "31 32.4 4    78.7  66 4.08 2.200 19.47 1  1  4    1   \n",
       "32 33.9 4    71.1  65 4.22 1.835 19.90 1  1  4    1   "
      ]
     },
     "metadata": {},
     "output_type": "display_data"
    },
    {
     "data": {
      "text/html": [
       "<table>\n",
       "<thead><tr><th scope=col>sum(mpg)</th><th scope=col>max(mpg)</th></tr></thead>\n",
       "<tbody>\n",
       "\t<tr><td>642.9</td><td>33.9 </td></tr>\n",
       "</tbody>\n",
       "</table>\n"
      ],
      "text/latex": [
       "\\begin{tabular}{r|ll}\n",
       " sum(mpg) & max(mpg)\\\\\n",
       "\\hline\n",
       "\t 642.9 & 33.9 \\\\\n",
       "\\end{tabular}\n"
      ],
      "text/markdown": [
       "\n",
       "sum(mpg) | max(mpg) | \n",
       "|---|\n",
       "| 642.9 | 33.9  | \n",
       "\n",
       "\n"
      ],
      "text/plain": [
       "  sum(mpg) max(mpg)\n",
       "1 642.9    33.9    "
      ]
     },
     "metadata": {},
     "output_type": "display_data"
    },
    {
     "data": {
      "text/html": [
       "<table>\n",
       "<thead><tr><th scope=col>mpg</th><th scope=col>disp</th></tr></thead>\n",
       "<tbody>\n",
       "\t<tr><td>10.4 </td><td>460.0</td></tr>\n",
       "\t<tr><td>13.3 </td><td>350.0</td></tr>\n",
       "\t<tr><td>14.3 </td><td>360.0</td></tr>\n",
       "\t<tr><td>14.7 </td><td>440.0</td></tr>\n",
       "\t<tr><td>15.0 </td><td>301.0</td></tr>\n",
       "\t<tr><td>15.2 </td><td>304.0</td></tr>\n",
       "\t<tr><td>15.5 </td><td>318.0</td></tr>\n",
       "\t<tr><td>15.8 </td><td>351.0</td></tr>\n",
       "\t<tr><td>16.4 </td><td>275.8</td></tr>\n",
       "\t<tr><td>17.3 </td><td>275.8</td></tr>\n",
       "\t<tr><td>17.8 </td><td>167.6</td></tr>\n",
       "\t<tr><td>18.1 </td><td>225.0</td></tr>\n",
       "\t<tr><td>18.7 </td><td>360.0</td></tr>\n",
       "\t<tr><td>19.2 </td><td>400.0</td></tr>\n",
       "\t<tr><td>19.7 </td><td>145.0</td></tr>\n",
       "\t<tr><td>21.0 </td><td>160.0</td></tr>\n",
       "\t<tr><td>21.4 </td><td>121.0</td></tr>\n",
       "\t<tr><td>21.5 </td><td>120.1</td></tr>\n",
       "\t<tr><td>22.8 </td><td>140.8</td></tr>\n",
       "\t<tr><td>24.4 </td><td>146.7</td></tr>\n",
       "\t<tr><td>26.0 </td><td>120.3</td></tr>\n",
       "\t<tr><td>27.3 </td><td> 79.0</td></tr>\n",
       "\t<tr><td>30.4 </td><td> 95.1</td></tr>\n",
       "\t<tr><td>32.4 </td><td> 78.7</td></tr>\n",
       "\t<tr><td>33.9 </td><td> 71.1</td></tr>\n",
       "</tbody>\n",
       "</table>\n"
      ],
      "text/latex": [
       "\\begin{tabular}{r|ll}\n",
       " mpg & disp\\\\\n",
       "\\hline\n",
       "\t 10.4  & 460.0\\\\\n",
       "\t 13.3  & 350.0\\\\\n",
       "\t 14.3  & 360.0\\\\\n",
       "\t 14.7  & 440.0\\\\\n",
       "\t 15.0  & 301.0\\\\\n",
       "\t 15.2  & 304.0\\\\\n",
       "\t 15.5  & 318.0\\\\\n",
       "\t 15.8  & 351.0\\\\\n",
       "\t 16.4  & 275.8\\\\\n",
       "\t 17.3  & 275.8\\\\\n",
       "\t 17.8  & 167.6\\\\\n",
       "\t 18.1  & 225.0\\\\\n",
       "\t 18.7  & 360.0\\\\\n",
       "\t 19.2  & 400.0\\\\\n",
       "\t 19.7  & 145.0\\\\\n",
       "\t 21.0  & 160.0\\\\\n",
       "\t 21.4  & 121.0\\\\\n",
       "\t 21.5  & 120.1\\\\\n",
       "\t 22.8  & 140.8\\\\\n",
       "\t 24.4  & 146.7\\\\\n",
       "\t 26.0  & 120.3\\\\\n",
       "\t 27.3  &  79.0\\\\\n",
       "\t 30.4  &  95.1\\\\\n",
       "\t 32.4  &  78.7\\\\\n",
       "\t 33.9  &  71.1\\\\\n",
       "\\end{tabular}\n"
      ],
      "text/markdown": [
       "\n",
       "mpg | disp | \n",
       "|---|---|---|---|---|---|---|---|---|---|---|---|---|---|---|---|---|---|---|---|---|---|---|---|---|\n",
       "| 10.4  | 460.0 | \n",
       "| 13.3  | 350.0 | \n",
       "| 14.3  | 360.0 | \n",
       "| 14.7  | 440.0 | \n",
       "| 15.0  | 301.0 | \n",
       "| 15.2  | 304.0 | \n",
       "| 15.5  | 318.0 | \n",
       "| 15.8  | 351.0 | \n",
       "| 16.4  | 275.8 | \n",
       "| 17.3  | 275.8 | \n",
       "| 17.8  | 167.6 | \n",
       "| 18.1  | 225.0 | \n",
       "| 18.7  | 360.0 | \n",
       "| 19.2  | 400.0 | \n",
       "| 19.7  | 145.0 | \n",
       "| 21.0  | 160.0 | \n",
       "| 21.4  | 121.0 | \n",
       "| 21.5  | 120.1 | \n",
       "| 22.8  | 140.8 | \n",
       "| 24.4  | 146.7 | \n",
       "| 26.0  | 120.3 | \n",
       "| 27.3  |  79.0 | \n",
       "| 30.4  |  95.1 | \n",
       "| 32.4  |  78.7 | \n",
       "| 33.9  |  71.1 | \n",
       "\n",
       "\n"
      ],
      "text/plain": [
       "   mpg  disp \n",
       "1  10.4 460.0\n",
       "2  13.3 350.0\n",
       "3  14.3 360.0\n",
       "4  14.7 440.0\n",
       "5  15.0 301.0\n",
       "6  15.2 304.0\n",
       "7  15.5 318.0\n",
       "8  15.8 351.0\n",
       "9  16.4 275.8\n",
       "10 17.3 275.8\n",
       "11 17.8 167.6\n",
       "12 18.1 225.0\n",
       "13 18.7 360.0\n",
       "14 19.2 400.0\n",
       "15 19.7 145.0\n",
       "16 21.0 160.0\n",
       "17 21.4 121.0\n",
       "18 21.5 120.1\n",
       "19 22.8 140.8\n",
       "20 24.4 146.7\n",
       "21 26.0 120.3\n",
       "22 27.3  79.0\n",
       "23 30.4  95.1\n",
       "24 32.4  78.7\n",
       "25 33.9  71.1"
      ]
     },
     "metadata": {},
     "output_type": "display_data"
    }
   ],
   "source": [
    "sqldf('select * from mtcars')\n",
    "sqldf('select * from mtcars where mpg = \"21.0\"')\n",
    "sqldf('select * from mtcars limit 3')\n",
    "sqldf('select * from mtcars order by mpg')\n",
    "sqldf('select sum(mpg), max(mpg) from mtcars')\n",
    "sqldf('select mpg, disp from mtcars group by mpg')\n"
   ]
  },
  {
   "cell_type": "code",
   "execution_count": null,
   "metadata": {},
   "outputs": [],
   "source": []
  }
 ],
 "metadata": {
  "kernelspec": {
   "display_name": "R",
   "language": "R",
   "name": "ir"
  },
  "language_info": {
   "codemirror_mode": "r",
   "file_extension": ".r",
   "mimetype": "text/x-r-source",
   "name": "R",
   "pygments_lexer": "r",
   "version": "3.4.3"
  }
 },
 "nbformat": 4,
 "nbformat_minor": 2
}
