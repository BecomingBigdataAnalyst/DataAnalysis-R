{
 "cells": [
  {
   "cell_type": "markdown",
   "metadata": {},
   "source": [
    "#데이터를 외부로부터 가져오는 방법\n",
    "#1. 키보드로 입력 -edit(), fix()\n",
    "#작은 데이터 집합을 사용해야 하는 경우 유용"
   ]
  }
 ],
 "metadata": {
  "kernelspec": {
   "display_name": "R",
   "language": "R",
   "name": "ir"
  }
 },
 "nbformat": 4,
 "nbformat_minor": 2
}
